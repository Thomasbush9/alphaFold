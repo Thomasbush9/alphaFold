{
 "cells": [
  {
   "cell_type": "markdown",
   "metadata": {},
   "source": [
    "## Basic Setup\n",
    "\n",
    "Run the cells below for the basic setup of this notebook."
   ]
  },
  {
   "cell_type": "code",
   "execution_count": 27,
   "metadata": {},
   "outputs": [
    {
     "name": "stdout",
     "output_type": "stream",
     "text": [
      "No colab environment, assuming local setup.\n"
     ]
    }
   ],
   "source": [
    "try:\n",
    "    from google.colab import drive # type: ignore\n",
    "    IN_COLAB = True\n",
    "except:\n",
    "    IN_COLAB = False\n",
    "    print('No colab environment, assuming local setup.')\n",
    "\n",
    "if IN_COLAB:\n",
    "    drive.mount('/content/drive')\n",
    "\n",
    "    # TODO: Enter the foldername in your Drive where you have saved the unzipped\n",
    "    # turorials folder, e.g. 'alphafold-decoded/tutorials'\n",
    "    FOLDERNAME = None\n",
    "    assert FOLDERNAME is not None, \"[!] Enter the foldername.\"\n",
    "\n",
    "    # Now that we've mounted your Drive, this ensures that\n",
    "    # the Python interpreter of the Colab VM can load\n",
    "    # python files from within it.\n",
    "    import sys\n",
    "    sys.path.append('/content/drive/My Drive/{}'.format(FOLDERNAME))\n",
    "    %cd /content/drive/My\\ Drive/$FOLDERNAME\n",
    "    %pip install py3dmol\n",
    "    %pip install modelcif\n",
    "\n",
    "    print('Connected COLAB to Google Drive.')\n",
    "\n",
    "import os\n",
    "    \n",
    "base_folder = '../model'\n",
    "control_folder = f'{base_folder}/control_values'\n",
    "\n",
    "assert os.path.isdir(control_folder), 'Folder \"control_values\" not found, make sure that FOLDERNAME is set correctly.' if IN_COLAB else 'Folder \"control_values\" not found, make sure that your root folder is set correctly.'"
   ]
  },
  {
   "cell_type": "code",
   "execution_count": 75,
   "metadata": {},
   "outputs": [
    {
     "name": "stdout",
     "output_type": "stream",
     "text": [
      "Weights folder already exists.\n"
     ]
    }
   ],
   "source": [
    "# Run this to download the Openfold Weights\n",
    "import subprocess\n",
    "\n",
    "if not os.path.isdir('../model/openfold_params') or not os.listdir('../model/openfold_params'):\n",
    "    print('Download Openfold weights...')\n",
    "    %pip install awscli\n",
    "    subprocess.call(['bash', '../model/download_openfold_params.sh', '../model'])\n",
    "else:\n",
    "    print('Weights folder already exists.')\n"
   ]
  },
  {
   "cell_type": "code",
   "execution_count": 3,
   "metadata": {},
   "outputs": [],
   "source": [
    "%load_ext autoreload\n",
    "%autoreload 2\n",
    "%matplotlib inline"
   ]
  },
  {
   "cell_type": "code",
   "execution_count": 4,
   "metadata": {},
   "outputs": [],
   "source": [
    "from matplotlib import pyplot as plt\n",
    "import torch\n",
    "import math"
   ]
  },
  {
   "cell_type": "code",
   "execution_count": 5,
   "metadata": {},
   "outputs": [
    {
     "data": {
      "text/plain": [
       "<torch.autograd.grad_mode.set_grad_enabled at 0x106dc0820>"
      ]
     },
     "execution_count": 5,
     "metadata": {},
     "output_type": "execute_result"
    }
   ],
   "source": [
    "torch.set_grad_enabled(False)"
   ]
  },
  {
   "cell_type": "code",
   "execution_count": 28,
   "metadata": {},
   "outputs": [],
   "source": [
    "from pathlib import Path \n",
    "import sys\n",
    "base_folder = Path('/Users/thomasbush/Documents/ML/alphafold-decoded/tutorials')\n",
    "\n",
    "# Remove wrong paths if any\n",
    "sys.path = [p for p in sys.path if '../model' not in p]\n",
    "\n",
    "# Add base path again\n",
    "sys.path.insert(0, str(base_folder))"
   ]
  },
  {
   "cell_type": "code",
   "execution_count": 12,
   "metadata": {},
   "outputs": [
    {
     "data": {
      "text/plain": [
       "'/Users/thomasbush/Documents/ML/alphafold-decoded/tutorials/model'"
      ]
     },
     "execution_count": 12,
     "metadata": {},
     "output_type": "execute_result"
    }
   ],
   "source": [
    "os.getcwd()"
   ]
  },
  {
   "cell_type": "markdown",
   "metadata": {},
   "source": [
    "# Model\n",
    "\n",
    "We are ready. All the parts of Alphafold are implemented, and all that's left to do is to stitch them together into the full model. \n",
    "\n",
    "It is described in Algorithm 2 in the paper. Note that we omit the template stack, and we don't do ensembling. Therefore, you can omit the lines 3, 4, 19, 20, and 7-13.\n",
    "\n",
    "Go to `model.py` and implement the initialization and the forward pass. After that, check your code by running the following cell. You might have to fix some datatype missmatches that fell through earlier checks. If they come up, go back to the methods and make sure that any tensors you create in them are of the right dtype (you can grab the dtype from one of the arguments of the method)."
   ]
  },
  {
   "cell_type": "code",
   "execution_count": null,
   "metadata": {},
   "outputs": [
    {
     "data": {
      "text/plain": [
       "torch.Size([12, 3, 4, 2])"
      ]
     },
     "execution_count": 24,
     "metadata": {},
     "output_type": "execute_result"
    }
   ],
   "source": [
    "x = torch.randn((12, 3, 4))\n",
    "y = torch.randn((12, 3, 4))\n",
    "\n",
    "l = [x, y]\n",
    "\n",
    "torch.stack(l, dim=-1).shape"
   ]
  },
  {
   "cell_type": "code",
   "execution_count": 77,
   "metadata": {},
   "outputs": [
    {
     "name": "stderr",
     "output_type": "stream",
     "text": [
      "/Users/thomasbush/Documents/ML/alphafold-decoded/tutorials/model/control_values/model_checks.py:57: FutureWarning: You are using `torch.load` with `weights_only=False` (the current default value), which uses the default pickle module implicitly. It is possible to construct malicious pickle data which will execute arbitrary code during unpickling (See https://github.com/pytorch/pytorch/blob/main/SECURITY.md#untrusted-models for more details). In a future release, the default value for `weights_only` will be flipped to `True`. This limits the functions that could be executed during unpickling. Arbitrary objects will no longer be allowed to be loaded via this mode unless they are explicitly allowlisted by the user via `torch.serialization.add_safe_globals`. We recommend you start setting `weights_only=True` for any use case where you don't have full control of the loaded file. Please open an issue on GitHub for any issues related to this experimental feature.\n",
      "  expected_shapes = torch.load(shapes_path)\n"
     ]
    },
    {
     "name": "stdout",
     "output_type": "stream",
     "text": [
      "Starting Iteration 0\n",
      "Starting Iteration 1\n",
      "Starting Iteration 0\n",
      "Starting Iteration 1\n"
     ]
    },
    {
     "name": "stderr",
     "output_type": "stream",
     "text": [
      "/Users/thomasbush/Documents/ML/alphafold-decoded/tutorials/model/control_values/model_checks.py:134: FutureWarning: You are using `torch.load` with `weights_only=False` (the current default value), which uses the default pickle module implicitly. It is possible to construct malicious pickle data which will execute arbitrary code during unpickling (See https://github.com/pytorch/pytorch/blob/main/SECURITY.md#untrusted-models for more details). In a future release, the default value for `weights_only` will be flipped to `True`. This limits the functions that could be executed during unpickling. Arbitrary objects will no longer be allowed to be loaded via this mode unless they are explicitly allowlisted by the user via `torch.serialization.add_safe_globals`. We recommend you start setting `weights_only=True` for any use case where you don't have full control of the loaded file. Please open an issue on GitHub for any issues related to this experimental feature.\n",
      "  expected_out = torch.load(out_file_name)\n",
      "/Users/thomasbush/Documents/ML/alphafold-decoded/tutorials/model/control_values/model_checks.py:139: FutureWarning: You are using `torch.load` with `weights_only=False` (the current default value), which uses the default pickle module implicitly. It is possible to construct malicious pickle data which will execute arbitrary code during unpickling (See https://github.com/pytorch/pytorch/blob/main/SECURITY.md#untrusted-models for more details). In a future release, the default value for `weights_only` will be flipped to `True`. This limits the functions that could be executed during unpickling. Arbitrary objects will no longer be allowed to be loaded via this mode unless they are explicitly allowlisted by the user via `torch.serialization.add_safe_globals`. We recommend you start setting `weights_only=True` for any use case where you don't have full control of the loaded file. Please open an issue on GitHub for any issues related to this experimental feature.\n",
      "  expected_out = torch.load(out_file_name)\n"
     ]
    }
   ],
   "source": [
    "from model import Model\n",
    "from control_values.model_checks import c_m, c_z, c_e, f_e, tf_dim, c_s, num_blocks_evoformer, num_blocks_extra_msa\n",
    "from control_values.model_checks import test_module_shape, test_module_method\n",
    "\n",
    "model = Model(c_m, c_z, c_e, f_e, tf_dim, c_s, num_blocks_extra_msa, num_blocks_evoformer)\n",
    "\n",
    "test_module_shape(model, 'model', control_folder)\n",
    "\n",
    "def test_method(*args):\n",
    "    outputs = model(*args)\n",
    "    return outputs['final_positions'], outputs['position_mask'], outputs['angles'], outputs['frames']\n",
    "\n",
    "\n",
    "test_module_method(model, 'model', 'batch', ('final_positions', 'position_mask', 'angles', 'frames'), control_folder, test_method)"
   ]
  },
  {
   "cell_type": "markdown",
   "metadata": {},
   "source": [
    "## Building the Real Model\n",
    "\n",
    "Our model passed the check for the toy input. Now it's time to load the model in real size, with real weights, and do a real evaluation pass. For this, it's much faster to use the GPU. If you are in Colab, make sure select a GPU under \"Runtime -> Change runtime type\" if you haven't done so before."
   ]
  },
  {
   "cell_type": "code",
   "execution_count": 78,
   "metadata": {},
   "outputs": [
    {
     "name": "stdout",
     "output_type": "stream",
     "text": [
      "MPS (Metal Performance Shaders) available.\n"
     ]
    }
   ],
   "source": [
    "if torch.cuda.is_available():\n",
    "    device = 'cuda'\n",
    "    print('Compatible GPU available.')\n",
    "elif torch.backends.mps.is_available():\n",
    "    device = 'mps'\n",
    "    print('MPS (Metal Performance Shaders) available.')\n",
    "else:\n",
    "    device = 'cpu'\n",
    "    print('No compatible GPU, fallback to CPU.')\n"
   ]
  },
  {
   "cell_type": "markdown",
   "metadata": {},
   "source": [
    "We are using the weights from Openfold for our model, as it is also written in PyTorch. However, we made some tweaks to the data without changing the actual weights (like renaming a few modules, swapping the angles so that they are predicted as (cos(phi), sin(phi)) like it's said in the paper, not (sin(phi), cos(phi))). You can look at the tweaks in `utils.py` in the method `load_openfold_weights`. \n",
    "\n",
    "If you named all your modules according to the descriptions, the following cell should run cleanly and tell you that all keys in the state dictionary matched successfully."
   ]
  },
  {
   "cell_type": "code",
   "execution_count": 89,
   "metadata": {},
   "outputs": [
    {
     "data": {
      "text/plain": [
       "<All keys matched successfully>"
      ]
     },
     "execution_count": 89,
     "metadata": {},
     "output_type": "execute_result"
    }
   ],
   "source": [
    "from utils import load_openfold_weights\n",
    "model = Model()\n",
    "openfold_weights = load_openfold_weights('openfold_params/finetuning_2.pt')\n",
    "\n",
    "model.load_state_dict(openfold_weights)"
   ]
  },
  {
   "cell_type": "markdown",
   "metadata": {},
   "source": [
    "As the first step in the forward pass, we'll call `create_features_from_a3m` four times in a row, to get four different input batches (different because of the random selection of cluster centers) four the four different cycles. "
   ]
  },
  {
   "cell_type": "code",
   "execution_count": 90,
   "metadata": {},
   "outputs": [
    {
     "name": "stderr",
     "output_type": "stream",
     "text": [
      "Iterating sequences: 100%|██████████| 8360/8360 [00:00<00:00, 30425.55it/s]\n",
      "Iterating sequences: 100%|██████████| 8360/8360 [00:00<00:00, 29507.25it/s]\n",
      "Iterating sequences: 100%|██████████| 8360/8360 [00:00<00:00, 29176.43it/s]\n",
      "Iterating sequences: 100%|██████████| 8360/8360 [00:00<00:00, 29244.86it/s]\n"
     ]
    }
   ],
   "source": [
    "from feature_extraction.feature_extraction import create_features_from_a3m\n",
    "\n",
    "batch = None\n",
    "\n",
    "##########################################################################\n",
    "# TODO: Compute four single batches with create_features_from_a3m.       #\n",
    "#   Then, stack all the tensors in the list to get the complete batch.   #\n",
    "##########################################################################\n",
    "\n",
    "# Replace \"pass\" statement with your code\n",
    "batch = {}\n",
    "\n",
    "for i in range(4):\n",
    "    single_b = create_features_from_a3m('/Users/thomasbush/Documents/ML/alphafold-decoded/tutorials/feature_extraction/alignment_tautomerase.a3m')\n",
    "    for key, value in single_b.items():\n",
    "        if key in batch:\n",
    "            batch[key].append(value)\n",
    "        else:\n",
    "            batch[key] = [value]\n",
    "\n",
    "batch = {key: torch.stack(value, dim=-1) for key, value in batch.items()}\n",
    "##########################################################################\n",
    "#               END OF YOUR CODE                                         #\n",
    "##########################################################################\n",
    "\n",
    "expected_shapes = {\n",
    "    'msa_feat': (512, 59, 49, 4),\n",
    "    'extra_msa_feat': (5120, 59, 25, 4),\n",
    "    'target_feat': (59, 21, 4),\n",
    "    'residue_index': (59, 4),\n",
    "}\n",
    "\n",
    "shapes = { key: value.shape for key, value in batch.items() }\n",
    "assert set(expected_shapes.keys()) == set(shapes.keys())\n",
    "for key, shape in shapes.items():\n",
    "    assert expected_shapes[key] == shape, f'Shape mismatch for {key}: {shape} vs {expected_shapes[key]}'\n",
    "\n",
    "\n"
   ]
  },
  {
   "cell_type": "markdown",
   "metadata": {},
   "source": [
    "For a faster forward pass, we'll map the model and the inputs to the GPU, if a compatible one is available."
   ]
  },
  {
   "cell_type": "code",
   "execution_count": 91,
   "metadata": {},
   "outputs": [],
   "source": [
    "model.to(device)\n",
    "for key, value in batch.items():\n",
    "    batch[key] = value.to(device)"
   ]
  },
  {
   "cell_type": "markdown",
   "metadata": {},
   "source": [
    "Now it's time for the forward pass. If you weren't careful with mapping all the tensors you created within the methods to the correct device (which you can grab from any of the input tensors of the methods), you'll have to do some debugging before this runs through."
   ]
  },
  {
   "cell_type": "code",
   "execution_count": 92,
   "metadata": {},
   "outputs": [
    {
     "name": "stdout",
     "output_type": "stream",
     "text": [
      "Starting Iteration 0\n",
      "Starting Iteration 1\n",
      "Starting Iteration 2\n",
      "Starting Iteration 3\n"
     ]
    }
   ],
   "source": [
    "with torch.no_grad():\n",
    "    outputs = model(batch)"
   ]
  },
  {
   "cell_type": "markdown",
   "metadata": {},
   "source": [
    "We wrote a little wrapper around the modelcif python library, to create an mmcif file from our atom positions. If you are interested, you can inspect it in `utils.py`. The following cell uses this method to create `prediction.mmcif`."
   ]
  },
  {
   "cell_type": "code",
   "execution_count": 93,
   "metadata": {},
   "outputs": [],
   "source": [
    "from utils import to_modelcif\n",
    "from geometry.residue_constants import restypes\n",
    "\n",
    "atom_positions = outputs['final_positions'][..., -1]\n",
    "atom_mask = outputs['position_mask'][..., -1]\n",
    "seq_inds = batch['target_feat'].cpu()[..., -1].argmax(dim=-1).numpy()\n",
    "seq = ''.join([restypes[ind] for ind in seq_inds])\n",
    "\n",
    "cif_str = to_modelcif(atom_positions, atom_mask, seq)\n",
    "\n",
    "with open('prediction.mmcif', 'w') as f:\n",
    "    f.write(cif_str)"
   ]
  },
  {
   "cell_type": "markdown",
   "metadata": {},
   "source": [
    "The py3Dmol library allows us to visualize our prediction in Jupyter Notebooks. You can uncomment the second `view = ...` line and comment the first one out, to display the protein prediction alongside the crystal structure from the PDB (if you do so, the little sticks in the background are the second part of the dimer from the PDB)."
   ]
  },
  {
   "cell_type": "code",
   "execution_count": 94,
   "metadata": {},
   "outputs": [
    {
     "data": {
      "application/3dmoljs_load.v0": "<div id=\"3dmolviewer_1753240947318424\"  style=\"position: relative; width: 640px; height: 480px;\">\n        <p id=\"3dmolwarning_1753240947318424\" style=\"background-color:#ffcccc;color:black\">3Dmol.js failed to load for some reason.  Please check your browser console for error messages.<br></p>\n        </div>\n<script>\n\nvar loadScriptAsync = function(uri){\n  return new Promise((resolve, reject) => {\n    //this is to ignore the existence of requirejs amd\n    var savedexports, savedmodule;\n    if (typeof exports !== 'undefined') savedexports = exports;\n    else exports = {}\n    if (typeof module !== 'undefined') savedmodule = module;\n    else module = {}\n\n    var tag = document.createElement('script');\n    tag.src = uri;\n    tag.async = true;\n    tag.onload = () => {\n        exports = savedexports;\n        module = savedmodule;\n        resolve();\n    };\n  var firstScriptTag = document.getElementsByTagName('script')[0];\n  firstScriptTag.parentNode.insertBefore(tag, firstScriptTag);\n});\n};\n\nif(typeof $3Dmolpromise === 'undefined') {\n$3Dmolpromise = null;\n  $3Dmolpromise = loadScriptAsync('https://cdn.jsdelivr.net/npm/3dmol@2.5.0/build/3Dmol-min.js');\n}\n\nvar viewer_1753240947318424 = null;\nvar warn = document.getElementById(\"3dmolwarning_1753240947318424\");\nif(warn) {\n    warn.parentNode.removeChild(warn);\n}\n$3Dmolpromise.then(function() {\nviewer_1753240947318424 = $3Dmol.createViewer(document.getElementById(\"3dmolviewer_1753240947318424\"),{backgroundColor:\"white\"});\n$3Dmol.download(\"2OP8\", viewer_1753240947318424, {}, function() {\nviewer_1753240947318424.zoomTo();\n\tviewer_1753240947318424.addModel(\"data_model\\n_entry.id model\\n_struct.entry_id model\\n_struct.pdbx_model_details .\\n_struct.pdbx_structure_determination_methodology computational\\n_struct.title 'AlphaFold prediction'\\n_audit_conform.dict_location https://raw.githubusercontent.com/ihmwg/ModelCIF/80e1e22/dist/mmcif_ma.dic\\n_audit_conform.dict_name mmcif_ma.dic\\n_audit_conform.dict_version 1.4.7\\n#\\nloop_\\n_chem_comp.id\\n_chem_comp.type\\n_chem_comp.name\\n_chem_comp.formula\\n_chem_comp.formula_weight\\n_chem_comp.ma_provenance\\nALA 'L-peptide linking' ALANINE 'C3 H7 N O2' 89.094 'CCD Core'\\nARG 'L-peptide linking' ARGININE 'C6 H15 N4 O2 1' 175.212 'CCD Core'\\nASP 'L-peptide linking' 'ASPARTIC ACID' 'C4 H7 N O4' 133.103 'CCD Core'\\nGLN 'L-peptide linking' GLUTAMINE 'C5 H10 N2 O3' 146.146 'CCD Core'\\nGLU 'L-peptide linking' 'GLUTAMIC ACID' 'C5 H9 N O4' 147.130 'CCD Core'\\nGLY 'peptide linking' GLYCINE 'C2 H5 N O2' 75.067 'CCD Core'\\nHIS 'L-peptide linking' HISTIDINE 'C6 H10 N3 O2 1' 156.165 'CCD Core'\\nILE 'L-peptide linking' ISOLEUCINE 'C6 H13 N O2' 131.175 'CCD Core'\\nLEU 'L-peptide linking' LEUCINE 'C6 H13 N O2' 131.175 'CCD Core'\\nLYS 'L-peptide linking' LYSINE 'C6 H15 N2 O2 1' 147.198 'CCD Core'\\nMET 'L-peptide linking' METHIONINE 'C5 H11 N O2 S' 149.208 'CCD Core'\\nPHE 'L-peptide linking' PHENYLALANINE 'C9 H11 N O2' 165.192 'CCD Core'\\nPRO 'L-peptide linking' PROLINE 'C5 H9 N O2' 115.132 'CCD Core'\\nSER 'L-peptide linking' SERINE 'C3 H7 N O3' 105.093 'CCD Core'\\nTHR 'L-peptide linking' THREONINE 'C4 H9 N O3' 119.120 'CCD Core'\\nVAL 'L-peptide linking' VALINE 'C5 H11 N O2' 117.148 'CCD Core'\\n#\\n#\\nloop_\\n_entity.id\\n_entity.type\\n_entity.src_method\\n_entity.pdbx_description\\n_entity.formula_weight\\n_entity.pdbx_number_of_molecules\\n_entity.details\\n1 polymer man 'Model subunit' 7453.286 1 .\\n#\\n#\\nloop_\\n_entity_poly.entity_id\\n_entity_poly.type\\n_entity_poly.nstd_linkage\\n_entity_poly.nstd_monomer\\n_entity_poly.pdbx_strand_id\\n_entity_poly.pdbx_seq_one_letter_code\\n_entity_poly.pdbx_seq_one_letter_code_can\\n1 polypeptide(L) no no A\\nPIAQIHILEGRSDEQKETLIREVSEAISRSLDAPLTSVRVIITEMAKGHFGIGGELASK\\nPIAQIHILEGRSDEQKETLIREVSEAISRSLDAPLTSVRVIITEMAKGHFGIGGELASK\\n#\\n#\\nloop_\\n_entity_poly_seq.entity_id\\n_entity_poly_seq.num\\n_entity_poly_seq.mon_id\\n_entity_poly_seq.hetero\\n1 1 PRO .\\n1 2 ILE .\\n1 3 ALA .\\n1 4 GLN .\\n1 5 ILE .\\n1 6 HIS .\\n1 7 ILE .\\n1 8 LEU .\\n1 9 GLU .\\n1 10 GLY .\\n1 11 ARG .\\n1 12 SER .\\n1 13 ASP .\\n1 14 GLU .\\n1 15 GLN .\\n1 16 LYS .\\n1 17 GLU .\\n1 18 THR .\\n1 19 LEU .\\n1 20 ILE .\\n1 21 ARG .\\n1 22 GLU .\\n1 23 VAL .\\n1 24 SER .\\n1 25 GLU .\\n1 26 ALA .\\n1 27 ILE .\\n1 28 SER .\\n1 29 ARG .\\n1 30 SER .\\n1 31 LEU .\\n1 32 ASP .\\n1 33 ALA .\\n1 34 PRO .\\n1 35 LEU .\\n1 36 THR .\\n1 37 SER .\\n1 38 VAL .\\n1 39 ARG .\\n1 40 VAL .\\n1 41 ILE .\\n1 42 ILE .\\n1 43 THR .\\n1 44 GLU .\\n1 45 MET .\\n1 46 ALA .\\n1 47 LYS .\\n1 48 GLY .\\n1 49 HIS .\\n1 50 PHE .\\n1 51 GLY .\\n1 52 ILE .\\n1 53 GLY .\\n1 54 GLY .\\n1 55 GLU .\\n1 56 LEU .\\n1 57 ALA .\\n1 58 SER .\\n1 59 LYS .\\n#\\n#\\nloop_\\n_struct_asym.id\\n_struct_asym.entity_id\\n_struct_asym.details\\nA 1 'Model subunit A'\\n#\\n#\\nloop_\\n_pdbx_poly_seq_scheme.asym_id\\n_pdbx_poly_seq_scheme.entity_id\\n_pdbx_poly_seq_scheme.seq_id\\n_pdbx_poly_seq_scheme.mon_id\\n_pdbx_poly_seq_scheme.pdb_seq_num\\n_pdbx_poly_seq_scheme.auth_seq_num\\n_pdbx_poly_seq_scheme.pdb_mon_id\\n_pdbx_poly_seq_scheme.auth_mon_id\\n_pdbx_poly_seq_scheme.pdb_strand_id\\n_pdbx_poly_seq_scheme.pdb_ins_code\\nA 1 1 PRO 1 1 PRO PRO A .\\nA 1 2 ILE 2 2 ILE ILE A .\\nA 1 3 ALA 3 3 ALA ALA A .\\nA 1 4 GLN 4 4 GLN GLN A .\\nA 1 5 ILE 5 5 ILE ILE A .\\nA 1 6 HIS 6 6 HIS HIS A .\\nA 1 7 ILE 7 7 ILE ILE A .\\nA 1 8 LEU 8 8 LEU LEU A .\\nA 1 9 GLU 9 9 GLU GLU A .\\nA 1 10 GLY 10 10 GLY GLY A .\\nA 1 11 ARG 11 11 ARG ARG A .\\nA 1 12 SER 12 12 SER SER A .\\nA 1 13 ASP 13 13 ASP ASP A .\\nA 1 14 GLU 14 14 GLU GLU A .\\nA 1 15 GLN 15 15 GLN GLN A .\\nA 1 16 LYS 16 16 LYS LYS A .\\nA 1 17 GLU 17 17 GLU GLU A .\\nA 1 18 THR 18 18 THR THR A .\\nA 1 19 LEU 19 19 LEU LEU A .\\nA 1 20 ILE 20 20 ILE ILE A .\\nA 1 21 ARG 21 21 ARG ARG A .\\nA 1 22 GLU 22 22 GLU GLU A .\\nA 1 23 VAL 23 23 VAL VAL A .\\nA 1 24 SER 24 24 SER SER A .\\nA 1 25 GLU 25 25 GLU GLU A .\\nA 1 26 ALA 26 26 ALA ALA A .\\nA 1 27 ILE 27 27 ILE ILE A .\\nA 1 28 SER 28 28 SER SER A .\\nA 1 29 ARG 29 29 ARG ARG A .\\nA 1 30 SER 30 30 SER SER A .\\nA 1 31 LEU 31 31 LEU LEU A .\\nA 1 32 ASP 32 32 ASP ASP A .\\nA 1 33 ALA 33 33 ALA ALA A .\\nA 1 34 PRO 34 34 PRO PRO A .\\nA 1 35 LEU 35 35 LEU LEU A .\\nA 1 36 THR 36 36 THR THR A .\\nA 1 37 SER 37 37 SER SER A .\\nA 1 38 VAL 38 38 VAL VAL A .\\nA 1 39 ARG 39 39 ARG ARG A .\\nA 1 40 VAL 40 40 VAL VAL A .\\nA 1 41 ILE 41 41 ILE ILE A .\\nA 1 42 ILE 42 42 ILE ILE A .\\nA 1 43 THR 43 43 THR THR A .\\nA 1 44 GLU 44 44 GLU GLU A .\\nA 1 45 MET 45 45 MET MET A .\\nA 1 46 ALA 46 46 ALA ALA A .\\nA 1 47 LYS 47 47 LYS LYS A .\\nA 1 48 GLY 48 48 GLY GLY A .\\nA 1 49 HIS 49 49 HIS HIS A .\\nA 1 50 PHE 50 50 PHE PHE A .\\nA 1 51 GLY 51 51 GLY GLY A .\\nA 1 52 ILE 52 52 ILE ILE A .\\nA 1 53 GLY 53 53 GLY GLY A .\\nA 1 54 GLY 54 54 GLY GLY A .\\nA 1 55 GLU 55 55 GLU GLU A .\\nA 1 56 LEU 56 56 LEU LEU A .\\nA 1 57 ALA 57 57 ALA ALA A .\\nA 1 58 SER 58 58 SER SER A .\\nA 1 59 LYS 59 59 LYS LYS A .\\n#\\n#\\nloop_\\n_ma_data.id\\n_ma_data.name\\n_ma_data.content_type\\n_ma_data.content_type_other_details\\n1 'Model subunit' target .\\n2 Model 'model coordinates' .\\n#\\n#\\nloop_\\n_ma_target_entity.entity_id\\n_ma_target_entity.data_id\\n_ma_target_entity.origin\\n1 1 designed\\n#\\n#\\nloop_\\n_ma_target_entity_instance.asym_id\\n_ma_target_entity_instance.entity_id\\n_ma_target_entity_instance.details\\nA 1 'Model subunit A'\\n#\\n#\\nloop_\\n_ma_model_list.ordinal_id\\n_ma_model_list.model_name\\n_ma_model_list.data_id\\n_ma_model_list.model_type\\n_ma_model_list.model_type_other_details\\n1 Model 2 'Ab initio model' .\\n#\\n#\\nloop_\\n_ma_model_group.id\\n_ma_model_group.name\\n_ma_model_group.details\\n1 'All models' .\\n#\\n#\\nloop_\\n_ma_model_group_link.group_id\\n_ma_model_group_link.model_id\\n1 1\\n#\\n#\\nloop_\\n_atom_site.group_PDB\\n_atom_site.id\\n_atom_site.type_symbol\\n_atom_site.label_atom_id\\n_atom_site.label_alt_id\\n_atom_site.label_comp_id\\n_atom_site.label_seq_id\\n_atom_site.auth_seq_id\\n_atom_site.pdbx_PDB_ins_code\\n_atom_site.label_asym_id\\n_atom_site.Cartn_x\\n_atom_site.Cartn_y\\n_atom_site.Cartn_z\\n_atom_site.occupancy\\n_atom_site.label_entity_id\\n_atom_site.auth_asym_id\\n_atom_site.auth_comp_id\\n_atom_site.B_iso_or_equiv\\n_atom_site.pdbx_PDB_model_num\\nATOM 1 N N . PRO 1 1 ? A -12.917064 -3.8775253 -11.872387 1.000 1 A PRO . 1\\nATOM 2 C CA . PRO 1 1 ? A -12.775145 -2.4323545 -11.680297 1.000 1 A PRO . 1\\nATOM 3 C C . PRO 1 1 ? A -11.620718 -2.07157 -10.748168 1.000 1 A PRO . 1\\nATOM 4 C CB . PRO 1 1 ? A -14.118132 -2.0243232 -11.069409 1.000 1 A PRO . 1\\nATOM 5 O O . PRO 1 1 ? A -11.52009 -2.6149442 -9.6451645 1.000 1 A PRO . 1\\nATOM 6 C CG . PRO 1 1 ? A -14.837503 -3.312944 -10.832952 1.000 1 A PRO . 1\\nATOM 7 C CD . PRO 1 1 ? A -14.096942 -4.40985 -11.54265 1.000 1 A PRO . 1\\nATOM 8 N N . ILE 2 2 ? A -10.246442 -2.029643 -13.4421015 1.000 1 A ILE . 1\\nATOM 9 C CA . ILE 2 2 ? A -11.149317 -2.7406301 -12.543496 1.000 1 A ILE . 1\\nATOM 10 C C . ILE 2 2 ? A -10.605043 -2.6886275 -11.117737 1.000 1 A ILE . 1\\nATOM 11 C CB . ILE 2 2 ? A -11.349803 -4.206967 -12.987539 1.000 1 A ILE . 1\\nATOM 12 O O . ILE 2 2 ? A -9.392593 -2.7672715 -10.906191 1.000 1 A ILE . 1\\nATOM 13 C CG1 . ILE 2 2 ? A -11.680376 -4.2715836 -14.483089 1.000 1 A ILE . 1\\nATOM 14 C CG2 . ILE 2 2 ? A -12.445838 -4.878308 -12.154813 1.000 1 A ILE . 1\\nATOM 15 C CD1 . ILE 2 2 ? A -11.707661 -5.684136 -15.050532 1.000 1 A ILE . 1\\nATOM 16 N N . ALA 3 3 ? A -12.41117 -1.3984663 -12.584453 1.000 1 A ALA . 1\\nATOM 17 C CA . ALA 3 3 ? A -12.071091 -2.5385463 -11.737128 1.000 1 A ALA . 1\\nATOM 18 C C . ALA 3 3 ? A -10.559004 -2.677792 -11.585864 1.000 1 A ALA . 1\\nATOM 19 C CB . ALA 3 3 ? A -12.666004 -3.8229527 -12.309248 1.000 1 A ALA . 1\\nATOM 20 O O . ALA 3 3 ? A -9.8133 -2.5010943 -12.552134 1.000 1 A ALA . 1\\nATOM 21 N N . GLN 4 4 ? A -11.828416 -1.4860902 -13.070824 1.000 1 A GLN . 1\\nATOM 22 C CA . GLN 4 4 ? A -11.823768 -2.6649752 -12.211052 1.000 1 A GLN . 1\\nATOM 23 C C . GLN 4 4 ? A -10.71037 -2.5827491 -11.170733 1.000 1 A GLN . 1\\nATOM 24 C CB . GLN 4 4 ? A -11.669994 -3.9377627 -13.045128 1.000 1 A GLN . 1\\nATOM 25 O O . GLN 4 4 ? A -9.718696 -1.877919 -11.369525 1.000 1 A GLN . 1\\nATOM 26 C CG . GLN 4 4 ? A -12.992018 -4.5246243 -13.521072 1.000 1 A GLN . 1\\nATOM 27 C CD . GLN 4 4 ? A -12.81984 -5.843169 -14.251529 1.000 1 A GLN . 1\\nATOM 28 N NE2 . GLN 4 4 ? A -13.933857 -6.4782324 -14.599428 1.000 1 A GLN . 1\\nATOM 29 O OE1 . GLN 4 4 ? A -11.694744 -6.2870317 -14.501934 1.000 1 A GLN . 1\\nATOM 30 N N . ILE 5 5 ? A -12.709632 -2.2023866 -11.505222 1.000 1 A ILE . 1\\nATOM 31 C CA . ILE 5 5 ? A -11.595454 -3.141782 -11.570965 1.000 1 A ILE . 1\\nATOM 32 C C . ILE 5 5 ? A -10.293474 -2.4232004 -11.224243 1.000 1 A ILE . 1\\nATOM 33 C CB . ILE 5 5 ? A -11.490626 -3.7975464 -12.966134 1.000 1 A ILE . 1\\nATOM 34 O O . ILE 5 5 ? A -10.14978 -1.2260747 -11.483501 1.000 1 A ILE . 1\\nATOM 35 C CG1 . ILE 5 5 ? A -12.85025 -4.3613567 -13.394694 1.000 1 A ILE . 1\\nATOM 36 C CG2 . ILE 5 5 ? A -10.418461 -4.8911066 -12.969628 1.000 1 A ILE . 1\\nATOM 37 C CD1 . ILE 5 5 ? A -12.896143 -4.8342733 -14.841167 1.000 1 A ILE . 1\\nATOM 38 N N . HIS 6 6 ? A -12.654789 -2.582779 -11.314097 1.000 1 A HIS . 1\\nATOM 39 C CA . HIS 6 6 ? A -11.44072 -3.367135 -11.118785 1.000 1 A HIS . 1\\nATOM 40 C C . HIS 6 6 ? A -10.20125 -2.5718818 -11.514903 1.000 1 A HIS . 1\\nATOM 41 C CB . HIS 6 6 ? A -11.50843 -4.6679316 -11.920979 1.000 1 A HIS . 1\\nATOM 42 O O . HIS 6 6 ? A -10.302809 -1.5685741 -12.224587 1.000 1 A HIS . 1\\nATOM 43 C CG . HIS 6 6 ? A -12.350732 -5.724797 -11.280307 1.000 1 A HIS . 1\\nATOM 44 C CD2 . HIS 6 6 ? A -13.534784 -6.2650957 -11.652952 1.000 1 A HIS . 1\\nATOM 45 N ND1 . HIS 6 6 ? A -11.994967 -6.348008 -10.103798 1.000 1 A HIS . 1\\nATOM 46 C CE1 . HIS 6 6 ? A -12.926568 -7.229373 -9.780386 1.000 1 A HIS . 1\\nATOM 47 N NE2 . HIS 6 6 ? A -13.871935 -7.1985655 -10.703992 1.000 1 A HIS . 1\\nATOM 48 N N . ILE 7 7 ? A -11.824765 -2.5896318 -10.971503 1.000 1 A ILE . 1\\nATOM 49 C CA . ILE 7 7 ? A -10.62625 -2.3116703 -11.755389 1.000 1 A ILE . 1\\nATOM 50 C C . ILE 7 7 ? A -9.938928 -1.0575373 -11.220163 1.000 1 A ILE . 1\\nATOM 51 C CB . ILE 7 7 ? A -10.958311 -2.1423526 -13.254916 1.000 1 A ILE . 1\\nATOM 52 O O . ILE 7 7 ? A -10.547867 -0.27198416 -10.490046 1.000 1 A ILE . 1\\nATOM 53 C CG1 . ILE 7 7 ? A -11.811687 -3.3162398 -13.748739 1.000 1 A ILE . 1\\nATOM 54 C CG2 . ILE 7 7 ? A -9.6751795 -2.0124083 -14.080818 1.000 1 A ILE . 1\\nATOM 55 C CD1 . ILE 7 7 ? A -12.323186 -3.1534145 -15.173485 1.000 1 A ILE . 1\\nATOM 56 N N . LEU 8 8 ? A -11.330029 -2.7890074 -11.340693 1.000 1 A LEU . 1\\nATOM 57 C CA . LEU 8 8 ? A -10.17385 -2.1048865 -11.909375 1.000 1 A LEU . 1\\nATOM 58 C C . LEU 8 8 ? A -10.000599 -0.7226776 -11.288805 1.000 1 A LEU . 1\\nATOM 59 C CB . LEU 8 8 ? A -10.317996 -1.9807221 -13.428458 1.000 1 A LEU . 1\\nATOM 60 O O . LEU 8 8 ? A -10.960159 -0.14388824 -10.774179 1.000 1 A LEU . 1\\nATOM 61 C CG . LEU 8 8 ? A -9.82801 -3.1703696 -14.255487 1.000 1 A LEU . 1\\nATOM 62 C CD1 . LEU 8 8 ? A -10.797656 -3.4575617 -15.397024 1.000 1 A LEU . 1\\nATOM 63 C CD2 . LEU 8 8 ? A -8.425112 -2.9073148 -14.792126 1.000 1 A LEU . 1\\nATOM 64 N N . GLU 9 9 ? A -11.200989 -3.348001 -11.99036 1.000 1 A GLU . 1\\nATOM 65 C CA . GLU 9 9 ? A -11.786755 -2.0521288 -11.660666 1.000 1 A GLU . 1\\nATOM 66 C C . GLU 9 9 ? A -11.138698 -1.4543083 -10.415152 1.000 1 A GLU . 1\\nATOM 67 C CB . GLU 9 9 ? A -13.298407 -2.1814363 -11.456524 1.000 1 A GLU . 1\\nATOM 68 O O . GLU 9 9 ? A -10.460047 -2.157549 -9.66375 1.000 1 A GLU . 1\\nATOM 69 C CG . GLU 9 9 ? A -14.109983 -1.9826573 -12.728419 1.000 1 A GLU . 1\\nATOM 70 C CD . GLU 9 9 ? A -15.609286 -2.1076593 -12.509164 1.000 1 A GLU . 1\\nATOM 71 O OE1 . GLU 9 9 ? A -16.380136 -1.9541581 -13.483689 1.000 1 A GLU . 1\\nATOM 72 O OE2 . GLU 9 9 ? A -16.01648 -2.3601847 -11.353239 1.000 1 A GLU . 1\\nATOM 73 N N . GLY 10 10 ? A -11.878058 -2.0190232 -9.621083 1.000 1 A GLY . 1\\nATOM 74 C CA . GLY 10 10 ? A -11.0137615 -2.682126 -10.584429 1.000 1 A GLY . 1\\nATOM 75 C C . GLY 10 10 ? A -10.207214 -1.7133582 -11.428382 1.000 1 A GLY . 1\\nATOM 76 O O . GLY 10 10 ? A -10.534181 -0.5271789 -11.504478 1.000 1 A GLY . 1\\nATOM 77 N N . ARG 11 11 ? A -12.089972 -0.72308964 -12.324917 1.000 1 A ARG . 1\\nATOM 78 C CA . ARG 11 11 ? A -12.182049 -1.5464003 -11.123543 1.000 1 A ARG . 1\\nATOM 79 C C . ARG 11 11 ? A -12.094846 -0.68994665 -9.864771 1.000 1 A ARG . 1\\nATOM 80 C CB . ARG 11 11 ? A -11.079574 -2.6075191 -11.11277 1.000 1 A ARG . 1\\nATOM 81 O O . ARG 11 11 ? A -11.306221 0.25564462 -9.804376 1.000 1 A ARG . 1\\nATOM 82 C CG . ARG 11 11 ? A -11.364937 -3.8014271 -12.009825 1.000 1 A ARG . 1\\nATOM 83 C CD . ARG 11 11 ? A -10.3641205 -4.926602 -11.786578 1.000 1 A ARG . 1\\nATOM 84 N NE . ARG 11 11 ? A -10.62328 -6.0612955 -12.668212 1.000 1 A ARG . 1\\nATOM 85 N NH1 . ARG 11 11 ? A -8.7818775 -7.277702 -11.985108 1.000 1 A ARG . 1\\nATOM 86 N NH2 . ARG 11 11 ? A -10.193909 -8.125121 -13.579713 1.000 1 A ARG . 1\\nATOM 87 C CZ . ARG 11 11 ? A -9.865764 -7.152116 -12.7423315 1.000 1 A ARG . 1\\nATOM 88 N N . SER 12 12 ? A -12.520501 -0.19985032 -12.373914 1.000 1 A SER . 1\\nATOM 89 C CA . SER 12 12 ? A -11.890301 -1.3732865 -11.777815 1.000 1 A SER . 1\\nATOM 90 C C . SER 12 12 ? A -10.471812 -1.5660243 -12.303521 1.000 1 A SER . 1\\nATOM 91 C CB . SER 12 12 ? A -12.720474 -2.6271968 -12.055471 1.000 1 A SER . 1\\nATOM 92 O O . SER 12 12 ? A -10.100269 -0.9899726 -13.328138 1.000 1 A SER . 1\\nATOM 93 O OG . SER 12 12 ? A -12.850335 -2.8459353 -13.4497175 1.000 1 A SER . 1\\nATOM 94 N N . ASP 13 13 ? A -12.773762 -0.9561256 -10.860972 1.000 1 A ASP . 1\\nATOM 95 C CA . ASP 13 13 ? A -11.423632 -1.1863542 -11.365763 1.000 1 A ASP . 1\\nATOM 96 C C . ASP 13 13 ? A -10.549632 0.05209446 -11.181107 1.000 1 A ASP . 1\\nATOM 97 C CB . ASP 13 13 ? A -11.46354 -1.5866275 -12.842047 1.000 1 A ASP . 1\\nATOM 98 O O . ASP 13 13 ? A -11.061681 1.155411 -10.98056 1.000 1 A ASP . 1\\nATOM 99 C CG . ASP 13 13 ? A -11.804841 -3.0516286 -13.050226 1.000 1 A ASP . 1\\nATOM 100 O OD1 . ASP 13 13 ? A -12.236286 -3.4254038 -14.162219 1.000 1 A ASP .\\n1\\nATOM 101 O OD2 . ASP 13 13 ? A -11.643659 -3.8388958 -12.092675 1.000 1 A ASP .\\n1\\nATOM 102 N N . GLU 14 14 ? A -12.575965 -0.5355843 -13.10315 1.000 1 A GLU . 1\\nATOM 103 C CA . GLU 14 14 ? A -12.185568 -0.36597255 -11.706753 1.000 1 A GLU .\\n1\\nATOM 104 C C . GLU 14 14 ? A -10.753964 -0.8395716 -11.472464 1.000 1 A GLU . 1\\nATOM 105 C CB . GLU 14 14 ? A -13.146683 -1.1199932 -10.784149 1.000 1 A GLU . 1\\nATOM 106 O O . GLU 14 14 ? A -10.24378 -1.6815066 -12.214473 1.000 1 A GLU . 1\\nATOM 107 C CG . GLU 14 14 ? A -14.370574 -0.3118087 -10.37817 1.000 1 A GLU . 1\\nATOM 108 C CD . GLU 14 14 ? A -15.332055 -1.0845475 -9.489329 1.000 1 A GLU . 1\\nATOM 109 O OE1 . GLU 14 14 ? A -16.384247 -0.5262105 -9.1038065 1.000 1 A GLU .\\n1\\nATOM 110 O OE2 . GLU 14 14 ? A -15.03023 -2.2575345 -9.175098 1.000 1 A GLU . 1\\nATOM 111 N N . GLN 15 15 ? A -11.941178 -0.4830829 -10.580498 1.000 1 A GLN . 1\\nATOM 112 C CA . GLN 15 15 ? A -11.308545 -0.1007656 -11.838514 1.000 1 A GLN . 1\\nATOM 113 C C . GLN 15 15 ? A -10.198326 0.92046225 -11.607899 1.000 1 A GLN . 1\\nATOM 114 C CB . GLN 15 15 ? A -12.345304 0.4617194 -12.812197 1.000 1 A GLN . 1\\nATOM 115 O O . GLN 15 15 ? A -10.178186 1.6020683 -10.580899 1.000 1 A GLN . 1\\nATOM 116 C CG . GLN 15 15 ? A -13.019749 -0.59832394 -13.672491 1.000 1 A GLN .\\n1\\nATOM 117 C CD . GLN 15 15 ? A -13.968425 -0.005976498 -14.697629 1.000 1 A GLN .\\n1\\nATOM 118 N NE2 . GLN 15 15 ? A -14.543333 -0.8605506 -15.537006 1.000 1 A GLN .\\n1\\nATOM 119 O OE1 . GLN 15 15 ? A -14.18358 1.2097187 -14.734357 1.000 1 A GLN . 1\\nATOM 120 N N . LYS 16 16 ? A -11.519555 -0.10400866 -11.851317 1.000 1 A LYS . 1\\nATOM 121 C CA . LYS 16 16 ? A -10.233331 -0.34337175 -12.499432 1.000 1 A LYS .\\n1\\nATOM 122 C C . LYS 16 16 ? A -9.230293 0.7530062 -12.152235 1.000 1 A LYS . 1\\nATOM 123 C CB . LYS 16 16 ? A -10.405228 -0.43505618 -14.016392 1.000 1 A LYS .\\n1\\nATOM 124 O O . LYS 16 16 ? A -9.610063 1.8124108 -11.649089 1.000 1 A LYS . 1\\nATOM 125 C CG . LYS 16 16 ? A -10.779167 -1.8234468 -14.514188 1.000 1 A LYS . 1\\nATOM 126 C CD . LYS 16 16 ? A -10.776738 -1.8911146 -16.035957 1.000 1 A LYS . 1\\nATOM 127 C CE . LYS 16 16 ? A -11.119292 -3.2883768 -16.534927 1.000 1 A LYS . 1\\nATOM 128 N NZ . LYS 16 16 ? A -11.090614 -3.3666253 -18.026148 1.000 1 A LYS . 1\\nATOM 129 N N . GLU 17 17 ? A -11.876266 -0.6974131 -12.565618 1.000 1 A GLU . 1\\nATOM 130 C CA . GLU 17 17 ? A -11.54056 0.12871192 -11.409796 1.000 1 A GLU . 1\\nATOM 131 C C . GLU 17 17 ? A -10.27408 -0.37292087 -10.721995 1.000 1 A GLU . 1\\nATOM 132 C CB . GLU 17 17 ? A -12.703097 0.15876085 -10.414262 1.000 1 A GLU . 1\\nATOM 133 O O . GLU 17 17 ? A -9.879358 -1.5269011 -10.901562 1.000 1 A GLU . 1\\nATOM 134 C CG . GLU 17 17 ? A -13.693693 1.2877011 -10.659417 1.000 1 A GLU . 1\\nATOM 135 C CD . GLU 17 17 ? A -14.806269 1.3449397 -9.624764 1.000 1 A GLU . 1\\nATOM 136 O OE1 . GLU 17 17 ? A -15.674224 2.2426276 -9.715778 1.000 1 A GLU . 1\\nATOM 137 O OE2 . GLU 17 17 ? A -14.809462 0.48568755 -8.715141 1.000 1 A GLU . 1\\nATOM 138 N N . THR 18 18 ? A -12.176476 -0.1553594 -11.845929 1.000 1 A THR . 1\\nATOM 139 C CA . THR 18 18 ? A -11.120233 -0.16997947 -12.8518715 1.000 1 A THR .\\n1\\nATOM 140 C C . THR 18 18 ? A -9.903666 0.6152576 -12.370165 1.000 1 A THR . 1\\nATOM 141 C CB . THR 18 18 ? A -11.614123 0.41269326 -14.1889925 1.000 1 A THR .\\n1\\nATOM 142 O O . THR 18 18 ? A -10.023181 1.4877802 -11.507529 1.000 1 A THR . 1\\nATOM 143 C CG2 . THR 18 18 ? A -11.448628 -0.59432864 -15.322362 1.000 1 A THR .\\n1\\nATOM 144 O OG1 . THR 18 18 ? A -12.999733 0.75819445 -14.070218 1.000 1 A THR .\\n1\\nATOM 145 N N . LEU 19 19 ? A -11.199584 -0.70043355 -12.121122 1.000 1 A LEU . 1\\nATOM 146 C CA . LEU 19 19 ? A -10.290125 0.42007095 -12.334486 1.000 1 A LEU . 1\\nATOM 147 C C . LEU 19 19 ? A -9.282408 0.5268757 -11.19487 1.000 1 A LEU . 1\\nATOM 148 C CB . LEU 19 19 ? A -11.073268 1.7292421 -12.463204 1.000 1 A LEU . 1\\nATOM 149 O O . LEU 19 19 ? A -9.465762 -0.08344829 -10.139181 1.000 1 A LEU . 1\\nATOM 150 C CG . LEU 19 19 ? A -11.487431 2.1351974 -13.878477 1.000 1 A LEU . 1\\nATOM 151 C CD1 . LEU 19 19 ? A -12.92966 2.6308808 -13.887016 1.000 1 A LEU . 1\\nATOM 152 C CD2 . LEU 19 19 ? A -10.546366 3.202991 -14.425758 1.000 1 A LEU . 1\\nATOM 153 N N . ILE 20 20 ? A -11.16544 -0.21129602 -12.161139 1.000 1 A ILE . 1\\nATOM 154 C CA . ILE 20 20 ? A -9.917854 -0.69403887 -11.579188 1.000 1 A ILE . 1\\nATOM 155 C C . ILE 20 20 ? A -8.879366 0.42544866 -11.583259 1.000 1 A ILE . 1\\nATOM 156 C CB . ILE 20 20 ? A -9.379673 -1.9271561 -12.338987 1.000 1 A ILE . 1\\nATOM 157 O O . ILE 20 20 ? A -9.0372 1.4245356 -12.288869 1.000 1 A ILE . 1\\nATOM 158 C CG1 . ILE 20 20 ? A -10.4510765 -3.0214474 -12.4078665 1.000 1 A ILE\\n. 1\\nATOM 159 C CG2 . ILE 20 20 ? A -8.101593 -2.4527206 -11.678897 1.000 1 A ILE . 1\\nATOM 160 C CD1 . ILE 20 20 ? A -10.091455 -4.1830454 -13.324056 1.000 1 A ILE .\\n1\\nATOM 161 N N . ARG 21 21 ? A -10.859327 -0.1611976 -12.055062 1.000 1 A ARG . 1\\nATOM 162 C CA . ARG 21 21 ? A -10.073065 0.85876495 -11.368705 1.000 1 A ARG . 1\\nATOM 163 C C . ARG 21 21 ? A -8.858046 0.2437315 -10.682347 1.000 1 A ARG . 1\\nATOM 164 C CB . ARG 21 21 ? A -10.933104 1.6021378 -10.344366 1.000 1 A ARG . 1\\nATOM 165 O O . ARG 21 21 ? A -8.966659 -0.7986796 -10.03327 1.000 1 A ARG . 1\\nATOM 166 C CG . ARG 21 21 ? A -11.371185 2.9861069 -10.796329 1.000 1 A ARG . 1\\nATOM 167 C CD . ARG 21 21 ? A -12.096729 3.7376633 -9.6889715 1.000 1 A ARG . 1\\nATOM 168 N NE . ARG 21 21 ? A -12.898854 4.836452 -10.219281 1.000 1 A ARG . 1\\nATOM 169 N NH1 . ARG 21 21 ? A -13.791127 5.444524 -8.176946 1.000 1 A ARG . 1\\nATOM 170 N NH2 . ARG 21 21 ? A -14.371555 6.59277 -10.074141 1.000 1 A ARG . 1\\nATOM 171 C CZ . ARG 21 21 ? A -13.685348 5.6220737 -9.488912 1.000 1 A ARG . 1\\nATOM 172 N N . GLU 22 22 ? A -9.90201 0.42495453 -13.186092 1.000 1 A GLU . 1\\nATOM 173 C CA . GLU 22 22 ? A -9.24136 -0.65567505 -12.460223 1.000 1 A GLU . 1\\nATOM 174 C C . GLU 22 22 ? A -7.786168 -0.30906448 -12.158636 1.000 1 A GLU . 1\\nATOM 175 C CB . GLU 22 22 ? A -9.317155 -1.9621533 -13.254487 1.000 1 A GLU . 1\\nATOM 176 O O . GLU 22 22 ? A -7.225924 0.613333 -12.754479 1.000 1 A GLU . 1\\nATOM 177 C CG . GLU 22 22 ? A -10.600857 -2.746983 -13.026361 1.000 1 A GLU . 1\\nATOM 178 C CD . GLU 22 22 ? A -10.595678 -4.112934 -13.694014 1.000 1 A GLU . 1\\nATOM 179 O OE1 . GLU 22 22 ? A -11.597725 -4.8531466 -13.569662 1.000 1 A GLU .\\n1\\nATOM 180 O OE2 . GLU 22 22 ? A -9.580907 -4.446028 -14.345953 1.000 1 A GLU . 1\\nATOM 181 N N . VAL 23 23 ? A -10.283995 -0.078038156 -12.324555 1.000 1 A VAL .\\n1\\nATOM 182 C CA . VAL 23 23 ? A -8.9647 0.491055 -12.579035 1.000 1 A VAL . 1\\nATOM 183 C C . VAL 23 23 ? A -8.233307 0.71220905 -11.256959 1.000 1 A VAL . 1\\nATOM 184 C CB . VAL 23 23 ? A -9.060958 1.8187734 -13.363497 1.000 1 A VAL . 1\\nATOM 185 O O . VAL 23 23 ? A -8.859198 0.7672782 -10.195732 1.000 1 A VAL . 1\\nATOM 186 C CG1 . VAL 23 23 ? A -7.7354784 2.1354768 -14.053746 1.000 1 A VAL . 1\\nATOM 187 C CG2 . VAL 23 23 ? A -10.196171 1.7540543 -14.383583 1.000 1 A VAL . 1\\nATOM 188 N N . SER 24 24 ? A -8.613682 -0.6149779 -13.430884 1.000 1 A SER . 1\\nATOM 189 C CA . SER 24 24 ? A -8.698475 0.50310665 -12.497001 1.000 1 A SER . 1\\nATOM 190 C C . SER 24 24 ? A -7.804659 0.27769274 -11.282132 1.000 1 A SER . 1\\nATOM 191 C CB . SER 24 24 ? A -10.1437 0.7155969 -12.044513 1.000 1 A SER . 1\\nATOM 192 O O . SER 24 24 ? A -7.693544 -0.84556884 -10.786494 1.000 1 A SER . 1\\nATOM 193 O OG . SER 24 24 ? A -10.658923 -0.45774174 -11.4391575 1.000 1 A SER .\\n1\\nATOM 194 N N . GLU 25 25 ? A -9.236485 -0.16488336 -12.57161 1.000 1 A GLU . 1\\nATOM 195 C CA . GLU 25 25 ? A -8.8051605 0.20097412 -11.225798 1.000 1 A GLU . 1\\nATOM 196 C C . GLU 25 25 ? A -7.328475 -0.119759575 -11.013182 1.000 1 A GLU . 1\\nATOM 197 C CB . GLU 25 25 ? A -9.6559105 -0.51651025 -10.174643 1.000 1 A GLU .\\n1\\nATOM 198 O O . GLU 25 25 ? A -6.858812 -1.1920208 -11.399695 1.000 1 A GLU . 1\\nATOM 199 C CG . GLU 25 25 ? A -10.922205 0.23518074 -9.790782 1.000 1 A GLU . 1\\nATOM 200 C CD . GLU 25 25 ? A -11.726423 -0.45998877 -8.703776 1.000 1 A GLU . 1\\nATOM 201 O OE1 . GLU 25 25 ? A -12.795368 0.061163902 -8.312328 1.000 1 A GLU .\\n1\\nATOM 202 O OE2 . GLU 25 25 ? A -11.283456 -1.5340428 -8.239099 1.000 1 A GLU . 1\\nATOM 203 N N . ALA 26 26 ? A -8.868165 1.6287491 -12.376743 1.000 1 A ALA . 1\\nATOM 204 C CA . ALA 26 26 ? A -8.282881 0.30342922 -12.191368 1.000 1 A ALA . 1\\nATOM 205 C C . ALA 26 26 ? A -7.1663055 0.33744428 -11.151762 1.000 1 A ALA . 1\\nATOM 206 C CB . ALA 26 26 ? A -7.75385 -0.23501626 -13.51845 1.000 1 A ALA . 1\\nATOM 207 O O . ALA 26 26 ? A -6.5541916 1.3833832 -10.923066 1.000 1 A ALA . 1\\nATOM 208 N N . ILE 27 27 ? A -7.83627 0.7782532 -12.801682 1.000 1 A ILE . 1\\nATOM 209 C CA . ILE 27 27 ? A -6.522501 0.24223001 -12.462757 1.000 1 A ILE . 1\\nATOM 210 C C . ILE 27 27 ? A -6.3993573 0.0976294 -10.947615 1.000 1 A ILE . 1\\nATOM 211 C CB . ILE 27 27 ? A -5.3883724 1.137872 -13.009651 1.000 1 A ILE . 1\\nATOM 212 O O . ILE 27 27 ? A -7.152378 0.7202326 -10.1950865 1.000 1 A ILE . 1\\nATOM 213 C CG1 . ILE 27 27 ? A -5.5906262 1.4013939 -14.506239 1.000 1 A ILE . 1\\nATOM 214 C CG2 . ILE 27 27 ? A -4.0214295 0.49973822 -12.745682 1.000 1 A ILE .\\n1\\nATOM 215 C CD1 . ILE 27 27 ? A -4.617743 2.4147236 -15.093354 1.000 1 A ILE . 1\\nATOM 216 N N . SER 28 28 ? A -8.414615 1.8837771 -11.96562 1.000 1 A SER . 1\\nATOM 217 C CA . SER 28 28 ? A -7.307251 0.9806924 -12.261634 1.000 1 A SER . 1\\nATOM 218 C C . SER 28 28 ? A -6.212677 1.0831298 -11.204733 1.000 1 A SER . 1\\nATOM 219 C CB . SER 28 28 ? A -6.723705 1.282206 -13.642625 1.000 1 A SER . 1\\nATOM 220 O O . SER 28 28 ? A -6.1117134 2.0922298 -10.503846 1.000 1 A SER . 1\\nATOM 221 O OG . SER 28 28 ? A -5.449101 1.891218 -13.528064 1.000 1 A SER . 1\\nATOM 222 N N . ARG 29 29 ? A -7.62831 1.6176654 -12.629378 1.000 1 A ARG . 1\\nATOM 223 C CA . ARG 29 29 ? A -6.2947006 2.0738297 -12.2512 1.000 1 A ARG . 1\\nATOM 224 C C . ARG 29 29 ? A -5.7313266 1.2329177 -11.110541 1.000 1 A ARG . 1\\nATOM 225 C CB . ARG 29 29 ? A -6.3250513 3.5498264 -11.84864 1.000 1 A ARG . 1\\nATOM 226 O O . ARG 29 29 ? A -6.3473425 1.1261522 -10.04807 1.000 1 A ARG . 1\\nATOM 227 C CG . ARG 29 29 ? A -5.881016 4.4982076 -12.950893 1.000 1 A ARG . 1\\nATOM 228 C CD . ARG 29 29 ? A -5.754971 5.929144 -12.446883 1.000 1 A ARG . 1\\nATOM 229 N NE . ARG 29 29 ? A -6.2465177 6.891674 -13.428661 1.000 1 A ARG . 1\\nATOM 230 N NH1 . ARG 29 29 ? A -5.62173 8.757682 -12.218417 1.000 1 A ARG . 1\\nATOM 231 N NH2 . ARG 29 29 ? A -6.6510386 8.996908 -14.252626 1.000 1 A ARG . 1\\nATOM 232 C CZ . ARG 29 29 ? A -6.171973 8.213224 -13.297661 1.000 1 A ARG . 1\\nATOM 233 N N . SER 30 30 ? A -5.204239 1.4969076 -12.686081 1.000 1 A SER . 1\\nATOM 234 C CA . SER 30 30 ? A -6.625987 1.5524126 -12.362057 1.000 1 A SER . 1\\nATOM 235 C C . SER 30 30 ? A -7.016601 0.43930066 -11.395607 1.000 1 A SER . 1\\nATOM 236 C CB . SER 30 30 ? A -7.47009 1.4544193 -13.633458 1.000 1 A SER . 1\\nATOM 237 O O . SER 30 30 ? A -6.4101763 -0.63399196 -11.398885 1.000 1 A SER . 1\\nATOM 238 O OG . SER 30 30 ? A -7.719118 0.10009313 -13.968747 1.000 1 A SER . 1\\nATOM 239 N N . LEU 31 31 ? A -6.657875 1.1572886 -12.94449 1.000 1 A LEU . 1\\nATOM 240 C CA . LEU 31 31 ? A -5.5027366 0.6274872 -12.228156 1.000 1 A LEU . 1\\nATOM 241 C C . LEU 31 31 ? A -5.566354 0.9922258 -10.748783 1.000 1 A LEU . 1\\nATOM 242 C CB . LEU 31 31 ? A -4.2031784 1.1563325 -12.840757 1.000 1 A LEU . 1\\nATOM 243 O O . LEU 31 31 ? A -6.2081566 1.9765047 -10.374779 1.000 1 A LEU . 1\\nATOM 244 C CG . LEU 31 31 ? A -3.6455917 0.37189066 -14.029486 1.000 1 A LEU . 1\\nATOM 245 C CD1 . LEU 31 31 ? A -3.0858777 1.3265417 -15.078849 1.000 1 A LEU . 1\\nATOM 246 C CD2 . LEU 31 31 ? A -2.5746639 -0.610364 -13.567327 1.000 1 A LEU . 1\\nATOM 247 N N . ASP 32 32 ? A -7.324369 2.6383762 -12.825153 1.000 1 A ASP . 1\\nATOM 248 C CA . ASP 32 32 ? A -6.300917 1.6072049 -12.684083 1.000 1 A ASP . 1\\nATOM 249 C C . ASP 32 32 ? A -5.7417707 1.5790805 -11.263416 1.000 1 A ASP . 1\\nATOM 250 C CB . ASP 32 32 ? A -5.170135 1.8320968 -13.690055 1.000 1 A ASP . 1\\nATOM 251 O O . ASP 32 32 ? A -5.6051636 2.623948 -10.623643 1.000 1 A ASP . 1\\nATOM 252 C CG . ASP 32 32 ? A -5.2287917 0.8791958 -14.870983 1.000 1 A ASP . 1\\nATOM 253 O OD1 . ASP 32 32 ? A -4.5692906 1.1415765 -15.899864 1.000 1 A ASP . 1\\nATOM 254 O OD2 . ASP 32 32 ? A -5.943319 -0.14183271 -14.772876 1.000 1 A ASP .\\n1\\nATOM 255 N N . ALA 33 33 ? A -5.8893037 1.6913717 -12.517047 1.000 1 A ALA . 1\\nATOM 256 C CA . ALA 33 33 ? A -5.5640593 1.8093747 -11.098003 1.000 1 A ALA . 1\\nATOM 257 C C . ALA 33 33 ? A -6.7299194 1.3485476 -10.227898 1.000 1 A ALA . 1\\nATOM 258 C CB . ALA 33 33 ? A -5.185777 3.2485876 -10.756667 1.000 1 A ALA . 1\\nATOM 259 O O . ALA 33 33 ? A -7.887731 1.4070389 -10.64864 1.000 1 A ALA . 1\\nATOM 260 N N . PRO 34 34 ? A -6.581164 0.57118165 -12.552653 1.000 1 A PRO . 1\\nATOM 261 C CA . PRO 34 34 ? A -6.570531 1.4509318 -11.381551 1.000 1 A PRO . 1\\nATOM 262 C C . PRO 34 34 ? A -5.874412 0.8214735 -10.177007 1.000 1 A PRO . 1\\nATOM 263 C CB . PRO 34 34 ? A -8.057529 1.6764686 -11.096503 1.000 1 A PRO . 1\\nATOM 264 O O . PRO 34 34 ? A -6.2862387 -0.24260366 -9.707822 1.000 1 A PRO . 1\\nATOM 265 C CG . PRO 34 34 ? A -8.769201 1.0051465 -12.226457 1.000 1 A PRO . 1\\nATOM 266 C CD . PRO 34 34 ? A -7.744954 0.48973447 -13.196287 1.000 1 A PRO . 1\\nATOM 267 N N . LEU 35 35 ? A -6.114603 2.2185335 -11.190351 1.000 1 A LEU . 1\\nATOM 268 C CA . LEU 35 35 ? A -4.9712396 1.5041088 -10.633137 1.000 1 A LEU . 1\\nATOM 269 C C . LEU 35 35 ? A -5.430085 0.35023165 -9.747894 1.000 1 A LEU . 1\\nATOM 270 C CB . LEU 35 35 ? A -4.083152 2.4575226 -9.829326 1.000 1 A LEU . 1\\nATOM 271 O O . LEU 35 35 ? A -6.5100093 0.40817398 -9.155441 1.000 1 A LEU . 1\\nATOM 272 C CG . LEU 35 35 ? A -2.9632778 3.1552536 -10.602876 1.000 1 A LEU . 1\\nATOM 273 C CD1 . LEU 35 35 ? A -2.8965998 4.6308227 -10.223335 1.000 1 A LEU . 1\\nATOM 274 C CD2 . LEU 35 35 ? A -1.6260611 2.4700155 -10.342871 1.000 1 A LEU . 1\\nATOM 275 N N . THR 36 36 ? A -4.8514366 1.4355203 -12.424692 1.000 1 A THR . 1\\nATOM 276 C CA . THR 36 36 ? A -4.191203 1.1667142 -11.152049 1.000 1 A THR . 1\\nATOM 277 C C . THR 36 36 ? A -5.1835647 1.2635827 -9.996838 1.000 1 A THR . 1\\nATOM 278 C CB . THR 36 36 ? A -3.0231152 2.1410098 -10.911945 1.000 1 A THR . 1\\nATOM 279 O O . THR 36 36 ? A -6.1922646 1.9654069 -10.095264 1.000 1 A THR . 1\\nATOM 280 C CG2 . THR 36 36 ? A -1.6844497 1.4844136 -11.232672 1.000 1 A THR . 1\\nATOM 281 O OG1 . THR 36 36 ? A -3.1900225 3.293065 -11.747591 1.000 1 A THR . 1\\nATOM 282 N N . SER 37 37 ? A -5.3330636 1.6886505 -12.965738 1.000 1 A SER . 1\\nATOM 283 C CA . SER 37 37 ? A -5.6987057 0.57148767 -12.101045 1.000 1 A SER . 1\\nATOM 284 C C . SER 37 37 ? A -5.530346 0.9334656 -10.629225 1.000 1 A SER . 1\\nATOM 285 C CB . SER 37 37 ? A -4.8553214 -0.6606976 -12.431192 1.000 1 A SER . 1\\nATOM 286 O O . SER 37 37 ? A -4.531346 1.5453207 -10.245359 1.000 1 A SER . 1\\nATOM 287 O OG . SER 37 37 ? A -3.526516 -0.5003117 -11.965158 1.000 1 A SER . 1\\nATOM 288 N N . VAL 38 38 ? A -6.5586514 1.329001 -12.694285 1.000 1 A VAL . 1\\nATOM 289 C CA . VAL 38 38 ? A -5.544529 1.8618324 -11.790509 1.000 1 A VAL . 1\\nATOM 290 C C . VAL 38 38 ? A -5.7308707 1.267448 -10.396338 1.000 1 A VAL . 1\\nATOM 291 C CB . VAL 38 38 ? A -5.597969 3.4046097 -11.723692 1.000 1 A VAL . 1\\nATOM 292 O O . VAL 38 38 ? A -6.861419 1.067076 -9.946134 1.000 1 A VAL . 1\\nATOM 293 C CG1 . VAL 38 38 ? A -4.2632785 3.970827 -11.242403 1.000 1 A VAL . 1\\nATOM 294 C CG2 . VAL 38 38 ? A -5.967394 3.9847062 -13.087688 1.000 1 A VAL . 1\\nATOM 295 N N . ARG 39 39 ? A -5.4226203 0.034934282 -11.915631 1.000 1 A ARG . 1\\nATOM 296 C CA . ARG 39 39 ? A -6.582714 0.9161222 -11.830134 1.000 1 A ARG . 1\\nATOM 297 C C . ARG 39 39 ? A -6.9719677 1.169578 -10.377597 1.000 1 A ARG . 1\\nATOM 298 C CB . ARG 39 39 ? A -7.7676506 0.32116473 -12.594001 1.000 1 A ARG . 1\\nATOM 299 O O . ARG 39 39 ? A -7.094072 0.22984177 -9.589113 1.000 1 A ARG . 1\\nATOM 300 C CG . ARG 39 39 ? A -7.859712 0.7781754 -14.041143 1.000 1 A ARG . 1\\nATOM 301 C CD . ARG 39 39 ? A -9.13457 0.2822588 -14.709196 1.000 1 A ARG . 1\\nATOM 302 N NE . ARG 39 39 ? A -9.138394 0.56674886 -16.141335 1.000 1 A ARG . 1\\nATOM 303 N NH1 . ARG 39 39 ? A -11.214165 -0.36910063 -16.531721 1.000 1 A ARG .\\n1\\nATOM 304 N NH2 . ARG 39 39 ? A -10.025877 0.5567989 -18.259552 1.000 1 A ARG . 1\\nATOM 305 C CZ . ARG 39 39 ? A -10.126137 0.2508329 -16.974266 1.000 1 A ARG . 1\\nATOM 306 N N . VAL 40 40 ? A -7.0429068 2.0845354 -12.109588 1.000 1 A VAL . 1\\nATOM 307 C CA . VAL 40 40 ? A -5.9563866 2.1448193 -11.137475 1.000 1 A VAL . 1\\nATOM 308 C C . VAL 40 40 ? A -6.059934 0.96578836 -10.172648 1.000 1 A VAL . 1\\nATOM 309 C CB . VAL 40 40 ? A -5.968498 3.476872 -10.35455 1.000 1 A VAL . 1\\nATOM 310 O O . VAL 40 40 ? A -7.143755 0.41214168 -9.973198 1.000 1 A VAL . 1\\nATOM 311 C CG1 . VAL 40 40 ? A -4.6234126 3.7131639 -9.670043 1.000 1 A VAL . 1\\nATOM 312 C CG2 . VAL 40 40 ? A -6.309421 4.6391287 -11.285358 1.000 1 A VAL . 1\\nATOM 313 N N . ILE 41 41 ? A -5.944563 1.136684 -12.323366 1.000 1 A ILE . 1\\nATOM 314 C CA . ILE 41 41 ? A -4.9180803 0.8190551 -11.336643 1.000 1 A ILE . 1\\nATOM 315 C C . ILE 41 41 ? A -5.3645697 1.2948463 -9.956064 1.000 1 A ILE . 1\\nATOM 316 C CB . ILE 41 41 ? A -3.559908 1.4546711 -11.7093 1.000 1 A ILE . 1\\nATOM 317 O O . ILE 41 41 ? A -6.2750044 2.1187582 -9.840954 1.000 1 A ILE . 1\\nATOM 318 C CG1 . ILE 41 41 ? A -3.1942852 1.1209091 -13.160178 1.000 1 A ILE . 1\\nATOM 319 C CG2 . ILE 41 41 ? A -2.4634285 0.9886233 -10.747033 1.000 1 A ILE . 1\\nATOM 320 C CD1 . ILE 41 41 ? A -1.9749804 1.8704247 -13.679373 1.000 1 A ILE . 1\\nATOM 321 N N . ILE 42 42 ? A -6.5820785 0.8979992 -12.229118 1.000 1 A ILE . 1\\nATOM 322 C CA . ILE 42 42 ? A -5.7088766 1.1451257 -11.086916 1.000 1 A ILE . 1\\nATOM 323 C C . ILE 42 42 ? A -6.246604 0.4144199 -9.858646 1.000 1 A ILE . 1\\nATOM 324 C CB . ILE 42 42 ? A -5.574016 2.656478 -10.795124 1.000 1 A ILE . 1\\nATOM 325 O O . ILE 42 42 ? A -7.43734 0.101477206 -9.786619 1.000 1 A ILE . 1\\nATOM 326 C CG1 . ILE 42 42 ? A -5.0921173 3.4008563 -12.045644 1.000 1 A ILE . 1\\nATOM 327 C CG2 . ILE 42 42 ? A -4.6268096 2.8963573 -9.615851 1.000 1 A ILE . 1\\nATOM 328 C CD1 . ILE 42 42 ? A -5.1052747 4.9169908 -11.90706 1.000 1 A ILE . 1\\nATOM 329 N N . THR 43 43 ? A -6.1440234 0.5744847 -12.2968445 1.000 1 A THR . 1\\nATOM 330 C CA . THR 43 43 ? A -5.025072 1.1042174 -11.525407 1.000 1 A THR . 1\\nATOM 331 C C . THR 43 43 ? A -5.5166855 2.0781507 -10.458426 1.000 1 A THR . 1\\nATOM 332 C CB . THR 43 43 ? A -4.002833 1.8093181 -12.436006 1.000 1 A THR . 1\\nATOM 333 O O . THR 43 43 ? A -6.571642 2.6967287 -10.613826 1.000 1 A THR . 1\\nATOM 334 C CG2 . THR 43 43 ? A -2.8184762 0.8984147 -12.741887 1.000 1 A THR . 1\\nATOM 335 O OG1 . THR 43 43 ? A -4.6400924 2.1753283 -13.666181 1.000 1 A THR . 1\\nATOM 336 N N . GLU 44 44 ? A -7.939765 0.35980523 -11.574048 1.000 1 A GLU . 1\\nATOM 337 C CA . GLU 44 44 ? A -7.554201 1.7669168 -11.524204 1.000 1 A GLU . 1\\nATOM 338 C C . GLU 44 44 ? A -6.8787804 2.1075094 -10.198881 1.000 1 A GLU . 1\\nATOM 339 C CB . GLU 44 44 ? A -8.773788 2.666758 -11.739564 1.000 1 A GLU . 1\\nATOM 340 O O . GLU 44 44 ? A -7.0489736 1.3941011 -9.20802 1.000 1 A GLU . 1\\nATOM 341 C CG . GLU 44 44 ? A -9.067248 2.9651113 -13.202697 1.000 1 A GLU . 1\\nATOM 342 C CD . GLU 44 44 ? A -10.183235 3.9793994 -13.396097 1.000 1 A GLU . 1\\nATOM 343 O OE1 . GLU 44 44 ? A -10.475346 4.3465548 -14.556849 1.000 1 A GLU . 1\\nATOM 344 O OE2 . GLU 44 44 ? A -10.769598 4.411175 -12.378508 1.000 1 A GLU . 1\\nATOM 345 N N . MET 45 45 ? A -6.7693415 2.1714807 -12.186266 1.000 1 A MET . 1\\nATOM 346 C CA . MET 45 45 ? A -6.254091 2.1701174 -10.820086 1.000 1 A MET . 1\\nATOM 347 C C . MET 45 45 ? A -7.185903 1.4031138 -9.887855 1.000 1 A MET . 1\\nATOM 348 C CB . MET 45 45 ? A -6.0690875 3.6013973 -10.313119 1.000 1 A MET . 1\\nATOM 349 O O . MET 45 45 ? A -8.349255 1.1696321 -10.220371 1.000 1 A MET . 1\\nATOM 350 C CG . MET 45 45 ? A -4.953458 4.3602905 -11.01319 1.000 1 A MET . 1\\nATOM 351 S SD . MET 45 45 ? A -4.479088 5.892824 -10.122377 1.000 1 A MET . 1\\nATOM 352 C CE . MET 45 45 ? A -3.7289054 5.178006 -8.63293 1.000 1 A MET . 1\\nATOM 353 N N . ALA 46 46 ? A -7.787288 1.0353501 -12.383362 1.000 1 A ALA . 1\\nATOM 354 C CA . ALA 46 46 ? A -8.137398 1.7600024 -11.164471 1.000 1 A ALA . 1\\nATOM 355 C C . ALA 46 46 ? A -7.083834 1.5512302 -10.080453 1.000 1 A ALA . 1\\nATOM 356 C CB . ALA 46 46 ? A -9.509791 1.320809 -10.6599045 1.000 1 A ALA . 1\\nATOM 357 O O . ALA 46 46 ? A -6.455144 0.49239135 -10.012759 1.000 1 A ALA . 1\\nATOM 358 N N . LYS 47 47 ? A -6.8667703 2.4160032 -11.906138 1.000 1 A LYS . 1\\nATOM 359 C CA . LYS 47 47 ? A -5.9829264 1.8809967 -10.874485 1.000 1 A LYS . 1\\nATOM 360 C C . LYS 47 47 ? A -6.753549 1.5803684 -9.592128 1.000 1 A LYS . 1\\nATOM 361 C CB . LYS 47 47 ? A -4.8432164 2.8586352 -10.583952 1.000 1 A LYS . 1\\nATOM 362 O O . LYS 47 47 ? A -7.379849 2.4714372 -9.014663 1.000 1 A LYS . 1\\nATOM 363 C CG . LYS 47 47 ? A -3.6390104 2.6952834 -11.49963 1.000 1 A LYS . 1\\nATOM 364 C CD . LYS 47 47 ? A -2.4466784 3.5038643 -11.004744 1.000 1 A LYS . 1\\nATOM 365 C CE . LYS 47 47 ? A -1.2422564 3.3446422 -11.922716 1.000 1 A LYS . 1\\nATOM 366 N NZ . LYS 47 47 ? A -0.053102374 4.089175 -11.410595 1.000 1 A LYS . 1\\nATOM 367 N N . GLY 48 48 ? A -8.929015 2.0604231 -11.324192 1.000 1 A GLY . 1\\nATOM 368 C CA . GLY 48 48 ? A -7.9706507 1.4950659 -10.38789 1.000 1 A GLY . 1\\nATOM 369 C C . GLY 48 48 ? A -7.3913784 2.5223684 -9.43375 1.000 1 A GLY . 1\\nATOM 370 O O . GLY 48 48 ? A -7.3667665 3.716475 -9.739076 1.000 1 A GLY . 1\\nATOM 371 N N . HIS 49 49 ? A -8.362415 3.1496353 -11.51681 1.000 1 A HIS . 1\\nATOM 372 C CA . HIS 49 49 ? A -7.9591303 2.8767195 -10.141962 1.000 1 A HIS . 1\\nATOM 373 C C . HIS 49 49 ? A -6.9072237 1.7740604 -10.084847 1.000 1 A HIS . 1\\nATOM 374 C CB . HIS 49 49 ? A -9.172417 2.4892535 -9.294625 1.000 1 A HIS . 1\\nATOM 375 O O . HIS 49 49 ? A -6.956636 0.8220209 -10.867007 1.000 1 A HIS . 1\\nATOM 376 C CG . HIS 49 49 ? A -9.962321 3.6616561 -8.806338 1.000 1 A HIS . 1\\nATOM 377 C CD2 . HIS 49 49 ? A -11.159111 4.1546564 -9.203096 1.000 1 A HIS . 1\\nATOM 378 N ND1 . HIS 49 49 ? A -9.527409 4.478501 -7.785186 1.000 1 A HIS . 1\\nATOM 379 C CE1 . HIS 49 49 ? A -10.426202 5.425519 -7.5739794 1.000 1 A HIS . 1\\nATOM 380 N NE2 . HIS 49 49 ? A -11.425915 5.251587 -8.421353 1.000 1 A HIS . 1\\nATOM 381 N N . PHE 50 50 ? A -7.240913 3.9095564 -10.901242 1.000 1 A PHE . 1\\nATOM 382 C CA . PHE 50 50 ? A -7.6288576 2.6616333 -10.254496 1.000 1 A PHE . 1\\nATOM 383 C C . PHE 50 50 ? A -6.409867 1.9440213 -9.687336 1.000 1 A PHE . 1\\nATOM 384 C CB . PHE 50 50 ? A -8.363378 1.7488482 -11.241435 1.000 1 A PHE . 1\\nATOM 385 O O . PHE 50 50 ? A -5.2772927 2.2233202 -10.086069 1.000 1 A PHE . 1\\nATOM 386 C CG . PHE 50 50 ? A -9.757448 2.209231 -11.5718775 1.000 1 A PHE . 1\\nATOM 387 C CD1 . PHE 50 50 ? A -10.002693 2.9668078 -12.710578 1.000 1 A PHE . 1\\nATOM 388 C CD2 . PHE 50 50 ? A -10.823381 1.8840959 -10.743068 1.000 1 A PHE . 1\\nATOM 389 C CE1 . PHE 50 50 ? A -11.292113 3.3943288 -13.018928 1.000 1 A PHE . 1\\nATOM 390 C CE2 . PHE 50 50 ? A -12.11463 2.3076916 -11.044617 1.000 1 A PHE . 1\\nATOM 391 C CZ . PHE 50 50 ? A -12.346647 3.063486 -12.182405 1.000 1 A PHE . 1\\nATOM 392 N N . GLY 51 51 ? A -9.074906 2.4644067 -7.8329873 1.000 1 A GLY . 1\\nATOM 393 C CA . GLY 51 51 ? A -8.6569 2.7595153 -9.194213 1.000 1 A GLY . 1\\nATOM 394 C C . GLY 51 51 ? A -7.2399917 2.3083398 -9.494379 1.000 1 A GLY . 1\\nATOM 395 O O . GLY 51 51 ? A -6.35183 2.429768 -8.648126 1.000 1 A GLY . 1\\nATOM 396 N N . ILE 52 52 ? A -7.497635 3.07248 -10.448692 1.000 1 A ILE . 1\\nATOM 397 C CA . ILE 52 52 ? A -6.278711 2.282726 -10.311979 1.000 1 A ILE . 1\\nATOM 398 C C . ILE 52 52 ? A -5.9249625 2.1312928 -8.834258 1.000 1 A ILE . 1\\nATOM 399 C CB . ILE 52 52 ? A -5.101608 2.9221292 -11.082113 1.000 1 A ILE . 1\\nATOM 400 O O . ILE 52 52 ? A -6.489614 2.8194165 -7.980661 1.000 1 A ILE . 1\\nATOM 401 C CG1 . ILE 52 52 ? A -5.557449 3.3755386 -12.473786 1.000 1 A ILE . 1\\nATOM 402 C CG2 . ILE 52 52 ? A -3.9270434 1.9444553 -11.182005 1.000 1 A ILE . 1\\nATOM 403 C CD1 . ILE 52 52 ? A -4.5223665 4.200829 -13.225811 1.000 1 A ILE . 1\\nATOM 404 N N . GLY 53 53 ? A -8.4641 3.5614038 -9.201849 1.000 1 A GLY . 1\\nATOM 405 C CA . GLY 53 53 ? A -7.3974237 2.7313492 -9.73847 1.000 1 A GLY . 1\\nATOM 406 C C . GLY 53 53 ? A -6.0421033 3.0324116 -9.127114 1.000 1 A GLY . 1\\nATOM 407 O O . GLY 53 53 ? A -5.7901125 4.15542 -8.685444 1.000 1 A GLY . 1\\nATOM 408 N N . GLY 54 54 ? A -6.149317 5.352683 -10.255974 1.000 1 A GLY . 1\\nATOM 409 C CA . GLY 54 54 ? A -6.3609133 4.6131806 -9.021827 1.000 1 A GLY . 1\\nATOM 410 C C . GLY 54 54 ? A -6.829683 3.1889815 -9.252483 1.000 1 A GLY . 1\\nATOM 411 O O . GLY 54 54 ? A -7.591734 2.923972 -10.184561 1.000 1 A GLY . 1\\nATOM 412 N N . GLU 55 55 ? A -7.593207 4.8468657 -9.139307 1.000 1 A GLU . 1\\nATOM 413 C CA . GLU 55 55 ? A -7.471001 3.4034986 -8.958029 1.000 1 A GLU . 1\\nATOM 414 C C . GLU 55 55 ? A -6.3714886 3.0642495 -7.955702 1.000 1 A GLU . 1\\nATOM 415 C CB . GLU 55 55 ? A -7.19314 2.7148783 -10.296716 1.000 1 A GLU . 1\\nATOM 416 O O . GLU 55 55 ? A -5.519797 3.9025903 -7.6531687 1.000 1 A GLU . 1\\nATOM 417 C CG . GLU 55 55 ? A -8.445019 2.4326646 -11.114667 1.000 1 A GLU . 1\\nATOM 418 C CD . GLU 55 55 ? A -8.169944 1.6257577 -12.373573 1.000 1 A GLU . 1\\nATOM 419 O OE1 . GLU 55 55 ? A -9.134604 1.2590835 -13.082414 1.000 1 A GLU . 1\\nATOM 420 O OE2 . GLU 55 55 ? A -6.9801345 1.357209 -12.652811 1.000 1 A GLU . 1\\nATOM 421 N N . LEU 56 56 ? A -7.744089 3.5709038 -8.662607 1.000 1 A LEU . 1\\nATOM 422 C CA . LEU 56 56 ? A -6.682596 4.371141 -9.263457 1.000 1 A LEU . 1\\nATOM 423 C C . LEU 56 56 ? A -5.3149347 3.756137 -8.986159 1.000 1 A LEU . 1\\nATOM 424 C CB . LEU 56 56 ? A -6.7269974 5.8062925 -8.732257 1.000 1 A LEU . 1\\nATOM 425 O O . LEU 56 56 ? A -5.1650043 2.9582822 -8.057966 1.000 1 A LEU . 1\\nATOM 426 C CG . LEU 56 56 ? A -7.6604247 6.7716737 -9.464429 1.000 1 A LEU . 1\\nATOM 427 C CD1 . LEU 56 56 ? A -8.410694 7.6446595 -8.464035 1.000 1 A LEU . 1\\nATOM 428 C CD2 . LEU 56 56 ? A -6.8753524 7.6316323 -10.449026 1.000 1 A LEU . 1\\nATOM 429 N N . ALA 57 57 ? A -6.1660123 5.4590206 -10.567823 1.000 1 A ALA . 1\\nATOM 430 C CA . ALA 57 57 ? A -5.289405 4.751875 -9.637824 1.000 1 A ALA . 1\\nATOM 431 C C . ALA 57 57 ? A -6.0453854 4.337965 -8.378519 1.000 1 A ALA . 1\\nATOM 432 C CB . ALA 57 57 ? A -4.088948 5.6215224 -9.272367 1.000 1 A ALA . 1\\nATOM 433 O O . ALA 57 57 ? A -7.145047 4.83113 -8.116783 1.000 1 A ALA . 1\\nATOM 434 N N . SER 58 58 ? A -5.8943853 5.323317 -6.7819633 1.000 1 A SER . 1\\nATOM 435 C CA . SER 58 58 ? A -6.5135393 5.4529023 -8.096991 1.000 1 A SER . 1\\nATOM 436 C C . SER 58 58 ? A -6.096844 4.3119636 -9.019079 1.000 1 A SER . 1\\nATOM 437 C CB . SER 58 58 ? A -6.1455717 6.793908 -8.733291 1.000 1 A SER . 1\\nATOM 438 O O . SER 58 58 ? A -5.0140276 3.7439573 -8.862245 1.000 1 A SER . 1\\nATOM 439 O OG . SER 58 58 ? A -4.901167 6.7068644 -9.405982 1.000 1 A SER . 1\\nATOM 440 N N . LYS 59 59 ? A -7.3577976 5.1156664 -10.445663 1.000 1 A LYS . 1\\nATOM 441 C CA . LYS 59 59 ? A -6.7169785 4.9707065 -9.141802 1.000 1 A LYS . 1\\nATOM 442 C C . LYS 59 59 ? A -6.480163 3.501078 -8.805967 1.000 1 A LYS . 1\\nATOM 443 C CB . LYS 59 59 ? A -7.5642977 5.627526 -8.05104 1.000 1 A LYS . 1\\nATOM 444 O O . LYS 59 59 ? A -7.221496 2.6275957 -9.26113 1.000 1 A LYS . 1\\nATOM 445 C CG . LYS 59 59 ? A -7.100563 7.024042 -7.6638036 1.000 1 A LYS . 1\\nATOM 446 C CD . LYS 59 59 ? A -7.9176865 7.5835032 -6.506357 1.000 1 A LYS . 1\\nATOM 447 C CE . LYS 59 59 ? A -7.4578424 8.983102 -6.121231 1.000 1 A LYS . 1\\nATOM 448 N NZ . LYS 59 59 ? A -8.234401 9.522887 -4.9652586 1.000 1 A LYS . 1\\n#\\n#\\nloop_\\n_atom_type.symbol\\nC\\nN\\nO\\nS\\n#\\n\",\"mmcif\");\n\tviewer_1753240947318424.addModel(\"2OP8\");\n\tviewer_1753240947318424.setStyle({\"chain\": \"A\"},{\"cartoon\": {\"color\": \"spectrum\"}});\n\tviewer_1753240947318424.zoomTo();\nviewer_1753240947318424.render();\n})\n});\n</script>",
      "text/html": [
       "<div id=\"3dmolviewer_1753240947318424\"  style=\"position: relative; width: 640px; height: 480px;\">\n",
       "        <p id=\"3dmolwarning_1753240947318424\" style=\"background-color:#ffcccc;color:black\">3Dmol.js failed to load for some reason.  Please check your browser console for error messages.<br></p>\n",
       "        </div>\n",
       "<script>\n",
       "\n",
       "var loadScriptAsync = function(uri){\n",
       "  return new Promise((resolve, reject) => {\n",
       "    //this is to ignore the existence of requirejs amd\n",
       "    var savedexports, savedmodule;\n",
       "    if (typeof exports !== 'undefined') savedexports = exports;\n",
       "    else exports = {}\n",
       "    if (typeof module !== 'undefined') savedmodule = module;\n",
       "    else module = {}\n",
       "\n",
       "    var tag = document.createElement('script');\n",
       "    tag.src = uri;\n",
       "    tag.async = true;\n",
       "    tag.onload = () => {\n",
       "        exports = savedexports;\n",
       "        module = savedmodule;\n",
       "        resolve();\n",
       "    };\n",
       "  var firstScriptTag = document.getElementsByTagName('script')[0];\n",
       "  firstScriptTag.parentNode.insertBefore(tag, firstScriptTag);\n",
       "});\n",
       "};\n",
       "\n",
       "if(typeof $3Dmolpromise === 'undefined') {\n",
       "$3Dmolpromise = null;\n",
       "  $3Dmolpromise = loadScriptAsync('https://cdn.jsdelivr.net/npm/3dmol@2.5.0/build/3Dmol-min.js');\n",
       "}\n",
       "\n",
       "var viewer_1753240947318424 = null;\n",
       "var warn = document.getElementById(\"3dmolwarning_1753240947318424\");\n",
       "if(warn) {\n",
       "    warn.parentNode.removeChild(warn);\n",
       "}\n",
       "$3Dmolpromise.then(function() {\n",
       "viewer_1753240947318424 = $3Dmol.createViewer(document.getElementById(\"3dmolviewer_1753240947318424\"),{backgroundColor:\"white\"});\n",
       "$3Dmol.download(\"2OP8\", viewer_1753240947318424, {}, function() {\n",
       "viewer_1753240947318424.zoomTo();\n",
       "\tviewer_1753240947318424.addModel(\"data_model\\n_entry.id model\\n_struct.entry_id model\\n_struct.pdbx_model_details .\\n_struct.pdbx_structure_determination_methodology computational\\n_struct.title 'AlphaFold prediction'\\n_audit_conform.dict_location https://raw.githubusercontent.com/ihmwg/ModelCIF/80e1e22/dist/mmcif_ma.dic\\n_audit_conform.dict_name mmcif_ma.dic\\n_audit_conform.dict_version 1.4.7\\n#\\nloop_\\n_chem_comp.id\\n_chem_comp.type\\n_chem_comp.name\\n_chem_comp.formula\\n_chem_comp.formula_weight\\n_chem_comp.ma_provenance\\nALA 'L-peptide linking' ALANINE 'C3 H7 N O2' 89.094 'CCD Core'\\nARG 'L-peptide linking' ARGININE 'C6 H15 N4 O2 1' 175.212 'CCD Core'\\nASP 'L-peptide linking' 'ASPARTIC ACID' 'C4 H7 N O4' 133.103 'CCD Core'\\nGLN 'L-peptide linking' GLUTAMINE 'C5 H10 N2 O3' 146.146 'CCD Core'\\nGLU 'L-peptide linking' 'GLUTAMIC ACID' 'C5 H9 N O4' 147.130 'CCD Core'\\nGLY 'peptide linking' GLYCINE 'C2 H5 N O2' 75.067 'CCD Core'\\nHIS 'L-peptide linking' HISTIDINE 'C6 H10 N3 O2 1' 156.165 'CCD Core'\\nILE 'L-peptide linking' ISOLEUCINE 'C6 H13 N O2' 131.175 'CCD Core'\\nLEU 'L-peptide linking' LEUCINE 'C6 H13 N O2' 131.175 'CCD Core'\\nLYS 'L-peptide linking' LYSINE 'C6 H15 N2 O2 1' 147.198 'CCD Core'\\nMET 'L-peptide linking' METHIONINE 'C5 H11 N O2 S' 149.208 'CCD Core'\\nPHE 'L-peptide linking' PHENYLALANINE 'C9 H11 N O2' 165.192 'CCD Core'\\nPRO 'L-peptide linking' PROLINE 'C5 H9 N O2' 115.132 'CCD Core'\\nSER 'L-peptide linking' SERINE 'C3 H7 N O3' 105.093 'CCD Core'\\nTHR 'L-peptide linking' THREONINE 'C4 H9 N O3' 119.120 'CCD Core'\\nVAL 'L-peptide linking' VALINE 'C5 H11 N O2' 117.148 'CCD Core'\\n#\\n#\\nloop_\\n_entity.id\\n_entity.type\\n_entity.src_method\\n_entity.pdbx_description\\n_entity.formula_weight\\n_entity.pdbx_number_of_molecules\\n_entity.details\\n1 polymer man 'Model subunit' 7453.286 1 .\\n#\\n#\\nloop_\\n_entity_poly.entity_id\\n_entity_poly.type\\n_entity_poly.nstd_linkage\\n_entity_poly.nstd_monomer\\n_entity_poly.pdbx_strand_id\\n_entity_poly.pdbx_seq_one_letter_code\\n_entity_poly.pdbx_seq_one_letter_code_can\\n1 polypeptide(L) no no A\\nPIAQIHILEGRSDEQKETLIREVSEAISRSLDAPLTSVRVIITEMAKGHFGIGGELASK\\nPIAQIHILEGRSDEQKETLIREVSEAISRSLDAPLTSVRVIITEMAKGHFGIGGELASK\\n#\\n#\\nloop_\\n_entity_poly_seq.entity_id\\n_entity_poly_seq.num\\n_entity_poly_seq.mon_id\\n_entity_poly_seq.hetero\\n1 1 PRO .\\n1 2 ILE .\\n1 3 ALA .\\n1 4 GLN .\\n1 5 ILE .\\n1 6 HIS .\\n1 7 ILE .\\n1 8 LEU .\\n1 9 GLU .\\n1 10 GLY .\\n1 11 ARG .\\n1 12 SER .\\n1 13 ASP .\\n1 14 GLU .\\n1 15 GLN .\\n1 16 LYS .\\n1 17 GLU .\\n1 18 THR .\\n1 19 LEU .\\n1 20 ILE .\\n1 21 ARG .\\n1 22 GLU .\\n1 23 VAL .\\n1 24 SER .\\n1 25 GLU .\\n1 26 ALA .\\n1 27 ILE .\\n1 28 SER .\\n1 29 ARG .\\n1 30 SER .\\n1 31 LEU .\\n1 32 ASP .\\n1 33 ALA .\\n1 34 PRO .\\n1 35 LEU .\\n1 36 THR .\\n1 37 SER .\\n1 38 VAL .\\n1 39 ARG .\\n1 40 VAL .\\n1 41 ILE .\\n1 42 ILE .\\n1 43 THR .\\n1 44 GLU .\\n1 45 MET .\\n1 46 ALA .\\n1 47 LYS .\\n1 48 GLY .\\n1 49 HIS .\\n1 50 PHE .\\n1 51 GLY .\\n1 52 ILE .\\n1 53 GLY .\\n1 54 GLY .\\n1 55 GLU .\\n1 56 LEU .\\n1 57 ALA .\\n1 58 SER .\\n1 59 LYS .\\n#\\n#\\nloop_\\n_struct_asym.id\\n_struct_asym.entity_id\\n_struct_asym.details\\nA 1 'Model subunit A'\\n#\\n#\\nloop_\\n_pdbx_poly_seq_scheme.asym_id\\n_pdbx_poly_seq_scheme.entity_id\\n_pdbx_poly_seq_scheme.seq_id\\n_pdbx_poly_seq_scheme.mon_id\\n_pdbx_poly_seq_scheme.pdb_seq_num\\n_pdbx_poly_seq_scheme.auth_seq_num\\n_pdbx_poly_seq_scheme.pdb_mon_id\\n_pdbx_poly_seq_scheme.auth_mon_id\\n_pdbx_poly_seq_scheme.pdb_strand_id\\n_pdbx_poly_seq_scheme.pdb_ins_code\\nA 1 1 PRO 1 1 PRO PRO A .\\nA 1 2 ILE 2 2 ILE ILE A .\\nA 1 3 ALA 3 3 ALA ALA A .\\nA 1 4 GLN 4 4 GLN GLN A .\\nA 1 5 ILE 5 5 ILE ILE A .\\nA 1 6 HIS 6 6 HIS HIS A .\\nA 1 7 ILE 7 7 ILE ILE A .\\nA 1 8 LEU 8 8 LEU LEU A .\\nA 1 9 GLU 9 9 GLU GLU A .\\nA 1 10 GLY 10 10 GLY GLY A .\\nA 1 11 ARG 11 11 ARG ARG A .\\nA 1 12 SER 12 12 SER SER A .\\nA 1 13 ASP 13 13 ASP ASP A .\\nA 1 14 GLU 14 14 GLU GLU A .\\nA 1 15 GLN 15 15 GLN GLN A .\\nA 1 16 LYS 16 16 LYS LYS A .\\nA 1 17 GLU 17 17 GLU GLU A .\\nA 1 18 THR 18 18 THR THR A .\\nA 1 19 LEU 19 19 LEU LEU A .\\nA 1 20 ILE 20 20 ILE ILE A .\\nA 1 21 ARG 21 21 ARG ARG A .\\nA 1 22 GLU 22 22 GLU GLU A .\\nA 1 23 VAL 23 23 VAL VAL A .\\nA 1 24 SER 24 24 SER SER A .\\nA 1 25 GLU 25 25 GLU GLU A .\\nA 1 26 ALA 26 26 ALA ALA A .\\nA 1 27 ILE 27 27 ILE ILE A .\\nA 1 28 SER 28 28 SER SER A .\\nA 1 29 ARG 29 29 ARG ARG A .\\nA 1 30 SER 30 30 SER SER A .\\nA 1 31 LEU 31 31 LEU LEU A .\\nA 1 32 ASP 32 32 ASP ASP A .\\nA 1 33 ALA 33 33 ALA ALA A .\\nA 1 34 PRO 34 34 PRO PRO A .\\nA 1 35 LEU 35 35 LEU LEU A .\\nA 1 36 THR 36 36 THR THR A .\\nA 1 37 SER 37 37 SER SER A .\\nA 1 38 VAL 38 38 VAL VAL A .\\nA 1 39 ARG 39 39 ARG ARG A .\\nA 1 40 VAL 40 40 VAL VAL A .\\nA 1 41 ILE 41 41 ILE ILE A .\\nA 1 42 ILE 42 42 ILE ILE A .\\nA 1 43 THR 43 43 THR THR A .\\nA 1 44 GLU 44 44 GLU GLU A .\\nA 1 45 MET 45 45 MET MET A .\\nA 1 46 ALA 46 46 ALA ALA A .\\nA 1 47 LYS 47 47 LYS LYS A .\\nA 1 48 GLY 48 48 GLY GLY A .\\nA 1 49 HIS 49 49 HIS HIS A .\\nA 1 50 PHE 50 50 PHE PHE A .\\nA 1 51 GLY 51 51 GLY GLY A .\\nA 1 52 ILE 52 52 ILE ILE A .\\nA 1 53 GLY 53 53 GLY GLY A .\\nA 1 54 GLY 54 54 GLY GLY A .\\nA 1 55 GLU 55 55 GLU GLU A .\\nA 1 56 LEU 56 56 LEU LEU A .\\nA 1 57 ALA 57 57 ALA ALA A .\\nA 1 58 SER 58 58 SER SER A .\\nA 1 59 LYS 59 59 LYS LYS A .\\n#\\n#\\nloop_\\n_ma_data.id\\n_ma_data.name\\n_ma_data.content_type\\n_ma_data.content_type_other_details\\n1 'Model subunit' target .\\n2 Model 'model coordinates' .\\n#\\n#\\nloop_\\n_ma_target_entity.entity_id\\n_ma_target_entity.data_id\\n_ma_target_entity.origin\\n1 1 designed\\n#\\n#\\nloop_\\n_ma_target_entity_instance.asym_id\\n_ma_target_entity_instance.entity_id\\n_ma_target_entity_instance.details\\nA 1 'Model subunit A'\\n#\\n#\\nloop_\\n_ma_model_list.ordinal_id\\n_ma_model_list.model_name\\n_ma_model_list.data_id\\n_ma_model_list.model_type\\n_ma_model_list.model_type_other_details\\n1 Model 2 'Ab initio model' .\\n#\\n#\\nloop_\\n_ma_model_group.id\\n_ma_model_group.name\\n_ma_model_group.details\\n1 'All models' .\\n#\\n#\\nloop_\\n_ma_model_group_link.group_id\\n_ma_model_group_link.model_id\\n1 1\\n#\\n#\\nloop_\\n_atom_site.group_PDB\\n_atom_site.id\\n_atom_site.type_symbol\\n_atom_site.label_atom_id\\n_atom_site.label_alt_id\\n_atom_site.label_comp_id\\n_atom_site.label_seq_id\\n_atom_site.auth_seq_id\\n_atom_site.pdbx_PDB_ins_code\\n_atom_site.label_asym_id\\n_atom_site.Cartn_x\\n_atom_site.Cartn_y\\n_atom_site.Cartn_z\\n_atom_site.occupancy\\n_atom_site.label_entity_id\\n_atom_site.auth_asym_id\\n_atom_site.auth_comp_id\\n_atom_site.B_iso_or_equiv\\n_atom_site.pdbx_PDB_model_num\\nATOM 1 N N . PRO 1 1 ? A -12.917064 -3.8775253 -11.872387 1.000 1 A PRO . 1\\nATOM 2 C CA . PRO 1 1 ? A -12.775145 -2.4323545 -11.680297 1.000 1 A PRO . 1\\nATOM 3 C C . PRO 1 1 ? A -11.620718 -2.07157 -10.748168 1.000 1 A PRO . 1\\nATOM 4 C CB . PRO 1 1 ? A -14.118132 -2.0243232 -11.069409 1.000 1 A PRO . 1\\nATOM 5 O O . PRO 1 1 ? A -11.52009 -2.6149442 -9.6451645 1.000 1 A PRO . 1\\nATOM 6 C CG . PRO 1 1 ? A -14.837503 -3.312944 -10.832952 1.000 1 A PRO . 1\\nATOM 7 C CD . PRO 1 1 ? A -14.096942 -4.40985 -11.54265 1.000 1 A PRO . 1\\nATOM 8 N N . ILE 2 2 ? A -10.246442 -2.029643 -13.4421015 1.000 1 A ILE . 1\\nATOM 9 C CA . ILE 2 2 ? A -11.149317 -2.7406301 -12.543496 1.000 1 A ILE . 1\\nATOM 10 C C . ILE 2 2 ? A -10.605043 -2.6886275 -11.117737 1.000 1 A ILE . 1\\nATOM 11 C CB . ILE 2 2 ? A -11.349803 -4.206967 -12.987539 1.000 1 A ILE . 1\\nATOM 12 O O . ILE 2 2 ? A -9.392593 -2.7672715 -10.906191 1.000 1 A ILE . 1\\nATOM 13 C CG1 . ILE 2 2 ? A -11.680376 -4.2715836 -14.483089 1.000 1 A ILE . 1\\nATOM 14 C CG2 . ILE 2 2 ? A -12.445838 -4.878308 -12.154813 1.000 1 A ILE . 1\\nATOM 15 C CD1 . ILE 2 2 ? A -11.707661 -5.684136 -15.050532 1.000 1 A ILE . 1\\nATOM 16 N N . ALA 3 3 ? A -12.41117 -1.3984663 -12.584453 1.000 1 A ALA . 1\\nATOM 17 C CA . ALA 3 3 ? A -12.071091 -2.5385463 -11.737128 1.000 1 A ALA . 1\\nATOM 18 C C . ALA 3 3 ? A -10.559004 -2.677792 -11.585864 1.000 1 A ALA . 1\\nATOM 19 C CB . ALA 3 3 ? A -12.666004 -3.8229527 -12.309248 1.000 1 A ALA . 1\\nATOM 20 O O . ALA 3 3 ? A -9.8133 -2.5010943 -12.552134 1.000 1 A ALA . 1\\nATOM 21 N N . GLN 4 4 ? A -11.828416 -1.4860902 -13.070824 1.000 1 A GLN . 1\\nATOM 22 C CA . GLN 4 4 ? A -11.823768 -2.6649752 -12.211052 1.000 1 A GLN . 1\\nATOM 23 C C . GLN 4 4 ? A -10.71037 -2.5827491 -11.170733 1.000 1 A GLN . 1\\nATOM 24 C CB . GLN 4 4 ? A -11.669994 -3.9377627 -13.045128 1.000 1 A GLN . 1\\nATOM 25 O O . GLN 4 4 ? A -9.718696 -1.877919 -11.369525 1.000 1 A GLN . 1\\nATOM 26 C CG . GLN 4 4 ? A -12.992018 -4.5246243 -13.521072 1.000 1 A GLN . 1\\nATOM 27 C CD . GLN 4 4 ? A -12.81984 -5.843169 -14.251529 1.000 1 A GLN . 1\\nATOM 28 N NE2 . GLN 4 4 ? A -13.933857 -6.4782324 -14.599428 1.000 1 A GLN . 1\\nATOM 29 O OE1 . GLN 4 4 ? A -11.694744 -6.2870317 -14.501934 1.000 1 A GLN . 1\\nATOM 30 N N . ILE 5 5 ? A -12.709632 -2.2023866 -11.505222 1.000 1 A ILE . 1\\nATOM 31 C CA . ILE 5 5 ? A -11.595454 -3.141782 -11.570965 1.000 1 A ILE . 1\\nATOM 32 C C . ILE 5 5 ? A -10.293474 -2.4232004 -11.224243 1.000 1 A ILE . 1\\nATOM 33 C CB . ILE 5 5 ? A -11.490626 -3.7975464 -12.966134 1.000 1 A ILE . 1\\nATOM 34 O O . ILE 5 5 ? A -10.14978 -1.2260747 -11.483501 1.000 1 A ILE . 1\\nATOM 35 C CG1 . ILE 5 5 ? A -12.85025 -4.3613567 -13.394694 1.000 1 A ILE . 1\\nATOM 36 C CG2 . ILE 5 5 ? A -10.418461 -4.8911066 -12.969628 1.000 1 A ILE . 1\\nATOM 37 C CD1 . ILE 5 5 ? A -12.896143 -4.8342733 -14.841167 1.000 1 A ILE . 1\\nATOM 38 N N . HIS 6 6 ? A -12.654789 -2.582779 -11.314097 1.000 1 A HIS . 1\\nATOM 39 C CA . HIS 6 6 ? A -11.44072 -3.367135 -11.118785 1.000 1 A HIS . 1\\nATOM 40 C C . HIS 6 6 ? A -10.20125 -2.5718818 -11.514903 1.000 1 A HIS . 1\\nATOM 41 C CB . HIS 6 6 ? A -11.50843 -4.6679316 -11.920979 1.000 1 A HIS . 1\\nATOM 42 O O . HIS 6 6 ? A -10.302809 -1.5685741 -12.224587 1.000 1 A HIS . 1\\nATOM 43 C CG . HIS 6 6 ? A -12.350732 -5.724797 -11.280307 1.000 1 A HIS . 1\\nATOM 44 C CD2 . HIS 6 6 ? A -13.534784 -6.2650957 -11.652952 1.000 1 A HIS . 1\\nATOM 45 N ND1 . HIS 6 6 ? A -11.994967 -6.348008 -10.103798 1.000 1 A HIS . 1\\nATOM 46 C CE1 . HIS 6 6 ? A -12.926568 -7.229373 -9.780386 1.000 1 A HIS . 1\\nATOM 47 N NE2 . HIS 6 6 ? A -13.871935 -7.1985655 -10.703992 1.000 1 A HIS . 1\\nATOM 48 N N . ILE 7 7 ? A -11.824765 -2.5896318 -10.971503 1.000 1 A ILE . 1\\nATOM 49 C CA . ILE 7 7 ? A -10.62625 -2.3116703 -11.755389 1.000 1 A ILE . 1\\nATOM 50 C C . ILE 7 7 ? A -9.938928 -1.0575373 -11.220163 1.000 1 A ILE . 1\\nATOM 51 C CB . ILE 7 7 ? A -10.958311 -2.1423526 -13.254916 1.000 1 A ILE . 1\\nATOM 52 O O . ILE 7 7 ? A -10.547867 -0.27198416 -10.490046 1.000 1 A ILE . 1\\nATOM 53 C CG1 . ILE 7 7 ? A -11.811687 -3.3162398 -13.748739 1.000 1 A ILE . 1\\nATOM 54 C CG2 . ILE 7 7 ? A -9.6751795 -2.0124083 -14.080818 1.000 1 A ILE . 1\\nATOM 55 C CD1 . ILE 7 7 ? A -12.323186 -3.1534145 -15.173485 1.000 1 A ILE . 1\\nATOM 56 N N . LEU 8 8 ? A -11.330029 -2.7890074 -11.340693 1.000 1 A LEU . 1\\nATOM 57 C CA . LEU 8 8 ? A -10.17385 -2.1048865 -11.909375 1.000 1 A LEU . 1\\nATOM 58 C C . LEU 8 8 ? A -10.000599 -0.7226776 -11.288805 1.000 1 A LEU . 1\\nATOM 59 C CB . LEU 8 8 ? A -10.317996 -1.9807221 -13.428458 1.000 1 A LEU . 1\\nATOM 60 O O . LEU 8 8 ? A -10.960159 -0.14388824 -10.774179 1.000 1 A LEU . 1\\nATOM 61 C CG . LEU 8 8 ? A -9.82801 -3.1703696 -14.255487 1.000 1 A LEU . 1\\nATOM 62 C CD1 . LEU 8 8 ? A -10.797656 -3.4575617 -15.397024 1.000 1 A LEU . 1\\nATOM 63 C CD2 . LEU 8 8 ? A -8.425112 -2.9073148 -14.792126 1.000 1 A LEU . 1\\nATOM 64 N N . GLU 9 9 ? A -11.200989 -3.348001 -11.99036 1.000 1 A GLU . 1\\nATOM 65 C CA . GLU 9 9 ? A -11.786755 -2.0521288 -11.660666 1.000 1 A GLU . 1\\nATOM 66 C C . GLU 9 9 ? A -11.138698 -1.4543083 -10.415152 1.000 1 A GLU . 1\\nATOM 67 C CB . GLU 9 9 ? A -13.298407 -2.1814363 -11.456524 1.000 1 A GLU . 1\\nATOM 68 O O . GLU 9 9 ? A -10.460047 -2.157549 -9.66375 1.000 1 A GLU . 1\\nATOM 69 C CG . GLU 9 9 ? A -14.109983 -1.9826573 -12.728419 1.000 1 A GLU . 1\\nATOM 70 C CD . GLU 9 9 ? A -15.609286 -2.1076593 -12.509164 1.000 1 A GLU . 1\\nATOM 71 O OE1 . GLU 9 9 ? A -16.380136 -1.9541581 -13.483689 1.000 1 A GLU . 1\\nATOM 72 O OE2 . GLU 9 9 ? A -16.01648 -2.3601847 -11.353239 1.000 1 A GLU . 1\\nATOM 73 N N . GLY 10 10 ? A -11.878058 -2.0190232 -9.621083 1.000 1 A GLY . 1\\nATOM 74 C CA . GLY 10 10 ? A -11.0137615 -2.682126 -10.584429 1.000 1 A GLY . 1\\nATOM 75 C C . GLY 10 10 ? A -10.207214 -1.7133582 -11.428382 1.000 1 A GLY . 1\\nATOM 76 O O . GLY 10 10 ? A -10.534181 -0.5271789 -11.504478 1.000 1 A GLY . 1\\nATOM 77 N N . ARG 11 11 ? A -12.089972 -0.72308964 -12.324917 1.000 1 A ARG . 1\\nATOM 78 C CA . ARG 11 11 ? A -12.182049 -1.5464003 -11.123543 1.000 1 A ARG . 1\\nATOM 79 C C . ARG 11 11 ? A -12.094846 -0.68994665 -9.864771 1.000 1 A ARG . 1\\nATOM 80 C CB . ARG 11 11 ? A -11.079574 -2.6075191 -11.11277 1.000 1 A ARG . 1\\nATOM 81 O O . ARG 11 11 ? A -11.306221 0.25564462 -9.804376 1.000 1 A ARG . 1\\nATOM 82 C CG . ARG 11 11 ? A -11.364937 -3.8014271 -12.009825 1.000 1 A ARG . 1\\nATOM 83 C CD . ARG 11 11 ? A -10.3641205 -4.926602 -11.786578 1.000 1 A ARG . 1\\nATOM 84 N NE . ARG 11 11 ? A -10.62328 -6.0612955 -12.668212 1.000 1 A ARG . 1\\nATOM 85 N NH1 . ARG 11 11 ? A -8.7818775 -7.277702 -11.985108 1.000 1 A ARG . 1\\nATOM 86 N NH2 . ARG 11 11 ? A -10.193909 -8.125121 -13.579713 1.000 1 A ARG . 1\\nATOM 87 C CZ . ARG 11 11 ? A -9.865764 -7.152116 -12.7423315 1.000 1 A ARG . 1\\nATOM 88 N N . SER 12 12 ? A -12.520501 -0.19985032 -12.373914 1.000 1 A SER . 1\\nATOM 89 C CA . SER 12 12 ? A -11.890301 -1.3732865 -11.777815 1.000 1 A SER . 1\\nATOM 90 C C . SER 12 12 ? A -10.471812 -1.5660243 -12.303521 1.000 1 A SER . 1\\nATOM 91 C CB . SER 12 12 ? A -12.720474 -2.6271968 -12.055471 1.000 1 A SER . 1\\nATOM 92 O O . SER 12 12 ? A -10.100269 -0.9899726 -13.328138 1.000 1 A SER . 1\\nATOM 93 O OG . SER 12 12 ? A -12.850335 -2.8459353 -13.4497175 1.000 1 A SER . 1\\nATOM 94 N N . ASP 13 13 ? A -12.773762 -0.9561256 -10.860972 1.000 1 A ASP . 1\\nATOM 95 C CA . ASP 13 13 ? A -11.423632 -1.1863542 -11.365763 1.000 1 A ASP . 1\\nATOM 96 C C . ASP 13 13 ? A -10.549632 0.05209446 -11.181107 1.000 1 A ASP . 1\\nATOM 97 C CB . ASP 13 13 ? A -11.46354 -1.5866275 -12.842047 1.000 1 A ASP . 1\\nATOM 98 O O . ASP 13 13 ? A -11.061681 1.155411 -10.98056 1.000 1 A ASP . 1\\nATOM 99 C CG . ASP 13 13 ? A -11.804841 -3.0516286 -13.050226 1.000 1 A ASP . 1\\nATOM 100 O OD1 . ASP 13 13 ? A -12.236286 -3.4254038 -14.162219 1.000 1 A ASP .\\n1\\nATOM 101 O OD2 . ASP 13 13 ? A -11.643659 -3.8388958 -12.092675 1.000 1 A ASP .\\n1\\nATOM 102 N N . GLU 14 14 ? A -12.575965 -0.5355843 -13.10315 1.000 1 A GLU . 1\\nATOM 103 C CA . GLU 14 14 ? A -12.185568 -0.36597255 -11.706753 1.000 1 A GLU .\\n1\\nATOM 104 C C . GLU 14 14 ? A -10.753964 -0.8395716 -11.472464 1.000 1 A GLU . 1\\nATOM 105 C CB . GLU 14 14 ? A -13.146683 -1.1199932 -10.784149 1.000 1 A GLU . 1\\nATOM 106 O O . GLU 14 14 ? A -10.24378 -1.6815066 -12.214473 1.000 1 A GLU . 1\\nATOM 107 C CG . GLU 14 14 ? A -14.370574 -0.3118087 -10.37817 1.000 1 A GLU . 1\\nATOM 108 C CD . GLU 14 14 ? A -15.332055 -1.0845475 -9.489329 1.000 1 A GLU . 1\\nATOM 109 O OE1 . GLU 14 14 ? A -16.384247 -0.5262105 -9.1038065 1.000 1 A GLU .\\n1\\nATOM 110 O OE2 . GLU 14 14 ? A -15.03023 -2.2575345 -9.175098 1.000 1 A GLU . 1\\nATOM 111 N N . GLN 15 15 ? A -11.941178 -0.4830829 -10.580498 1.000 1 A GLN . 1\\nATOM 112 C CA . GLN 15 15 ? A -11.308545 -0.1007656 -11.838514 1.000 1 A GLN . 1\\nATOM 113 C C . GLN 15 15 ? A -10.198326 0.92046225 -11.607899 1.000 1 A GLN . 1\\nATOM 114 C CB . GLN 15 15 ? A -12.345304 0.4617194 -12.812197 1.000 1 A GLN . 1\\nATOM 115 O O . GLN 15 15 ? A -10.178186 1.6020683 -10.580899 1.000 1 A GLN . 1\\nATOM 116 C CG . GLN 15 15 ? A -13.019749 -0.59832394 -13.672491 1.000 1 A GLN .\\n1\\nATOM 117 C CD . GLN 15 15 ? A -13.968425 -0.005976498 -14.697629 1.000 1 A GLN .\\n1\\nATOM 118 N NE2 . GLN 15 15 ? A -14.543333 -0.8605506 -15.537006 1.000 1 A GLN .\\n1\\nATOM 119 O OE1 . GLN 15 15 ? A -14.18358 1.2097187 -14.734357 1.000 1 A GLN . 1\\nATOM 120 N N . LYS 16 16 ? A -11.519555 -0.10400866 -11.851317 1.000 1 A LYS . 1\\nATOM 121 C CA . LYS 16 16 ? A -10.233331 -0.34337175 -12.499432 1.000 1 A LYS .\\n1\\nATOM 122 C C . LYS 16 16 ? A -9.230293 0.7530062 -12.152235 1.000 1 A LYS . 1\\nATOM 123 C CB . LYS 16 16 ? A -10.405228 -0.43505618 -14.016392 1.000 1 A LYS .\\n1\\nATOM 124 O O . LYS 16 16 ? A -9.610063 1.8124108 -11.649089 1.000 1 A LYS . 1\\nATOM 125 C CG . LYS 16 16 ? A -10.779167 -1.8234468 -14.514188 1.000 1 A LYS . 1\\nATOM 126 C CD . LYS 16 16 ? A -10.776738 -1.8911146 -16.035957 1.000 1 A LYS . 1\\nATOM 127 C CE . LYS 16 16 ? A -11.119292 -3.2883768 -16.534927 1.000 1 A LYS . 1\\nATOM 128 N NZ . LYS 16 16 ? A -11.090614 -3.3666253 -18.026148 1.000 1 A LYS . 1\\nATOM 129 N N . GLU 17 17 ? A -11.876266 -0.6974131 -12.565618 1.000 1 A GLU . 1\\nATOM 130 C CA . GLU 17 17 ? A -11.54056 0.12871192 -11.409796 1.000 1 A GLU . 1\\nATOM 131 C C . GLU 17 17 ? A -10.27408 -0.37292087 -10.721995 1.000 1 A GLU . 1\\nATOM 132 C CB . GLU 17 17 ? A -12.703097 0.15876085 -10.414262 1.000 1 A GLU . 1\\nATOM 133 O O . GLU 17 17 ? A -9.879358 -1.5269011 -10.901562 1.000 1 A GLU . 1\\nATOM 134 C CG . GLU 17 17 ? A -13.693693 1.2877011 -10.659417 1.000 1 A GLU . 1\\nATOM 135 C CD . GLU 17 17 ? A -14.806269 1.3449397 -9.624764 1.000 1 A GLU . 1\\nATOM 136 O OE1 . GLU 17 17 ? A -15.674224 2.2426276 -9.715778 1.000 1 A GLU . 1\\nATOM 137 O OE2 . GLU 17 17 ? A -14.809462 0.48568755 -8.715141 1.000 1 A GLU . 1\\nATOM 138 N N . THR 18 18 ? A -12.176476 -0.1553594 -11.845929 1.000 1 A THR . 1\\nATOM 139 C CA . THR 18 18 ? A -11.120233 -0.16997947 -12.8518715 1.000 1 A THR .\\n1\\nATOM 140 C C . THR 18 18 ? A -9.903666 0.6152576 -12.370165 1.000 1 A THR . 1\\nATOM 141 C CB . THR 18 18 ? A -11.614123 0.41269326 -14.1889925 1.000 1 A THR .\\n1\\nATOM 142 O O . THR 18 18 ? A -10.023181 1.4877802 -11.507529 1.000 1 A THR . 1\\nATOM 143 C CG2 . THR 18 18 ? A -11.448628 -0.59432864 -15.322362 1.000 1 A THR .\\n1\\nATOM 144 O OG1 . THR 18 18 ? A -12.999733 0.75819445 -14.070218 1.000 1 A THR .\\n1\\nATOM 145 N N . LEU 19 19 ? A -11.199584 -0.70043355 -12.121122 1.000 1 A LEU . 1\\nATOM 146 C CA . LEU 19 19 ? A -10.290125 0.42007095 -12.334486 1.000 1 A LEU . 1\\nATOM 147 C C . LEU 19 19 ? A -9.282408 0.5268757 -11.19487 1.000 1 A LEU . 1\\nATOM 148 C CB . LEU 19 19 ? A -11.073268 1.7292421 -12.463204 1.000 1 A LEU . 1\\nATOM 149 O O . LEU 19 19 ? A -9.465762 -0.08344829 -10.139181 1.000 1 A LEU . 1\\nATOM 150 C CG . LEU 19 19 ? A -11.487431 2.1351974 -13.878477 1.000 1 A LEU . 1\\nATOM 151 C CD1 . LEU 19 19 ? A -12.92966 2.6308808 -13.887016 1.000 1 A LEU . 1\\nATOM 152 C CD2 . LEU 19 19 ? A -10.546366 3.202991 -14.425758 1.000 1 A LEU . 1\\nATOM 153 N N . ILE 20 20 ? A -11.16544 -0.21129602 -12.161139 1.000 1 A ILE . 1\\nATOM 154 C CA . ILE 20 20 ? A -9.917854 -0.69403887 -11.579188 1.000 1 A ILE . 1\\nATOM 155 C C . ILE 20 20 ? A -8.879366 0.42544866 -11.583259 1.000 1 A ILE . 1\\nATOM 156 C CB . ILE 20 20 ? A -9.379673 -1.9271561 -12.338987 1.000 1 A ILE . 1\\nATOM 157 O O . ILE 20 20 ? A -9.0372 1.4245356 -12.288869 1.000 1 A ILE . 1\\nATOM 158 C CG1 . ILE 20 20 ? A -10.4510765 -3.0214474 -12.4078665 1.000 1 A ILE\\n. 1\\nATOM 159 C CG2 . ILE 20 20 ? A -8.101593 -2.4527206 -11.678897 1.000 1 A ILE . 1\\nATOM 160 C CD1 . ILE 20 20 ? A -10.091455 -4.1830454 -13.324056 1.000 1 A ILE .\\n1\\nATOM 161 N N . ARG 21 21 ? A -10.859327 -0.1611976 -12.055062 1.000 1 A ARG . 1\\nATOM 162 C CA . ARG 21 21 ? A -10.073065 0.85876495 -11.368705 1.000 1 A ARG . 1\\nATOM 163 C C . ARG 21 21 ? A -8.858046 0.2437315 -10.682347 1.000 1 A ARG . 1\\nATOM 164 C CB . ARG 21 21 ? A -10.933104 1.6021378 -10.344366 1.000 1 A ARG . 1\\nATOM 165 O O . ARG 21 21 ? A -8.966659 -0.7986796 -10.03327 1.000 1 A ARG . 1\\nATOM 166 C CG . ARG 21 21 ? A -11.371185 2.9861069 -10.796329 1.000 1 A ARG . 1\\nATOM 167 C CD . ARG 21 21 ? A -12.096729 3.7376633 -9.6889715 1.000 1 A ARG . 1\\nATOM 168 N NE . ARG 21 21 ? A -12.898854 4.836452 -10.219281 1.000 1 A ARG . 1\\nATOM 169 N NH1 . ARG 21 21 ? A -13.791127 5.444524 -8.176946 1.000 1 A ARG . 1\\nATOM 170 N NH2 . ARG 21 21 ? A -14.371555 6.59277 -10.074141 1.000 1 A ARG . 1\\nATOM 171 C CZ . ARG 21 21 ? A -13.685348 5.6220737 -9.488912 1.000 1 A ARG . 1\\nATOM 172 N N . GLU 22 22 ? A -9.90201 0.42495453 -13.186092 1.000 1 A GLU . 1\\nATOM 173 C CA . GLU 22 22 ? A -9.24136 -0.65567505 -12.460223 1.000 1 A GLU . 1\\nATOM 174 C C . GLU 22 22 ? A -7.786168 -0.30906448 -12.158636 1.000 1 A GLU . 1\\nATOM 175 C CB . GLU 22 22 ? A -9.317155 -1.9621533 -13.254487 1.000 1 A GLU . 1\\nATOM 176 O O . GLU 22 22 ? A -7.225924 0.613333 -12.754479 1.000 1 A GLU . 1\\nATOM 177 C CG . GLU 22 22 ? A -10.600857 -2.746983 -13.026361 1.000 1 A GLU . 1\\nATOM 178 C CD . GLU 22 22 ? A -10.595678 -4.112934 -13.694014 1.000 1 A GLU . 1\\nATOM 179 O OE1 . GLU 22 22 ? A -11.597725 -4.8531466 -13.569662 1.000 1 A GLU .\\n1\\nATOM 180 O OE2 . GLU 22 22 ? A -9.580907 -4.446028 -14.345953 1.000 1 A GLU . 1\\nATOM 181 N N . VAL 23 23 ? A -10.283995 -0.078038156 -12.324555 1.000 1 A VAL .\\n1\\nATOM 182 C CA . VAL 23 23 ? A -8.9647 0.491055 -12.579035 1.000 1 A VAL . 1\\nATOM 183 C C . VAL 23 23 ? A -8.233307 0.71220905 -11.256959 1.000 1 A VAL . 1\\nATOM 184 C CB . VAL 23 23 ? A -9.060958 1.8187734 -13.363497 1.000 1 A VAL . 1\\nATOM 185 O O . VAL 23 23 ? A -8.859198 0.7672782 -10.195732 1.000 1 A VAL . 1\\nATOM 186 C CG1 . VAL 23 23 ? A -7.7354784 2.1354768 -14.053746 1.000 1 A VAL . 1\\nATOM 187 C CG2 . VAL 23 23 ? A -10.196171 1.7540543 -14.383583 1.000 1 A VAL . 1\\nATOM 188 N N . SER 24 24 ? A -8.613682 -0.6149779 -13.430884 1.000 1 A SER . 1\\nATOM 189 C CA . SER 24 24 ? A -8.698475 0.50310665 -12.497001 1.000 1 A SER . 1\\nATOM 190 C C . SER 24 24 ? A -7.804659 0.27769274 -11.282132 1.000 1 A SER . 1\\nATOM 191 C CB . SER 24 24 ? A -10.1437 0.7155969 -12.044513 1.000 1 A SER . 1\\nATOM 192 O O . SER 24 24 ? A -7.693544 -0.84556884 -10.786494 1.000 1 A SER . 1\\nATOM 193 O OG . SER 24 24 ? A -10.658923 -0.45774174 -11.4391575 1.000 1 A SER .\\n1\\nATOM 194 N N . GLU 25 25 ? A -9.236485 -0.16488336 -12.57161 1.000 1 A GLU . 1\\nATOM 195 C CA . GLU 25 25 ? A -8.8051605 0.20097412 -11.225798 1.000 1 A GLU . 1\\nATOM 196 C C . GLU 25 25 ? A -7.328475 -0.119759575 -11.013182 1.000 1 A GLU . 1\\nATOM 197 C CB . GLU 25 25 ? A -9.6559105 -0.51651025 -10.174643 1.000 1 A GLU .\\n1\\nATOM 198 O O . GLU 25 25 ? A -6.858812 -1.1920208 -11.399695 1.000 1 A GLU . 1\\nATOM 199 C CG . GLU 25 25 ? A -10.922205 0.23518074 -9.790782 1.000 1 A GLU . 1\\nATOM 200 C CD . GLU 25 25 ? A -11.726423 -0.45998877 -8.703776 1.000 1 A GLU . 1\\nATOM 201 O OE1 . GLU 25 25 ? A -12.795368 0.061163902 -8.312328 1.000 1 A GLU .\\n1\\nATOM 202 O OE2 . GLU 25 25 ? A -11.283456 -1.5340428 -8.239099 1.000 1 A GLU . 1\\nATOM 203 N N . ALA 26 26 ? A -8.868165 1.6287491 -12.376743 1.000 1 A ALA . 1\\nATOM 204 C CA . ALA 26 26 ? A -8.282881 0.30342922 -12.191368 1.000 1 A ALA . 1\\nATOM 205 C C . ALA 26 26 ? A -7.1663055 0.33744428 -11.151762 1.000 1 A ALA . 1\\nATOM 206 C CB . ALA 26 26 ? A -7.75385 -0.23501626 -13.51845 1.000 1 A ALA . 1\\nATOM 207 O O . ALA 26 26 ? A -6.5541916 1.3833832 -10.923066 1.000 1 A ALA . 1\\nATOM 208 N N . ILE 27 27 ? A -7.83627 0.7782532 -12.801682 1.000 1 A ILE . 1\\nATOM 209 C CA . ILE 27 27 ? A -6.522501 0.24223001 -12.462757 1.000 1 A ILE . 1\\nATOM 210 C C . ILE 27 27 ? A -6.3993573 0.0976294 -10.947615 1.000 1 A ILE . 1\\nATOM 211 C CB . ILE 27 27 ? A -5.3883724 1.137872 -13.009651 1.000 1 A ILE . 1\\nATOM 212 O O . ILE 27 27 ? A -7.152378 0.7202326 -10.1950865 1.000 1 A ILE . 1\\nATOM 213 C CG1 . ILE 27 27 ? A -5.5906262 1.4013939 -14.506239 1.000 1 A ILE . 1\\nATOM 214 C CG2 . ILE 27 27 ? A -4.0214295 0.49973822 -12.745682 1.000 1 A ILE .\\n1\\nATOM 215 C CD1 . ILE 27 27 ? A -4.617743 2.4147236 -15.093354 1.000 1 A ILE . 1\\nATOM 216 N N . SER 28 28 ? A -8.414615 1.8837771 -11.96562 1.000 1 A SER . 1\\nATOM 217 C CA . SER 28 28 ? A -7.307251 0.9806924 -12.261634 1.000 1 A SER . 1\\nATOM 218 C C . SER 28 28 ? A -6.212677 1.0831298 -11.204733 1.000 1 A SER . 1\\nATOM 219 C CB . SER 28 28 ? A -6.723705 1.282206 -13.642625 1.000 1 A SER . 1\\nATOM 220 O O . SER 28 28 ? A -6.1117134 2.0922298 -10.503846 1.000 1 A SER . 1\\nATOM 221 O OG . SER 28 28 ? A -5.449101 1.891218 -13.528064 1.000 1 A SER . 1\\nATOM 222 N N . ARG 29 29 ? A -7.62831 1.6176654 -12.629378 1.000 1 A ARG . 1\\nATOM 223 C CA . ARG 29 29 ? A -6.2947006 2.0738297 -12.2512 1.000 1 A ARG . 1\\nATOM 224 C C . ARG 29 29 ? A -5.7313266 1.2329177 -11.110541 1.000 1 A ARG . 1\\nATOM 225 C CB . ARG 29 29 ? A -6.3250513 3.5498264 -11.84864 1.000 1 A ARG . 1\\nATOM 226 O O . ARG 29 29 ? A -6.3473425 1.1261522 -10.04807 1.000 1 A ARG . 1\\nATOM 227 C CG . ARG 29 29 ? A -5.881016 4.4982076 -12.950893 1.000 1 A ARG . 1\\nATOM 228 C CD . ARG 29 29 ? A -5.754971 5.929144 -12.446883 1.000 1 A ARG . 1\\nATOM 229 N NE . ARG 29 29 ? A -6.2465177 6.891674 -13.428661 1.000 1 A ARG . 1\\nATOM 230 N NH1 . ARG 29 29 ? A -5.62173 8.757682 -12.218417 1.000 1 A ARG . 1\\nATOM 231 N NH2 . ARG 29 29 ? A -6.6510386 8.996908 -14.252626 1.000 1 A ARG . 1\\nATOM 232 C CZ . ARG 29 29 ? A -6.171973 8.213224 -13.297661 1.000 1 A ARG . 1\\nATOM 233 N N . SER 30 30 ? A -5.204239 1.4969076 -12.686081 1.000 1 A SER . 1\\nATOM 234 C CA . SER 30 30 ? A -6.625987 1.5524126 -12.362057 1.000 1 A SER . 1\\nATOM 235 C C . SER 30 30 ? A -7.016601 0.43930066 -11.395607 1.000 1 A SER . 1\\nATOM 236 C CB . SER 30 30 ? A -7.47009 1.4544193 -13.633458 1.000 1 A SER . 1\\nATOM 237 O O . SER 30 30 ? A -6.4101763 -0.63399196 -11.398885 1.000 1 A SER . 1\\nATOM 238 O OG . SER 30 30 ? A -7.719118 0.10009313 -13.968747 1.000 1 A SER . 1\\nATOM 239 N N . LEU 31 31 ? A -6.657875 1.1572886 -12.94449 1.000 1 A LEU . 1\\nATOM 240 C CA . LEU 31 31 ? A -5.5027366 0.6274872 -12.228156 1.000 1 A LEU . 1\\nATOM 241 C C . LEU 31 31 ? A -5.566354 0.9922258 -10.748783 1.000 1 A LEU . 1\\nATOM 242 C CB . LEU 31 31 ? A -4.2031784 1.1563325 -12.840757 1.000 1 A LEU . 1\\nATOM 243 O O . LEU 31 31 ? A -6.2081566 1.9765047 -10.374779 1.000 1 A LEU . 1\\nATOM 244 C CG . LEU 31 31 ? A -3.6455917 0.37189066 -14.029486 1.000 1 A LEU . 1\\nATOM 245 C CD1 . LEU 31 31 ? A -3.0858777 1.3265417 -15.078849 1.000 1 A LEU . 1\\nATOM 246 C CD2 . LEU 31 31 ? A -2.5746639 -0.610364 -13.567327 1.000 1 A LEU . 1\\nATOM 247 N N . ASP 32 32 ? A -7.324369 2.6383762 -12.825153 1.000 1 A ASP . 1\\nATOM 248 C CA . ASP 32 32 ? A -6.300917 1.6072049 -12.684083 1.000 1 A ASP . 1\\nATOM 249 C C . ASP 32 32 ? A -5.7417707 1.5790805 -11.263416 1.000 1 A ASP . 1\\nATOM 250 C CB . ASP 32 32 ? A -5.170135 1.8320968 -13.690055 1.000 1 A ASP . 1\\nATOM 251 O O . ASP 32 32 ? A -5.6051636 2.623948 -10.623643 1.000 1 A ASP . 1\\nATOM 252 C CG . ASP 32 32 ? A -5.2287917 0.8791958 -14.870983 1.000 1 A ASP . 1\\nATOM 253 O OD1 . ASP 32 32 ? A -4.5692906 1.1415765 -15.899864 1.000 1 A ASP . 1\\nATOM 254 O OD2 . ASP 32 32 ? A -5.943319 -0.14183271 -14.772876 1.000 1 A ASP .\\n1\\nATOM 255 N N . ALA 33 33 ? A -5.8893037 1.6913717 -12.517047 1.000 1 A ALA . 1\\nATOM 256 C CA . ALA 33 33 ? A -5.5640593 1.8093747 -11.098003 1.000 1 A ALA . 1\\nATOM 257 C C . ALA 33 33 ? A -6.7299194 1.3485476 -10.227898 1.000 1 A ALA . 1\\nATOM 258 C CB . ALA 33 33 ? A -5.185777 3.2485876 -10.756667 1.000 1 A ALA . 1\\nATOM 259 O O . ALA 33 33 ? A -7.887731 1.4070389 -10.64864 1.000 1 A ALA . 1\\nATOM 260 N N . PRO 34 34 ? A -6.581164 0.57118165 -12.552653 1.000 1 A PRO . 1\\nATOM 261 C CA . PRO 34 34 ? A -6.570531 1.4509318 -11.381551 1.000 1 A PRO . 1\\nATOM 262 C C . PRO 34 34 ? A -5.874412 0.8214735 -10.177007 1.000 1 A PRO . 1\\nATOM 263 C CB . PRO 34 34 ? A -8.057529 1.6764686 -11.096503 1.000 1 A PRO . 1\\nATOM 264 O O . PRO 34 34 ? A -6.2862387 -0.24260366 -9.707822 1.000 1 A PRO . 1\\nATOM 265 C CG . PRO 34 34 ? A -8.769201 1.0051465 -12.226457 1.000 1 A PRO . 1\\nATOM 266 C CD . PRO 34 34 ? A -7.744954 0.48973447 -13.196287 1.000 1 A PRO . 1\\nATOM 267 N N . LEU 35 35 ? A -6.114603 2.2185335 -11.190351 1.000 1 A LEU . 1\\nATOM 268 C CA . LEU 35 35 ? A -4.9712396 1.5041088 -10.633137 1.000 1 A LEU . 1\\nATOM 269 C C . LEU 35 35 ? A -5.430085 0.35023165 -9.747894 1.000 1 A LEU . 1\\nATOM 270 C CB . LEU 35 35 ? A -4.083152 2.4575226 -9.829326 1.000 1 A LEU . 1\\nATOM 271 O O . LEU 35 35 ? A -6.5100093 0.40817398 -9.155441 1.000 1 A LEU . 1\\nATOM 272 C CG . LEU 35 35 ? A -2.9632778 3.1552536 -10.602876 1.000 1 A LEU . 1\\nATOM 273 C CD1 . LEU 35 35 ? A -2.8965998 4.6308227 -10.223335 1.000 1 A LEU . 1\\nATOM 274 C CD2 . LEU 35 35 ? A -1.6260611 2.4700155 -10.342871 1.000 1 A LEU . 1\\nATOM 275 N N . THR 36 36 ? A -4.8514366 1.4355203 -12.424692 1.000 1 A THR . 1\\nATOM 276 C CA . THR 36 36 ? A -4.191203 1.1667142 -11.152049 1.000 1 A THR . 1\\nATOM 277 C C . THR 36 36 ? A -5.1835647 1.2635827 -9.996838 1.000 1 A THR . 1\\nATOM 278 C CB . THR 36 36 ? A -3.0231152 2.1410098 -10.911945 1.000 1 A THR . 1\\nATOM 279 O O . THR 36 36 ? A -6.1922646 1.9654069 -10.095264 1.000 1 A THR . 1\\nATOM 280 C CG2 . THR 36 36 ? A -1.6844497 1.4844136 -11.232672 1.000 1 A THR . 1\\nATOM 281 O OG1 . THR 36 36 ? A -3.1900225 3.293065 -11.747591 1.000 1 A THR . 1\\nATOM 282 N N . SER 37 37 ? A -5.3330636 1.6886505 -12.965738 1.000 1 A SER . 1\\nATOM 283 C CA . SER 37 37 ? A -5.6987057 0.57148767 -12.101045 1.000 1 A SER . 1\\nATOM 284 C C . SER 37 37 ? A -5.530346 0.9334656 -10.629225 1.000 1 A SER . 1\\nATOM 285 C CB . SER 37 37 ? A -4.8553214 -0.6606976 -12.431192 1.000 1 A SER . 1\\nATOM 286 O O . SER 37 37 ? A -4.531346 1.5453207 -10.245359 1.000 1 A SER . 1\\nATOM 287 O OG . SER 37 37 ? A -3.526516 -0.5003117 -11.965158 1.000 1 A SER . 1\\nATOM 288 N N . VAL 38 38 ? A -6.5586514 1.329001 -12.694285 1.000 1 A VAL . 1\\nATOM 289 C CA . VAL 38 38 ? A -5.544529 1.8618324 -11.790509 1.000 1 A VAL . 1\\nATOM 290 C C . VAL 38 38 ? A -5.7308707 1.267448 -10.396338 1.000 1 A VAL . 1\\nATOM 291 C CB . VAL 38 38 ? A -5.597969 3.4046097 -11.723692 1.000 1 A VAL . 1\\nATOM 292 O O . VAL 38 38 ? A -6.861419 1.067076 -9.946134 1.000 1 A VAL . 1\\nATOM 293 C CG1 . VAL 38 38 ? A -4.2632785 3.970827 -11.242403 1.000 1 A VAL . 1\\nATOM 294 C CG2 . VAL 38 38 ? A -5.967394 3.9847062 -13.087688 1.000 1 A VAL . 1\\nATOM 295 N N . ARG 39 39 ? A -5.4226203 0.034934282 -11.915631 1.000 1 A ARG . 1\\nATOM 296 C CA . ARG 39 39 ? A -6.582714 0.9161222 -11.830134 1.000 1 A ARG . 1\\nATOM 297 C C . ARG 39 39 ? A -6.9719677 1.169578 -10.377597 1.000 1 A ARG . 1\\nATOM 298 C CB . ARG 39 39 ? A -7.7676506 0.32116473 -12.594001 1.000 1 A ARG . 1\\nATOM 299 O O . ARG 39 39 ? A -7.094072 0.22984177 -9.589113 1.000 1 A ARG . 1\\nATOM 300 C CG . ARG 39 39 ? A -7.859712 0.7781754 -14.041143 1.000 1 A ARG . 1\\nATOM 301 C CD . ARG 39 39 ? A -9.13457 0.2822588 -14.709196 1.000 1 A ARG . 1\\nATOM 302 N NE . ARG 39 39 ? A -9.138394 0.56674886 -16.141335 1.000 1 A ARG . 1\\nATOM 303 N NH1 . ARG 39 39 ? A -11.214165 -0.36910063 -16.531721 1.000 1 A ARG .\\n1\\nATOM 304 N NH2 . ARG 39 39 ? A -10.025877 0.5567989 -18.259552 1.000 1 A ARG . 1\\nATOM 305 C CZ . ARG 39 39 ? A -10.126137 0.2508329 -16.974266 1.000 1 A ARG . 1\\nATOM 306 N N . VAL 40 40 ? A -7.0429068 2.0845354 -12.109588 1.000 1 A VAL . 1\\nATOM 307 C CA . VAL 40 40 ? A -5.9563866 2.1448193 -11.137475 1.000 1 A VAL . 1\\nATOM 308 C C . VAL 40 40 ? A -6.059934 0.96578836 -10.172648 1.000 1 A VAL . 1\\nATOM 309 C CB . VAL 40 40 ? A -5.968498 3.476872 -10.35455 1.000 1 A VAL . 1\\nATOM 310 O O . VAL 40 40 ? A -7.143755 0.41214168 -9.973198 1.000 1 A VAL . 1\\nATOM 311 C CG1 . VAL 40 40 ? A -4.6234126 3.7131639 -9.670043 1.000 1 A VAL . 1\\nATOM 312 C CG2 . VAL 40 40 ? A -6.309421 4.6391287 -11.285358 1.000 1 A VAL . 1\\nATOM 313 N N . ILE 41 41 ? A -5.944563 1.136684 -12.323366 1.000 1 A ILE . 1\\nATOM 314 C CA . ILE 41 41 ? A -4.9180803 0.8190551 -11.336643 1.000 1 A ILE . 1\\nATOM 315 C C . ILE 41 41 ? A -5.3645697 1.2948463 -9.956064 1.000 1 A ILE . 1\\nATOM 316 C CB . ILE 41 41 ? A -3.559908 1.4546711 -11.7093 1.000 1 A ILE . 1\\nATOM 317 O O . ILE 41 41 ? A -6.2750044 2.1187582 -9.840954 1.000 1 A ILE . 1\\nATOM 318 C CG1 . ILE 41 41 ? A -3.1942852 1.1209091 -13.160178 1.000 1 A ILE . 1\\nATOM 319 C CG2 . ILE 41 41 ? A -2.4634285 0.9886233 -10.747033 1.000 1 A ILE . 1\\nATOM 320 C CD1 . ILE 41 41 ? A -1.9749804 1.8704247 -13.679373 1.000 1 A ILE . 1\\nATOM 321 N N . ILE 42 42 ? A -6.5820785 0.8979992 -12.229118 1.000 1 A ILE . 1\\nATOM 322 C CA . ILE 42 42 ? A -5.7088766 1.1451257 -11.086916 1.000 1 A ILE . 1\\nATOM 323 C C . ILE 42 42 ? A -6.246604 0.4144199 -9.858646 1.000 1 A ILE . 1\\nATOM 324 C CB . ILE 42 42 ? A -5.574016 2.656478 -10.795124 1.000 1 A ILE . 1\\nATOM 325 O O . ILE 42 42 ? A -7.43734 0.101477206 -9.786619 1.000 1 A ILE . 1\\nATOM 326 C CG1 . ILE 42 42 ? A -5.0921173 3.4008563 -12.045644 1.000 1 A ILE . 1\\nATOM 327 C CG2 . ILE 42 42 ? A -4.6268096 2.8963573 -9.615851 1.000 1 A ILE . 1\\nATOM 328 C CD1 . ILE 42 42 ? A -5.1052747 4.9169908 -11.90706 1.000 1 A ILE . 1\\nATOM 329 N N . THR 43 43 ? A -6.1440234 0.5744847 -12.2968445 1.000 1 A THR . 1\\nATOM 330 C CA . THR 43 43 ? A -5.025072 1.1042174 -11.525407 1.000 1 A THR . 1\\nATOM 331 C C . THR 43 43 ? A -5.5166855 2.0781507 -10.458426 1.000 1 A THR . 1\\nATOM 332 C CB . THR 43 43 ? A -4.002833 1.8093181 -12.436006 1.000 1 A THR . 1\\nATOM 333 O O . THR 43 43 ? A -6.571642 2.6967287 -10.613826 1.000 1 A THR . 1\\nATOM 334 C CG2 . THR 43 43 ? A -2.8184762 0.8984147 -12.741887 1.000 1 A THR . 1\\nATOM 335 O OG1 . THR 43 43 ? A -4.6400924 2.1753283 -13.666181 1.000 1 A THR . 1\\nATOM 336 N N . GLU 44 44 ? A -7.939765 0.35980523 -11.574048 1.000 1 A GLU . 1\\nATOM 337 C CA . GLU 44 44 ? A -7.554201 1.7669168 -11.524204 1.000 1 A GLU . 1\\nATOM 338 C C . GLU 44 44 ? A -6.8787804 2.1075094 -10.198881 1.000 1 A GLU . 1\\nATOM 339 C CB . GLU 44 44 ? A -8.773788 2.666758 -11.739564 1.000 1 A GLU . 1\\nATOM 340 O O . GLU 44 44 ? A -7.0489736 1.3941011 -9.20802 1.000 1 A GLU . 1\\nATOM 341 C CG . GLU 44 44 ? A -9.067248 2.9651113 -13.202697 1.000 1 A GLU . 1\\nATOM 342 C CD . GLU 44 44 ? A -10.183235 3.9793994 -13.396097 1.000 1 A GLU . 1\\nATOM 343 O OE1 . GLU 44 44 ? A -10.475346 4.3465548 -14.556849 1.000 1 A GLU . 1\\nATOM 344 O OE2 . GLU 44 44 ? A -10.769598 4.411175 -12.378508 1.000 1 A GLU . 1\\nATOM 345 N N . MET 45 45 ? A -6.7693415 2.1714807 -12.186266 1.000 1 A MET . 1\\nATOM 346 C CA . MET 45 45 ? A -6.254091 2.1701174 -10.820086 1.000 1 A MET . 1\\nATOM 347 C C . MET 45 45 ? A -7.185903 1.4031138 -9.887855 1.000 1 A MET . 1\\nATOM 348 C CB . MET 45 45 ? A -6.0690875 3.6013973 -10.313119 1.000 1 A MET . 1\\nATOM 349 O O . MET 45 45 ? A -8.349255 1.1696321 -10.220371 1.000 1 A MET . 1\\nATOM 350 C CG . MET 45 45 ? A -4.953458 4.3602905 -11.01319 1.000 1 A MET . 1\\nATOM 351 S SD . MET 45 45 ? A -4.479088 5.892824 -10.122377 1.000 1 A MET . 1\\nATOM 352 C CE . MET 45 45 ? A -3.7289054 5.178006 -8.63293 1.000 1 A MET . 1\\nATOM 353 N N . ALA 46 46 ? A -7.787288 1.0353501 -12.383362 1.000 1 A ALA . 1\\nATOM 354 C CA . ALA 46 46 ? A -8.137398 1.7600024 -11.164471 1.000 1 A ALA . 1\\nATOM 355 C C . ALA 46 46 ? A -7.083834 1.5512302 -10.080453 1.000 1 A ALA . 1\\nATOM 356 C CB . ALA 46 46 ? A -9.509791 1.320809 -10.6599045 1.000 1 A ALA . 1\\nATOM 357 O O . ALA 46 46 ? A -6.455144 0.49239135 -10.012759 1.000 1 A ALA . 1\\nATOM 358 N N . LYS 47 47 ? A -6.8667703 2.4160032 -11.906138 1.000 1 A LYS . 1\\nATOM 359 C CA . LYS 47 47 ? A -5.9829264 1.8809967 -10.874485 1.000 1 A LYS . 1\\nATOM 360 C C . LYS 47 47 ? A -6.753549 1.5803684 -9.592128 1.000 1 A LYS . 1\\nATOM 361 C CB . LYS 47 47 ? A -4.8432164 2.8586352 -10.583952 1.000 1 A LYS . 1\\nATOM 362 O O . LYS 47 47 ? A -7.379849 2.4714372 -9.014663 1.000 1 A LYS . 1\\nATOM 363 C CG . LYS 47 47 ? A -3.6390104 2.6952834 -11.49963 1.000 1 A LYS . 1\\nATOM 364 C CD . LYS 47 47 ? A -2.4466784 3.5038643 -11.004744 1.000 1 A LYS . 1\\nATOM 365 C CE . LYS 47 47 ? A -1.2422564 3.3446422 -11.922716 1.000 1 A LYS . 1\\nATOM 366 N NZ . LYS 47 47 ? A -0.053102374 4.089175 -11.410595 1.000 1 A LYS . 1\\nATOM 367 N N . GLY 48 48 ? A -8.929015 2.0604231 -11.324192 1.000 1 A GLY . 1\\nATOM 368 C CA . GLY 48 48 ? A -7.9706507 1.4950659 -10.38789 1.000 1 A GLY . 1\\nATOM 369 C C . GLY 48 48 ? A -7.3913784 2.5223684 -9.43375 1.000 1 A GLY . 1\\nATOM 370 O O . GLY 48 48 ? A -7.3667665 3.716475 -9.739076 1.000 1 A GLY . 1\\nATOM 371 N N . HIS 49 49 ? A -8.362415 3.1496353 -11.51681 1.000 1 A HIS . 1\\nATOM 372 C CA . HIS 49 49 ? A -7.9591303 2.8767195 -10.141962 1.000 1 A HIS . 1\\nATOM 373 C C . HIS 49 49 ? A -6.9072237 1.7740604 -10.084847 1.000 1 A HIS . 1\\nATOM 374 C CB . HIS 49 49 ? A -9.172417 2.4892535 -9.294625 1.000 1 A HIS . 1\\nATOM 375 O O . HIS 49 49 ? A -6.956636 0.8220209 -10.867007 1.000 1 A HIS . 1\\nATOM 376 C CG . HIS 49 49 ? A -9.962321 3.6616561 -8.806338 1.000 1 A HIS . 1\\nATOM 377 C CD2 . HIS 49 49 ? A -11.159111 4.1546564 -9.203096 1.000 1 A HIS . 1\\nATOM 378 N ND1 . HIS 49 49 ? A -9.527409 4.478501 -7.785186 1.000 1 A HIS . 1\\nATOM 379 C CE1 . HIS 49 49 ? A -10.426202 5.425519 -7.5739794 1.000 1 A HIS . 1\\nATOM 380 N NE2 . HIS 49 49 ? A -11.425915 5.251587 -8.421353 1.000 1 A HIS . 1\\nATOM 381 N N . PHE 50 50 ? A -7.240913 3.9095564 -10.901242 1.000 1 A PHE . 1\\nATOM 382 C CA . PHE 50 50 ? A -7.6288576 2.6616333 -10.254496 1.000 1 A PHE . 1\\nATOM 383 C C . PHE 50 50 ? A -6.409867 1.9440213 -9.687336 1.000 1 A PHE . 1\\nATOM 384 C CB . PHE 50 50 ? A -8.363378 1.7488482 -11.241435 1.000 1 A PHE . 1\\nATOM 385 O O . PHE 50 50 ? A -5.2772927 2.2233202 -10.086069 1.000 1 A PHE . 1\\nATOM 386 C CG . PHE 50 50 ? A -9.757448 2.209231 -11.5718775 1.000 1 A PHE . 1\\nATOM 387 C CD1 . PHE 50 50 ? A -10.002693 2.9668078 -12.710578 1.000 1 A PHE . 1\\nATOM 388 C CD2 . PHE 50 50 ? A -10.823381 1.8840959 -10.743068 1.000 1 A PHE . 1\\nATOM 389 C CE1 . PHE 50 50 ? A -11.292113 3.3943288 -13.018928 1.000 1 A PHE . 1\\nATOM 390 C CE2 . PHE 50 50 ? A -12.11463 2.3076916 -11.044617 1.000 1 A PHE . 1\\nATOM 391 C CZ . PHE 50 50 ? A -12.346647 3.063486 -12.182405 1.000 1 A PHE . 1\\nATOM 392 N N . GLY 51 51 ? A -9.074906 2.4644067 -7.8329873 1.000 1 A GLY . 1\\nATOM 393 C CA . GLY 51 51 ? A -8.6569 2.7595153 -9.194213 1.000 1 A GLY . 1\\nATOM 394 C C . GLY 51 51 ? A -7.2399917 2.3083398 -9.494379 1.000 1 A GLY . 1\\nATOM 395 O O . GLY 51 51 ? A -6.35183 2.429768 -8.648126 1.000 1 A GLY . 1\\nATOM 396 N N . ILE 52 52 ? A -7.497635 3.07248 -10.448692 1.000 1 A ILE . 1\\nATOM 397 C CA . ILE 52 52 ? A -6.278711 2.282726 -10.311979 1.000 1 A ILE . 1\\nATOM 398 C C . ILE 52 52 ? A -5.9249625 2.1312928 -8.834258 1.000 1 A ILE . 1\\nATOM 399 C CB . ILE 52 52 ? A -5.101608 2.9221292 -11.082113 1.000 1 A ILE . 1\\nATOM 400 O O . ILE 52 52 ? A -6.489614 2.8194165 -7.980661 1.000 1 A ILE . 1\\nATOM 401 C CG1 . ILE 52 52 ? A -5.557449 3.3755386 -12.473786 1.000 1 A ILE . 1\\nATOM 402 C CG2 . ILE 52 52 ? A -3.9270434 1.9444553 -11.182005 1.000 1 A ILE . 1\\nATOM 403 C CD1 . ILE 52 52 ? A -4.5223665 4.200829 -13.225811 1.000 1 A ILE . 1\\nATOM 404 N N . GLY 53 53 ? A -8.4641 3.5614038 -9.201849 1.000 1 A GLY . 1\\nATOM 405 C CA . GLY 53 53 ? A -7.3974237 2.7313492 -9.73847 1.000 1 A GLY . 1\\nATOM 406 C C . GLY 53 53 ? A -6.0421033 3.0324116 -9.127114 1.000 1 A GLY . 1\\nATOM 407 O O . GLY 53 53 ? A -5.7901125 4.15542 -8.685444 1.000 1 A GLY . 1\\nATOM 408 N N . GLY 54 54 ? A -6.149317 5.352683 -10.255974 1.000 1 A GLY . 1\\nATOM 409 C CA . GLY 54 54 ? A -6.3609133 4.6131806 -9.021827 1.000 1 A GLY . 1\\nATOM 410 C C . GLY 54 54 ? A -6.829683 3.1889815 -9.252483 1.000 1 A GLY . 1\\nATOM 411 O O . GLY 54 54 ? A -7.591734 2.923972 -10.184561 1.000 1 A GLY . 1\\nATOM 412 N N . GLU 55 55 ? A -7.593207 4.8468657 -9.139307 1.000 1 A GLU . 1\\nATOM 413 C CA . GLU 55 55 ? A -7.471001 3.4034986 -8.958029 1.000 1 A GLU . 1\\nATOM 414 C C . GLU 55 55 ? A -6.3714886 3.0642495 -7.955702 1.000 1 A GLU . 1\\nATOM 415 C CB . GLU 55 55 ? A -7.19314 2.7148783 -10.296716 1.000 1 A GLU . 1\\nATOM 416 O O . GLU 55 55 ? A -5.519797 3.9025903 -7.6531687 1.000 1 A GLU . 1\\nATOM 417 C CG . GLU 55 55 ? A -8.445019 2.4326646 -11.114667 1.000 1 A GLU . 1\\nATOM 418 C CD . GLU 55 55 ? A -8.169944 1.6257577 -12.373573 1.000 1 A GLU . 1\\nATOM 419 O OE1 . GLU 55 55 ? A -9.134604 1.2590835 -13.082414 1.000 1 A GLU . 1\\nATOM 420 O OE2 . GLU 55 55 ? A -6.9801345 1.357209 -12.652811 1.000 1 A GLU . 1\\nATOM 421 N N . LEU 56 56 ? A -7.744089 3.5709038 -8.662607 1.000 1 A LEU . 1\\nATOM 422 C CA . LEU 56 56 ? A -6.682596 4.371141 -9.263457 1.000 1 A LEU . 1\\nATOM 423 C C . LEU 56 56 ? A -5.3149347 3.756137 -8.986159 1.000 1 A LEU . 1\\nATOM 424 C CB . LEU 56 56 ? A -6.7269974 5.8062925 -8.732257 1.000 1 A LEU . 1\\nATOM 425 O O . LEU 56 56 ? A -5.1650043 2.9582822 -8.057966 1.000 1 A LEU . 1\\nATOM 426 C CG . LEU 56 56 ? A -7.6604247 6.7716737 -9.464429 1.000 1 A LEU . 1\\nATOM 427 C CD1 . LEU 56 56 ? A -8.410694 7.6446595 -8.464035 1.000 1 A LEU . 1\\nATOM 428 C CD2 . LEU 56 56 ? A -6.8753524 7.6316323 -10.449026 1.000 1 A LEU . 1\\nATOM 429 N N . ALA 57 57 ? A -6.1660123 5.4590206 -10.567823 1.000 1 A ALA . 1\\nATOM 430 C CA . ALA 57 57 ? A -5.289405 4.751875 -9.637824 1.000 1 A ALA . 1\\nATOM 431 C C . ALA 57 57 ? A -6.0453854 4.337965 -8.378519 1.000 1 A ALA . 1\\nATOM 432 C CB . ALA 57 57 ? A -4.088948 5.6215224 -9.272367 1.000 1 A ALA . 1\\nATOM 433 O O . ALA 57 57 ? A -7.145047 4.83113 -8.116783 1.000 1 A ALA . 1\\nATOM 434 N N . SER 58 58 ? A -5.8943853 5.323317 -6.7819633 1.000 1 A SER . 1\\nATOM 435 C CA . SER 58 58 ? A -6.5135393 5.4529023 -8.096991 1.000 1 A SER . 1\\nATOM 436 C C . SER 58 58 ? A -6.096844 4.3119636 -9.019079 1.000 1 A SER . 1\\nATOM 437 C CB . SER 58 58 ? A -6.1455717 6.793908 -8.733291 1.000 1 A SER . 1\\nATOM 438 O O . SER 58 58 ? A -5.0140276 3.7439573 -8.862245 1.000 1 A SER . 1\\nATOM 439 O OG . SER 58 58 ? A -4.901167 6.7068644 -9.405982 1.000 1 A SER . 1\\nATOM 440 N N . LYS 59 59 ? A -7.3577976 5.1156664 -10.445663 1.000 1 A LYS . 1\\nATOM 441 C CA . LYS 59 59 ? A -6.7169785 4.9707065 -9.141802 1.000 1 A LYS . 1\\nATOM 442 C C . LYS 59 59 ? A -6.480163 3.501078 -8.805967 1.000 1 A LYS . 1\\nATOM 443 C CB . LYS 59 59 ? A -7.5642977 5.627526 -8.05104 1.000 1 A LYS . 1\\nATOM 444 O O . LYS 59 59 ? A -7.221496 2.6275957 -9.26113 1.000 1 A LYS . 1\\nATOM 445 C CG . LYS 59 59 ? A -7.100563 7.024042 -7.6638036 1.000 1 A LYS . 1\\nATOM 446 C CD . LYS 59 59 ? A -7.9176865 7.5835032 -6.506357 1.000 1 A LYS . 1\\nATOM 447 C CE . LYS 59 59 ? A -7.4578424 8.983102 -6.121231 1.000 1 A LYS . 1\\nATOM 448 N NZ . LYS 59 59 ? A -8.234401 9.522887 -4.9652586 1.000 1 A LYS . 1\\n#\\n#\\nloop_\\n_atom_type.symbol\\nC\\nN\\nO\\nS\\n#\\n\",\"mmcif\");\n",
       "\tviewer_1753240947318424.addModel(\"2OP8\");\n",
       "\tviewer_1753240947318424.setStyle({\"chain\": \"A\"},{\"cartoon\": {\"color\": \"spectrum\"}});\n",
       "\tviewer_1753240947318424.zoomTo();\n",
       "viewer_1753240947318424.render();\n",
       "})\n",
       "});\n",
       "</script>"
      ]
     },
     "metadata": {},
     "output_type": "display_data"
    },
    {
     "data": {
      "text/plain": [
       "<py3Dmol.view at 0x33258b3d0>"
      ]
     },
     "execution_count": 94,
     "metadata": {},
     "output_type": "execute_result"
    }
   ],
   "source": [
    "import py3Dmol\n",
    "\n",
    "view = py3Dmol.view()\n",
    "view = py3Dmol.view(query='2OP8')\n",
    "\n",
    "with open('prediction.mmcif', 'r') as f:\n",
    "    data = f.read()\n",
    "view.addModel(data, 'mmcif')\n",
    "view.addModel('2OP8')\n",
    "view.setStyle({'chain': 'A'}, {'cartoon': {'color':'spectrum'}})\n",
    "view.zoomTo()\n",
    "view"
   ]
  },
  {
   "cell_type": "markdown",
   "metadata": {},
   "source": [
    "If you are working in Colab, you can run the following cell to download the resulting mmcif file. Open the file in a protein view like ChimeraX on your local machine. Load the crystal structure as well. You can use the 'Tools -> Structure Analysis -> Matchmaker' to align your prediction with the template. The root mean square deviation (the error) for the alignment should be really small."
   ]
  },
  {
   "cell_type": "code",
   "execution_count": 14,
   "metadata": {},
   "outputs": [],
   "source": [
    "# If you're in Colab, you can run this cell to download your prediction\n",
    "if IN_COLAB:\n",
    "    from google.colab import files # type: ignore\n",
    "    files.download('model/prediction.mmcif')"
   ]
  }
 ],
 "metadata": {
  "kernelspec": {
   "display_name": "alphafold",
   "language": "python",
   "name": "python3"
  },
  "language_info": {
   "codemirror_mode": {
    "name": "ipython",
    "version": 3
   },
   "file_extension": ".py",
   "mimetype": "text/x-python",
   "name": "python",
   "nbconvert_exporter": "python",
   "pygments_lexer": "ipython3",
   "version": "3.9.23"
  }
 },
 "nbformat": 4,
 "nbformat_minor": 2
}
