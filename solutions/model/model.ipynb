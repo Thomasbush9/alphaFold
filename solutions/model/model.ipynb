{
 "cells": [
  {
   "cell_type": "markdown",
   "metadata": {},
   "source": [
    "## Basic Setup\n",
    "\n",
    "Run the cells below for the basic setup of this notebook."
   ]
  },
  {
   "cell_type": "code",
   "execution_count": 2,
   "metadata": {},
   "outputs": [
    {
     "name": "stdout",
     "output_type": "stream",
     "text": [
      "No colab environment, assuming local setup.\n"
     ]
    }
   ],
   "source": [
    "try:\n",
    "    from google.colab import drive # type: ignore\n",
    "    IN_COLAB = True\n",
    "except:\n",
    "    IN_COLAB = False\n",
    "    print('No colab environment, assuming local setup.')\n",
    "\n",
    "if IN_COLAB:\n",
    "    drive.mount('/content/drive')\n",
    "\n",
    "    # TODO: Enter the foldername in your Drive where you have saved the unzipped\n",
    "    # turorials folder, e.g. 'alphafold-decoded/tutorials'\n",
    "    FOLDERNAME = None\n",
    "    assert FOLDERNAME is not None, \"[!] Enter the foldername.\"\n",
    "\n",
    "    # Now that we've mounted your Drive, this ensures that\n",
    "    # the Python interpreter of the Colab VM can load\n",
    "    # python files from within it.\n",
    "    import sys\n",
    "    sys.path.append('/content/drive/My Drive/{}'.format(FOLDERNAME))\n",
    "    %cd /content/drive/My\\ Drive/$FOLDERNAME\n",
    "    %pip install py3dmol\n",
    "    %pip install modelcif\n",
    "\n",
    "    print('Connected COLAB to Google Drive.')\n",
    "\n",
    "import os\n",
    "    \n",
    "base_folder = '../model'\n",
    "control_folder = f'{base_folder}/control_values'\n",
    "\n",
    "assert os.path.isdir(control_folder), 'Folder \"control_values\" not found, make sure that FOLDERNAME is set correctly.' if IN_COLAB else 'Folder \"control_values\" not found, make sure that your root folder is set correctly.'"
   ]
  },
  {
   "cell_type": "code",
   "execution_count": 3,
   "metadata": {},
   "outputs": [
    {
     "name": "stdout",
     "output_type": "stream",
     "text": [
      "Download Openfold weights...\n",
      "Requirement already satisfied: awscli in /Users/thomasbush/miniconda3/envs/alphafold/lib/python3.9/site-packages (1.41.10)\n",
      "Requirement already satisfied: botocore==1.39.10 in /Users/thomasbush/miniconda3/envs/alphafold/lib/python3.9/site-packages (from awscli) (1.39.10)\n",
      "Requirement already satisfied: docutils<=0.19,>=0.18.1 in /Users/thomasbush/miniconda3/envs/alphafold/lib/python3.9/site-packages (from awscli) (0.19)\n",
      "Requirement already satisfied: s3transfer<0.14.0,>=0.13.0 in /Users/thomasbush/miniconda3/envs/alphafold/lib/python3.9/site-packages (from awscli) (0.13.1)\n",
      "Requirement already satisfied: PyYAML<6.1,>=3.10 in /Users/thomasbush/miniconda3/envs/alphafold/lib/python3.9/site-packages (from awscli) (6.0.2)\n",
      "Requirement already satisfied: colorama<0.4.7,>=0.2.5 in /Users/thomasbush/miniconda3/envs/alphafold/lib/python3.9/site-packages (from awscli) (0.4.6)\n",
      "Requirement already satisfied: rsa<4.8,>=3.1.2 in /Users/thomasbush/miniconda3/envs/alphafold/lib/python3.9/site-packages (from awscli) (4.7.2)\n",
      "Requirement already satisfied: jmespath<2.0.0,>=0.7.1 in /Users/thomasbush/miniconda3/envs/alphafold/lib/python3.9/site-packages (from botocore==1.39.10->awscli) (1.0.1)\n",
      "Requirement already satisfied: python-dateutil<3.0.0,>=2.1 in /Users/thomasbush/miniconda3/envs/alphafold/lib/python3.9/site-packages (from botocore==1.39.10->awscli) (2.9.0.post0)\n",
      "Requirement already satisfied: urllib3<1.27,>=1.25.4 in /Users/thomasbush/miniconda3/envs/alphafold/lib/python3.9/site-packages (from botocore==1.39.10->awscli) (1.26.20)\n",
      "Requirement already satisfied: six>=1.5 in /Users/thomasbush/miniconda3/envs/alphafold/lib/python3.9/site-packages (from python-dateutil<3.0.0,>=2.1->botocore==1.39.10->awscli) (1.17.0)\n",
      "Requirement already satisfied: pyasn1>=0.1.3 in /Users/thomasbush/miniconda3/envs/alphafold/lib/python3.9/site-packages (from rsa<4.8,>=3.1.2->awscli) (0.6.1)\n",
      "Note: you may need to restart the kernel to use updated packages.\n",
      "download: s3://openfold/openfold_params/README.txt to openfold_params/README.txt\n",
      "download: s3://openfold/openfold_params/LICENSE to openfold_params/LICENSE\n",
      "download: s3://openfold/openfold_params/finetuning_2.pt to openfold_params/finetuning_2.pt\n",
      "download: s3://openfold/openfold_params/finetuning_3.pt to openfold_params/finetuning_3.pt\n",
      "download: s3://openfold/openfold_params/finetuning_5.pt to openfold_params/finetuning_5.pt\n",
      "download: s3://openfold/openfold_params/finetuning_no_templ_1.pt to openfold_params/finetuning_no_templ_1.pt\n",
      "download: s3://openfold/openfold_params/finetuning_4.pt to openfold_params/finetuning_4.pt\n",
      "download: s3://openfold/openfold_params/finetuning_ptm_2.pt to openfold_params/finetuning_ptm_2.pt\n",
      "download: s3://openfold/openfold_params/initial_training.pt to openfold_params/initial_training.pt\n",
      "download: s3://openfold/openfold_params/finetuning_no_templ_ptm_1.pt to openfold_params/finetuning_no_templ_ptm_1.pt\n",
      "download: s3://openfold/openfold_params/finetuning_ptm_1.pt to openfold_params/finetuning_ptm_1.pt\n",
      "download: s3://openfold/openfold_params/finetuning_no_templ_2.pt to openfold_params/finetuning_no_templ_2.pt\n"
     ]
    }
   ],
   "source": [
    "import subprocess\n",
    "\n",
    "if not os.path.isdir('../model/openfold_params') or not os.listdir('../model/openfold_params'):\n",
    "    print('Download Openfold weights...')\n",
    "    %pip install awscli\n",
    "    subprocess.call(['bash', '../model/download_openfold_params.sh', '../model'])\n",
    "else:\n",
    "    print('Weights folder already exists.')\n"
   ]
  },
  {
   "cell_type": "code",
   "execution_count": 4,
   "metadata": {},
   "outputs": [],
   "source": [
    "%load_ext autoreload\n",
    "%autoreload 2\n",
    "%matplotlib inline"
   ]
  },
  {
   "cell_type": "code",
   "execution_count": 6,
   "metadata": {},
   "outputs": [],
   "source": [
    "from pathlib import Path \n",
    "import sys\n",
    "base_folder = Path('/Users/thomasbush/Documents/ML/alphafold-decoded/solutions')\n",
    "\n",
    "# Remove wrong paths if any\n",
    "sys.path = [p for p in sys.path if '../model' not in p]\n",
    "\n",
    "# Add base path again\n",
    "sys.path.insert(0, str(base_folder))"
   ]
  },
  {
   "cell_type": "code",
   "execution_count": 7,
   "metadata": {},
   "outputs": [],
   "source": [
    "from matplotlib import pyplot as plt\n",
    "import torch\n",
    "import math"
   ]
  },
  {
   "cell_type": "code",
   "execution_count": 8,
   "metadata": {},
   "outputs": [
    {
     "data": {
      "text/plain": [
       "<torch.autograd.grad_mode.set_grad_enabled at 0x140138e50>"
      ]
     },
     "execution_count": 8,
     "metadata": {},
     "output_type": "execute_result"
    }
   ],
   "source": [
    "torch.set_grad_enabled(False)"
   ]
  },
  {
   "cell_type": "markdown",
   "metadata": {},
   "source": [
    "# Model\n",
    "\n",
    "We are ready. All the parts of Alphafold are implemented, and all that's left to do is to stitch them together into the full model. \n",
    "\n",
    "It is described in Algorithm 2 in the paper. Note that we omit the template stack, and we don't do ensembling. Therefore, you can omit the lines 3, 4, 19, 20, and 7-13.\n",
    "\n",
    "Go to `model.py` and implement the initialization and the forward pass. After that, check your code by running the following cell. You might have to fix some datatype missmatches that fell through earlier checks. If they come up, go back to the methods and make sure that any tensors you create in them are of the right dtype (you can grab the dtype from one of the arguments of the method)."
   ]
  },
  {
   "cell_type": "code",
   "execution_count": 12,
   "metadata": {},
   "outputs": [
    {
     "name": "stderr",
     "output_type": "stream",
     "text": [
      "/Users/thomasbush/Documents/ML/alphafold-decoded/solutions/model/control_values/model_checks.py:61: FutureWarning: You are using `torch.load` with `weights_only=False` (the current default value), which uses the default pickle module implicitly. It is possible to construct malicious pickle data which will execute arbitrary code during unpickling (See https://github.com/pytorch/pytorch/blob/main/SECURITY.md#untrusted-models for more details). In a future release, the default value for `weights_only` will be flipped to `True`. This limits the functions that could be executed during unpickling. Arbitrary objects will no longer be allowed to be loaded via this mode unless they are explicitly allowlisted by the user via `torch.serialization.add_safe_globals`. We recommend you start setting `weights_only=True` for any use case where you don't have full control of the loaded file. Please open an issue on GitHub for any issues related to this experimental feature.\n",
      "  expected_shapes = torch.load(shapes_path)\n"
     ]
    },
    {
     "name": "stdout",
     "output_type": "stream",
     "text": [
      "Starting iteration 0...\n",
      "Starting iteration 1...\n",
      "Starting iteration 0...\n",
      "Starting iteration 1...\n"
     ]
    },
    {
     "name": "stderr",
     "output_type": "stream",
     "text": [
      "/Users/thomasbush/Documents/ML/alphafold-decoded/solutions/model/control_values/model_checks.py:143: FutureWarning: You are using `torch.load` with `weights_only=False` (the current default value), which uses the default pickle module implicitly. It is possible to construct malicious pickle data which will execute arbitrary code during unpickling (See https://github.com/pytorch/pytorch/blob/main/SECURITY.md#untrusted-models for more details). In a future release, the default value for `weights_only` will be flipped to `True`. This limits the functions that could be executed during unpickling. Arbitrary objects will no longer be allowed to be loaded via this mode unless they are explicitly allowlisted by the user via `torch.serialization.add_safe_globals`. We recommend you start setting `weights_only=True` for any use case where you don't have full control of the loaded file. Please open an issue on GitHub for any issues related to this experimental feature.\n",
      "  expected_out = torch.load(out_file_name)\n",
      "/Users/thomasbush/Documents/ML/alphafold-decoded/solutions/model/control_values/model_checks.py:148: FutureWarning: You are using `torch.load` with `weights_only=False` (the current default value), which uses the default pickle module implicitly. It is possible to construct malicious pickle data which will execute arbitrary code during unpickling (See https://github.com/pytorch/pytorch/blob/main/SECURITY.md#untrusted-models for more details). In a future release, the default value for `weights_only` will be flipped to `True`. This limits the functions that could be executed during unpickling. Arbitrary objects will no longer be allowed to be loaded via this mode unless they are explicitly allowlisted by the user via `torch.serialization.add_safe_globals`. We recommend you start setting `weights_only=True` for any use case where you don't have full control of the loaded file. Please open an issue on GitHub for any issues related to this experimental feature.\n",
      "  expected_out = torch.load(out_file_name)\n"
     ]
    }
   ],
   "source": [
    "from model import Model\n",
    "from control_values.model_checks import c_m, c_z, c_e, f_e, tf_dim, c_s, num_blocks_evoformer, num_blocks_extra_msa\n",
    "from control_values.model_checks import test_module_shape, test_module_method\n",
    "\n",
    "model = Model(c_m, c_z, c_e, f_e, tf_dim, c_s, num_blocks_extra_msa, num_blocks_evoformer)\n",
    "\n",
    "test_module_shape(model, 'model', control_folder)\n",
    "\n",
    "def test_method(*args):\n",
    "    outputs = model(*args)\n",
    "    return outputs['final_positions'], outputs['position_mask'], outputs['angles'], outputs['frames']\n",
    "\n",
    "\n",
    "test_module_method(model, 'model', 'batch', ('final_positions', 'position_mask', 'angles', 'frames'), control_folder, test_method)"
   ]
  },
  {
   "cell_type": "markdown",
   "metadata": {},
   "source": [
    "## Building the Real Model\n",
    "\n",
    "Our model passed the check for the toy input. Now it's time to load the model in real size, with real weights, and do a real evaluation pass. For this, it's much faster to use the GPU. If you are in Colab, make sure select a GPU under \"Runtime -> Change runtime type\" if you haven't done so before."
   ]
  },
  {
   "cell_type": "code",
   "execution_count": 9,
   "metadata": {},
   "outputs": [
    {
     "name": "stdout",
     "output_type": "stream",
     "text": [
      "MPS (Metal Performance Shaders) available.\n"
     ]
    }
   ],
   "source": [
    "if torch.cuda.is_available():\n",
    "    device = 'cuda'\n",
    "    print('Compatible GPU available.')\n",
    "elif torch.backends.mps.is_available():\n",
    "    device = 'mps'\n",
    "    print('MPS (Metal Performance Shaders) available.')\n",
    "else:\n",
    "    device = 'cpu'\n",
    "    print('No compatible GPU, fallback to CPU.')\n"
   ]
  },
  {
   "cell_type": "markdown",
   "metadata": {},
   "source": [
    "We are using the weights from Openfold for our model, as it is also written in PyTorch. However, we made some tweaks to the data without changing the actual weights (like renaming a few modules, swapping the angles so that they are predicted as (cos(phi), sin(phi)) like it's said in the paper, not (sin(phi), cos(phi))). You can look at the tweaks in `utils.py` in the method `load_openfold_weights`. \n",
    "\n",
    "If you named all your modules according to the descriptions, the following cell should run cleanly and tell you that all keys in the state dictionary matched successfully."
   ]
  },
  {
   "cell_type": "code",
   "execution_count": 14,
   "metadata": {},
   "outputs": [
    {
     "data": {
      "text/plain": [
       "<All keys matched successfully>"
      ]
     },
     "execution_count": 14,
     "metadata": {},
     "output_type": "execute_result"
    }
   ],
   "source": [
    "from utils import load_openfold_weights\n",
    "model = Model()\n",
    "openfold_weights = load_openfold_weights('openfold_params/finetuning_2.pt')\n",
    "\n",
    "model.load_state_dict(openfold_weights)"
   ]
  },
  {
   "cell_type": "markdown",
   "metadata": {},
   "source": [
    "As the first step in the forward pass, we'll call `create_features_from_a3m` four times in a row, to get four different input batches (different because of the random selection of cluster centers) four the four different cycles. "
   ]
  },
  {
   "cell_type": "code",
   "execution_count": 17,
   "metadata": {},
   "outputs": [],
   "source": [
    "from feature_extraction.feature_extraction import create_features_from_a3m\n",
    "\n",
    "batch = None\n",
    "\n",
    "##########################################################################\n",
    "# TODO: Compute four single batches with create_features_from_a3m.       #\n",
    "#   Then, stack all the tensors in the list to get the complete batch.   #\n",
    "##########################################################################\n",
    "\n",
    "single_cycle_batches = []\n",
    "for i in range(4):\n",
    "    single_cycle_batch = create_features_from_a3m('../feature_extraction/alignment_tautomerase.a3m')\n",
    "    single_cycle_batches.append(single_cycle_batch)\n",
    "\n",
    "batch = {\n",
    "    key: torch.stack([single_batch[key] for single_batch in single_cycle_batches], dim=-1)\n",
    "    for key in single_cycle_batches[0].keys()\n",
    "}\n",
    "\n",
    "##########################################################################\n",
    "#               END OF YOUR CODE                                         #\n",
    "##########################################################################\n",
    "\n",
    "expected_shapes = {\n",
    "    'msa_feat': (512, 59, 49, 4),\n",
    "    'extra_msa_feat': (5120, 59, 25, 4),\n",
    "    'target_feat': (59, 21, 4),\n",
    "    'residue_index': (59, 4),\n",
    "}\n",
    "\n",
    "shapes = { key: value.shape for key, value in batch.items() }\n",
    "assert set(expected_shapes.keys()) == set(shapes.keys())\n",
    "for key, shape in shapes.items():\n",
    "    assert expected_shapes[key] == shape, f'Shape mismatch for {key}: {shape} vs {expected_shapes[key]}'\n",
    "\n",
    "\n"
   ]
  },
  {
   "cell_type": "markdown",
   "metadata": {},
   "source": [
    "For a faster forward pass, we'll map the model and the inputs to the GPU, if a compatible one is available."
   ]
  },
  {
   "cell_type": "code",
   "execution_count": 18,
   "metadata": {},
   "outputs": [],
   "source": [
    "model.to(device)\n",
    "for key, value in batch.items():\n",
    "    batch[key] = value.to(device)"
   ]
  },
  {
   "cell_type": "markdown",
   "metadata": {},
   "source": [
    "Now it's time for the forward pass. If you weren't careful with mapping all the tensors you created within the methods to the correct device (which you can grab from any of the input tensors of the methods), you'll have to do some debugging before this runs through."
   ]
  },
  {
   "cell_type": "code",
   "execution_count": 19,
   "metadata": {},
   "outputs": [
    {
     "name": "stdout",
     "output_type": "stream",
     "text": [
      "Starting iteration 0...\n",
      "Starting iteration 1...\n",
      "Starting iteration 2...\n",
      "Starting iteration 3...\n"
     ]
    }
   ],
   "source": [
    "with torch.no_grad():\n",
    "    outputs = model(batch)"
   ]
  },
  {
   "cell_type": "markdown",
   "metadata": {},
   "source": [
    "We wrote a little wrapper around the modelcif python library, to create an mmcif file from our atom positions. If you are interested, you can inspect it in `utils.py`. The following cell uses this method to create `prediction.mmcif`."
   ]
  },
  {
   "cell_type": "code",
   "execution_count": 22,
   "metadata": {},
   "outputs": [],
   "source": [
    "from utils import to_modelcif\n",
    "from geometry.residue_constants import restypes\n",
    "\n",
    "atom_positions = outputs['final_positions'][..., -1]\n",
    "atom_mask = outputs['position_mask'][..., -1]\n",
    "seq_inds = batch['target_feat'].cpu()[..., -1].argmax(dim=-1).numpy()\n",
    "seq = ''.join([restypes[ind] for ind in seq_inds])\n",
    "\n",
    "cif_str = to_modelcif(atom_positions, atom_mask, seq)\n",
    "\n",
    "with open('prediction.mmcif', 'w') as f:\n",
    "    f.write(cif_str)"
   ]
  },
  {
   "cell_type": "markdown",
   "metadata": {},
   "source": [
    "The py3Dmol library allows us to visualize our prediction in Jupyter Notebooks. You can uncomment the second `view = ...` line and comment the first one out, to display the protein prediction alongside the crystal structure from the PDB (if you do so, the little sticks in the background are the second part of the dimer from the PDB)."
   ]
  },
  {
   "cell_type": "code",
   "execution_count": 26,
   "metadata": {},
   "outputs": [
    {
     "data": {
      "application/3dmoljs_load.v0": "<div id=\"3dmolviewer_17532393316432252\"  style=\"position: relative; width: 640px; height: 480px;\">\n        <p id=\"3dmolwarning_17532393316432252\" style=\"background-color:#ffcccc;color:black\">3Dmol.js failed to load for some reason.  Please check your browser console for error messages.<br></p>\n        </div>\n<script>\n\nvar loadScriptAsync = function(uri){\n  return new Promise((resolve, reject) => {\n    //this is to ignore the existence of requirejs amd\n    var savedexports, savedmodule;\n    if (typeof exports !== 'undefined') savedexports = exports;\n    else exports = {}\n    if (typeof module !== 'undefined') savedmodule = module;\n    else module = {}\n\n    var tag = document.createElement('script');\n    tag.src = uri;\n    tag.async = true;\n    tag.onload = () => {\n        exports = savedexports;\n        module = savedmodule;\n        resolve();\n    };\n  var firstScriptTag = document.getElementsByTagName('script')[0];\n  firstScriptTag.parentNode.insertBefore(tag, firstScriptTag);\n});\n};\n\nif(typeof $3Dmolpromise === 'undefined') {\n$3Dmolpromise = null;\n  $3Dmolpromise = loadScriptAsync('https://cdn.jsdelivr.net/npm/3dmol@2.5.0/build/3Dmol-min.js');\n}\n\nvar viewer_17532393316432252 = null;\nvar warn = document.getElementById(\"3dmolwarning_17532393316432252\");\nif(warn) {\n    warn.parentNode.removeChild(warn);\n}\n$3Dmolpromise.then(function() {\nviewer_17532393316432252 = $3Dmol.createViewer(document.getElementById(\"3dmolviewer_17532393316432252\"),{backgroundColor:\"white\"});\n$3Dmol.download(\"2OP8\", viewer_17532393316432252, {}, function() {\nviewer_17532393316432252.zoomTo();\n\tviewer_17532393316432252.addModel(\"data_model\\n_entry.id model\\n_struct.entry_id model\\n_struct.pdbx_model_details .\\n_struct.pdbx_structure_determination_methodology computational\\n_struct.title 'AlphaFold prediction'\\n_audit_conform.dict_location https://raw.githubusercontent.com/ihmwg/ModelCIF/80e1e22/dist/mmcif_ma.dic\\n_audit_conform.dict_name mmcif_ma.dic\\n_audit_conform.dict_version 1.4.7\\n#\\nloop_\\n_chem_comp.id\\n_chem_comp.type\\n_chem_comp.name\\n_chem_comp.formula\\n_chem_comp.formula_weight\\n_chem_comp.ma_provenance\\nALA 'L-peptide linking' ALANINE 'C3 H7 N O2' 89.094 'CCD Core'\\nARG 'L-peptide linking' ARGININE 'C6 H15 N4 O2 1' 175.212 'CCD Core'\\nASP 'L-peptide linking' 'ASPARTIC ACID' 'C4 H7 N O4' 133.103 'CCD Core'\\nGLN 'L-peptide linking' GLUTAMINE 'C5 H10 N2 O3' 146.146 'CCD Core'\\nGLU 'L-peptide linking' 'GLUTAMIC ACID' 'C5 H9 N O4' 147.130 'CCD Core'\\nGLY 'peptide linking' GLYCINE 'C2 H5 N O2' 75.067 'CCD Core'\\nHIS 'L-peptide linking' HISTIDINE 'C6 H10 N3 O2 1' 156.165 'CCD Core'\\nILE 'L-peptide linking' ISOLEUCINE 'C6 H13 N O2' 131.175 'CCD Core'\\nLEU 'L-peptide linking' LEUCINE 'C6 H13 N O2' 131.175 'CCD Core'\\nLYS 'L-peptide linking' LYSINE 'C6 H15 N2 O2 1' 147.198 'CCD Core'\\nMET 'L-peptide linking' METHIONINE 'C5 H11 N O2 S' 149.208 'CCD Core'\\nPHE 'L-peptide linking' PHENYLALANINE 'C9 H11 N O2' 165.192 'CCD Core'\\nPRO 'L-peptide linking' PROLINE 'C5 H9 N O2' 115.132 'CCD Core'\\nSER 'L-peptide linking' SERINE 'C3 H7 N O3' 105.093 'CCD Core'\\nTHR 'L-peptide linking' THREONINE 'C4 H9 N O3' 119.120 'CCD Core'\\nVAL 'L-peptide linking' VALINE 'C5 H11 N O2' 117.148 'CCD Core'\\n#\\n#\\nloop_\\n_entity.id\\n_entity.type\\n_entity.src_method\\n_entity.pdbx_description\\n_entity.formula_weight\\n_entity.pdbx_number_of_molecules\\n_entity.details\\n1 polymer man 'Model subunit' 7453.286 1 .\\n#\\n#\\nloop_\\n_entity_poly.entity_id\\n_entity_poly.type\\n_entity_poly.nstd_linkage\\n_entity_poly.nstd_monomer\\n_entity_poly.pdbx_strand_id\\n_entity_poly.pdbx_seq_one_letter_code\\n_entity_poly.pdbx_seq_one_letter_code_can\\n1 polypeptide(L) no no A\\nPIAQIHILEGRSDEQKETLIREVSEAISRSLDAPLTSVRVIITEMAKGHFGIGGELASK\\nPIAQIHILEGRSDEQKETLIREVSEAISRSLDAPLTSVRVIITEMAKGHFGIGGELASK\\n#\\n#\\nloop_\\n_entity_poly_seq.entity_id\\n_entity_poly_seq.num\\n_entity_poly_seq.mon_id\\n_entity_poly_seq.hetero\\n1 1 PRO .\\n1 2 ILE .\\n1 3 ALA .\\n1 4 GLN .\\n1 5 ILE .\\n1 6 HIS .\\n1 7 ILE .\\n1 8 LEU .\\n1 9 GLU .\\n1 10 GLY .\\n1 11 ARG .\\n1 12 SER .\\n1 13 ASP .\\n1 14 GLU .\\n1 15 GLN .\\n1 16 LYS .\\n1 17 GLU .\\n1 18 THR .\\n1 19 LEU .\\n1 20 ILE .\\n1 21 ARG .\\n1 22 GLU .\\n1 23 VAL .\\n1 24 SER .\\n1 25 GLU .\\n1 26 ALA .\\n1 27 ILE .\\n1 28 SER .\\n1 29 ARG .\\n1 30 SER .\\n1 31 LEU .\\n1 32 ASP .\\n1 33 ALA .\\n1 34 PRO .\\n1 35 LEU .\\n1 36 THR .\\n1 37 SER .\\n1 38 VAL .\\n1 39 ARG .\\n1 40 VAL .\\n1 41 ILE .\\n1 42 ILE .\\n1 43 THR .\\n1 44 GLU .\\n1 45 MET .\\n1 46 ALA .\\n1 47 LYS .\\n1 48 GLY .\\n1 49 HIS .\\n1 50 PHE .\\n1 51 GLY .\\n1 52 ILE .\\n1 53 GLY .\\n1 54 GLY .\\n1 55 GLU .\\n1 56 LEU .\\n1 57 ALA .\\n1 58 SER .\\n1 59 LYS .\\n#\\n#\\nloop_\\n_struct_asym.id\\n_struct_asym.entity_id\\n_struct_asym.details\\nA 1 'Model subunit A'\\n#\\n#\\nloop_\\n_pdbx_poly_seq_scheme.asym_id\\n_pdbx_poly_seq_scheme.entity_id\\n_pdbx_poly_seq_scheme.seq_id\\n_pdbx_poly_seq_scheme.mon_id\\n_pdbx_poly_seq_scheme.pdb_seq_num\\n_pdbx_poly_seq_scheme.auth_seq_num\\n_pdbx_poly_seq_scheme.pdb_mon_id\\n_pdbx_poly_seq_scheme.auth_mon_id\\n_pdbx_poly_seq_scheme.pdb_strand_id\\n_pdbx_poly_seq_scheme.pdb_ins_code\\nA 1 1 PRO 1 1 PRO PRO A .\\nA 1 2 ILE 2 2 ILE ILE A .\\nA 1 3 ALA 3 3 ALA ALA A .\\nA 1 4 GLN 4 4 GLN GLN A .\\nA 1 5 ILE 5 5 ILE ILE A .\\nA 1 6 HIS 6 6 HIS HIS A .\\nA 1 7 ILE 7 7 ILE ILE A .\\nA 1 8 LEU 8 8 LEU LEU A .\\nA 1 9 GLU 9 9 GLU GLU A .\\nA 1 10 GLY 10 10 GLY GLY A .\\nA 1 11 ARG 11 11 ARG ARG A .\\nA 1 12 SER 12 12 SER SER A .\\nA 1 13 ASP 13 13 ASP ASP A .\\nA 1 14 GLU 14 14 GLU GLU A .\\nA 1 15 GLN 15 15 GLN GLN A .\\nA 1 16 LYS 16 16 LYS LYS A .\\nA 1 17 GLU 17 17 GLU GLU A .\\nA 1 18 THR 18 18 THR THR A .\\nA 1 19 LEU 19 19 LEU LEU A .\\nA 1 20 ILE 20 20 ILE ILE A .\\nA 1 21 ARG 21 21 ARG ARG A .\\nA 1 22 GLU 22 22 GLU GLU A .\\nA 1 23 VAL 23 23 VAL VAL A .\\nA 1 24 SER 24 24 SER SER A .\\nA 1 25 GLU 25 25 GLU GLU A .\\nA 1 26 ALA 26 26 ALA ALA A .\\nA 1 27 ILE 27 27 ILE ILE A .\\nA 1 28 SER 28 28 SER SER A .\\nA 1 29 ARG 29 29 ARG ARG A .\\nA 1 30 SER 30 30 SER SER A .\\nA 1 31 LEU 31 31 LEU LEU A .\\nA 1 32 ASP 32 32 ASP ASP A .\\nA 1 33 ALA 33 33 ALA ALA A .\\nA 1 34 PRO 34 34 PRO PRO A .\\nA 1 35 LEU 35 35 LEU LEU A .\\nA 1 36 THR 36 36 THR THR A .\\nA 1 37 SER 37 37 SER SER A .\\nA 1 38 VAL 38 38 VAL VAL A .\\nA 1 39 ARG 39 39 ARG ARG A .\\nA 1 40 VAL 40 40 VAL VAL A .\\nA 1 41 ILE 41 41 ILE ILE A .\\nA 1 42 ILE 42 42 ILE ILE A .\\nA 1 43 THR 43 43 THR THR A .\\nA 1 44 GLU 44 44 GLU GLU A .\\nA 1 45 MET 45 45 MET MET A .\\nA 1 46 ALA 46 46 ALA ALA A .\\nA 1 47 LYS 47 47 LYS LYS A .\\nA 1 48 GLY 48 48 GLY GLY A .\\nA 1 49 HIS 49 49 HIS HIS A .\\nA 1 50 PHE 50 50 PHE PHE A .\\nA 1 51 GLY 51 51 GLY GLY A .\\nA 1 52 ILE 52 52 ILE ILE A .\\nA 1 53 GLY 53 53 GLY GLY A .\\nA 1 54 GLY 54 54 GLY GLY A .\\nA 1 55 GLU 55 55 GLU GLU A .\\nA 1 56 LEU 56 56 LEU LEU A .\\nA 1 57 ALA 57 57 ALA ALA A .\\nA 1 58 SER 58 58 SER SER A .\\nA 1 59 LYS 59 59 LYS LYS A .\\n#\\n#\\nloop_\\n_ma_data.id\\n_ma_data.name\\n_ma_data.content_type\\n_ma_data.content_type_other_details\\n1 'Model subunit' target .\\n2 Model 'model coordinates' .\\n#\\n#\\nloop_\\n_ma_target_entity.entity_id\\n_ma_target_entity.data_id\\n_ma_target_entity.origin\\n1 1 designed\\n#\\n#\\nloop_\\n_ma_target_entity_instance.asym_id\\n_ma_target_entity_instance.entity_id\\n_ma_target_entity_instance.details\\nA 1 'Model subunit A'\\n#\\n#\\nloop_\\n_ma_model_list.ordinal_id\\n_ma_model_list.model_name\\n_ma_model_list.data_id\\n_ma_model_list.model_type\\n_ma_model_list.model_type_other_details\\n1 Model 2 'Ab initio model' .\\n#\\n#\\nloop_\\n_ma_model_group.id\\n_ma_model_group.name\\n_ma_model_group.details\\n1 'All models' .\\n#\\n#\\nloop_\\n_ma_model_group_link.group_id\\n_ma_model_group_link.model_id\\n1 1\\n#\\n#\\nloop_\\n_atom_site.group_PDB\\n_atom_site.id\\n_atom_site.type_symbol\\n_atom_site.label_atom_id\\n_atom_site.label_alt_id\\n_atom_site.label_comp_id\\n_atom_site.label_seq_id\\n_atom_site.auth_seq_id\\n_atom_site.pdbx_PDB_ins_code\\n_atom_site.label_asym_id\\n_atom_site.Cartn_x\\n_atom_site.Cartn_y\\n_atom_site.Cartn_z\\n_atom_site.occupancy\\n_atom_site.label_entity_id\\n_atom_site.auth_asym_id\\n_atom_site.auth_comp_id\\n_atom_site.B_iso_or_equiv\\n_atom_site.pdbx_PDB_model_num\\nATOM 1 N N . PRO 1 1 ? A -4.161809 -3.1450362 12.591818 1.000 1 A PRO . 1\\nATOM 2 C CA . PRO 1 1 ? A -4.7494407 -2.9860256 11.259541 1.000 1 A PRO . 1\\nATOM 3 C C . PRO 1 1 ? A -3.805328 -3.4239364 10.142126 1.000 1 A PRO . 1\\nATOM 4 C CB . PRO 1 1 ? A -5.0340185 -1.4842144 11.17668 1.000 1 A PRO . 1\\nATOM 5 O O . PRO 1 1 ? A -2.5841606 -3.3236675 10.285979 1.000 1 A PRO . 1\\nATOM 6 C CG . PRO 1 1 ? A -5.014176 -1.0128363 12.594904 1.000 1 A PRO . 1\\nATOM 7 C CD . PRO 1 1 ? A -4.108342 -1.9136933 13.384352 1.000 1 A PRO . 1\\nATOM 8 N N . ILE 2 2 ? A -4.42457 -4.355715 9.279389 1.000 1 A ILE . 1\\nATOM 9 C CA . ILE 2 2 ? A -3.6593418 -4.83695 8.134393 1.000 1 A ILE . 1\\nATOM 10 C C . ILE 2 2 ? A -4.181394 -4.1872063 6.85493 1.000 1 A ILE . 1\\nATOM 11 C CB . ILE 2 2 ? A -3.7234347 -6.3764195 8.018462 1.000 1 A ILE . 1\\nATOM 12 O O . ILE 2 2 ? A -5.3815355 -4.2305565 6.574297 1.000 1 A ILE . 1\\nATOM 13 C CG1 . ILE 2 2 ? A -3.1615877 -7.0312085 9.285626 1.000 1 A ILE . 1\\nATOM 14 C CG2 . ILE 2 2 ? A -2.970467 -6.856057 6.7741094 1.000 1 A ILE . 1\\nATOM 15 C CD1 . ILE 2 2 ? A -3.3358862 -8.543043 9.330554 1.000 1 A ILE . 1\\nATOM 16 N N . ALA 3 3 ? A -3.2264342 -3.4541247 6.091759 1.000 1 A ALA . 1\\nATOM 17 C CA . ALA 3 3 ? A -3.5688426 -2.8648398 4.799903 1.000 1 A ALA . 1\\nATOM 18 C C . ALA 3 3 ? A -2.9920604 -3.6877441 3.6515017 1.000 1 A ALA . 1\\nATOM 19 C CB . ALA 3 3 ? A -3.0679655 -1.4246793 4.7224355 1.000 1 A ALA . 1\\nATOM 20 O O . ALA 3 3 ? A -1.811205 -4.0431867 3.666122 1.000 1 A ALA . 1\\nATOM 21 N N . GLN 4 4 ? A -3.8484936 -4.088196 2.7662988 1.000 1 A GLN . 1\\nATOM 22 C CA . GLN 4 4 ? A -3.4413438 -4.7898703 1.5535003 1.000 1 A GLN . 1\\nATOM 23 C C . GLN 4 4 ? A -3.516722 -3.873068 0.33593333 1.000 1 A GLN . 1\\nATOM 24 C CB . GLN 4 4 ? A -4.3101897 -6.0290093 1.332237 1.000 1 A GLN . 1\\nATOM 25 O O . GLN 4 4 ? A -4.565548 -3.2886925 0.056309342 1.000 1 A GLN . 1\\nATOM 26 C CG . GLN 4 4 ? A -4.1511917 -7.0921683 2.4107027 1.000 1 A GLN . 1\\nATOM 27 C CD . GLN 4 4 ? A -4.9563375 -8.345405 2.1227605 1.000 1 A GLN . 1\\nATOM 28 N NE2 . GLN 4 4 ? A -4.7197723 -9.394531 2.90298 1.000 1 A GLN . 1\\nATOM 29 O OE1 . GLN 4 4 ? A -5.784886 -8.370234 1.2070928 1.000 1 A GLN . 1\\nATOM 30 N N . ILE 5 5 ? A -2.380919 -3.6272771 -0.33209765 1.000 1 A ILE . 1\\nATOM 31 C CA . ILE 5 5 ? A -2.2671351 -2.7390938 -1.4837768 1.000 1 A ILE . 1\\nATOM 32 C C . ILE 5 5 ? A -1.8494074 -3.5407834 -2.7144394 1.000 1 A ILE . 1\\nATOM 33 C CB . ILE 5 5 ? A -1.2593579 -1.5978873 -1.2200515 1.000 1 A ILE . 1\\nATOM 34 O O . ILE 5 5 ? A -0.8444295 -4.255057 -2.6859982 1.000 1 A ILE . 1\\nATOM 35 C CG1 . ILE 5 5 ? A -1.6659522 -0.80393213 0.026722431 1.000 1 A ILE . 1\\nATOM 36 C CG2 . ILE 5 5 ? A -1.1500398 -0.6809399 -2.441807 1.000 1 A ILE . 1\\nATOM 37 C CD1 . ILE 5 5 ? A -0.5970113 0.16027397 0.5224217 1.000 1 A ILE . 1\\nATOM 38 N N . HIS 6 6 ? A -2.669715 -3.454001 -3.658957 1.000 1 A HIS . 1\\nATOM 39 C CA . HIS 6 6 ? A -2.3834898 -4.0961413 -4.9368696 1.000 1 A HIS . 1\\nATOM 40 C C . HIS 6 6 ? A -1.9660065 -3.0720181 -5.986872 1.000 1 A HIS . 1\\nATOM 41 C CB . HIS 6 6 ? A -3.6009982 -4.8828144 -5.425739 1.000 1 A HIS . 1\\nATOM 42 O O . HIS 6 6 ? A -2.6992674 -2.1176167 -6.2552767 1.000 1 A HIS . 1\\nATOM 43 C CG . HIS 6 6 ? A -4.125304 -5.8611007 -4.4232616 1.000 1 A HIS . 1\\nATOM 44 C CD2 . HIS 6 6 ? A -5.184868 -5.7917757 -3.5834455 1.000 1 A HIS . 1\\nATOM 45 N ND1 . HIS 6 6 ? A -3.5344005 -7.0857754 -4.1993365 1.000 1 A HIS . 1\\nATOM 46 C CE1 . HIS 6 6 ? A -4.2109375 -7.729532 -3.2627702 1.000 1 A HIS . 1\\nATOM 47 N NE2 . HIS 6 6 ? A -5.217085 -6.9660206 -2.8723373 1.000 1 A HIS . 1\\nATOM 48 N N . ILE 7 7 ? A -0.77449715 -3.1694279 -6.4855824 1.000 1 A ILE . 1\\nATOM 49 C CA . ILE 7 7 ? A -0.2668145 -2.205837 -7.456114 1.000 1 A ILE . 1\\nATOM 50 C C . ILE 7 7 ? A 0.40562943 -2.9430666 -8.611987 1.000 1 A ILE . 1\\nATOM 51 C CB . ILE 7 7 ? A 0.72333956 -1.2149723 -6.803965 1.000 1 A ILE . 1\\nATOM 52 O O . ILE 7 7 ? A 0.77862966 -4.110971 -8.478404 1.000 1 A ILE . 1\\nATOM 53 C CG1 . ILE 7 7 ? A 1.9197621 -1.9680568 -6.211037 1.000 1 A ILE . 1\\nATOM 54 C CG2 . ILE 7 7 ? A 0.020274758 -0.3745296 -5.734019 1.000 1 A ILE . 1\\nATOM 55 C CD1 . ILE 7 7 ? A 3.0296874 -1.0608915 -5.6980453 1.000 1 A ILE . 1\\nATOM 56 N N . LEU 8 8 ? A 0.49596292 -2.2965167 -9.831626 1.000 1 A LEU . 1\\nATOM 57 C CA . LEU 8 8 ? A 1.1988504 -2.8483918 -10.984689 1.000 1 A LEU . 1\\nATOM 58 C C . LEU 8 8 ? A 2.7058606 -2.8537755 -10.751199 1.000 1 A LEU . 1\\nATOM 59 C CB . LEU 8 8 ? A 0.8690936 -2.0477428 -12.247239 1.000 1 A LEU . 1\\nATOM 60 O O . LEU 8 8 ? A 3.2392585 -1.9590874 -10.0911875 1.000 1 A LEU . 1\\nATOM 61 C CG . LEU 8 8 ? A -0.5662318 -2.1574814 -12.764081 1.000 1 A LEU . 1\\nATOM 62 C CD1 . LEU 8 8 ? A -0.7920285 -1.1802622 -13.912932 1.000 1 A LEU . 1\\nATOM 63 C CD2 . LEU 8 8 ? A -0.86900866 -3.5860686 -13.203135 1.000 1 A LEU . 1\\nATOM 64 N N . GLU 9 9 ? A 3.3629637 -3.8092713 -11.320063 1.000 1 A GLU . 1\\nATOM 65 C CA . GLU 9 9 ? A 4.8163943 -3.8904686 -11.210285 1.000 1 A GLU . 1\\nATOM 66 C C . GLU 9 9 ? A 5.4869776 -2.6801438 -11.853798 1.000 1 A GLU . 1\\nATOM 67 C CB . GLU 9 9 ? A 5.3329954 -5.1809044 -11.85168 1.000 1 A GLU . 1\\nATOM 68 O O . GLU 9 9 ? A 4.9158735 -2.0483274 -12.745071 1.000 1 A GLU . 1\\nATOM 69 C CG . GLU 9 9 ? A 4.948587 -6.4420934 -11.091731 1.000 1 A GLU . 1\\nATOM 70 C CD . GLU 9 9 ? A 5.447907 -7.716796 -11.753111 1.000 1 A GLU . 1\\nATOM 71 O OE1 . GLU 9 9 ? A 5.3285184 -8.803833 -11.143545 1.000 1 A GLU . 1\\nATOM 72 O OE2 . GLU 9 9 ? A 5.9635973 -7.627599 -12.889705 1.000 1 A GLU . 1\\nATOM 73 N N . GLY 10 10 ? A 6.688015 -2.2185922 -11.2687025 1.000 1 A GLY . 1\\nATOM 74 C CA . GLY 10 10 ? A 7.454329 -1.1641829 -11.91348 1.000 1 A GLY . 1\\nATOM 75 C C . GLY 10 10 ? A 7.8431797 -0.04471898 -10.966439 1.000 1 A GLY . 1\\nATOM 76 O O . GLY 10 10 ? A 8.615888 0.84383416 -11.33129 1.000 1 A GLY . 1\\nATOM 77 N N . ARG 11 11 ? A 7.3222947 -0.085950196 -9.754755 1.000 1 A ARG . 1\\nATOM 78 C CA . ARG 11 11 ? A 7.704372 0.9036343 -8.752577 1.000 1 A ARG . 1\\nATOM 79 C C . ARG 11 11 ? A 9.029541 0.5334618 -8.094909 1.000 1 A ARG . 1\\nATOM 80 C CB . ARG 11 11 ? A 6.6124253 1.0419884 -7.689537 1.000 1 A ARG . 1\\nATOM 81 O O . ARG 11 11 ? A 9.312308 -0.6465373 -7.877271 1.000 1 A ARG . 1\\nATOM 82 C CG . ARG 11 11 ? A 5.2504225 1.4181163 -8.250817 1.000 1 A ARG . 1\\nATOM 83 C CD . ARG 11 11 ? A 5.2936015 2.746471 -8.993181 1.000 1 A ARG . 1\\nATOM 84 N NE . ARG 11 11 ? A 3.9748058 3.130101 -9.48874 1.000 1 A ARG . 1\\nATOM 85 N NH1 . ARG 11 11 ? A 4.7415757 4.8902254 -10.773679 1.000 1 A ARG . 1\\nATOM 86 N NH2 . ARG 11 11 ? A 2.502927 4.4011755 -10.710426 1.000 1 A ARG . 1\\nATOM 87 C CZ . ARG 11 11 ? A 3.7427802 4.1396246 -10.323151 1.000 1 A ARG . 1\\nATOM 88 N N . SER 12 12 ? A 9.848803 1.6410275 -7.7886734 1.000 1 A SER . 1\\nATOM 89 C CA . SER 12 12 ? A 11.122066 1.369595 -7.1294556 1.000 1 A SER . 1\\nATOM 90 C C . SER 12 12 ? A 10.914243 0.94109726 -5.680723 1.000 1 A SER . 1\\nATOM 91 C CB . SER 12 12 ? A 12.025961 2.6020474 -7.180533 1.000 1 A SER . 1\\nATOM 92 O O . SER 12 12 ? A 9.870539 1.2227166 -5.0881925 1.000 1 A SER . 1\\nATOM 93 O OG . SER 12 12 ? A 11.5311985 3.6241841 -6.3325458 1.000 1 A SER . 1\\nATOM 94 N N . ASP 13 13 ? A 11.832808 0.27687007 -5.121314 1.000 1 A ASP . 1\\nATOM 95 C CA . ASP 13 13 ? A 11.796517 -0.0718237 -3.7043571 1.000 1 A ASP . 1\\nATOM 96 C C . ASP 13 13 ? A 11.621899 1.1726099 -2.8368182 1.000 1 A ASP . 1\\nATOM 97 C CB . ASP 13 13 ? A 13.070123 -0.8186388 -3.3025835 1.000 1 A ASP . 1\\nATOM 98 O O . ASP 13 13 ? A 10.962345 1.1229671 -1.7965078 1.000 1 A ASP . 1\\nATOM 99 C CG . ASP 13 13 ? A 13.121186 -2.237033 -3.8425882 1.000 1 A ASP . 1\\nATOM 100 O OD1 . ASP 13 13 ? A 14.218499 -2.834014 -3.8861818 1.000 1 A ASP . 1\\nATOM 101 O OD2 . ASP 13 13 ? A 12.054894 -2.7614412 -4.2307787 1.000 1 A ASP . 1\\nATOM 102 N N . GLU 14 14 ? A 12.286525 2.2453742 -3.1999056 1.000 1 A GLU . 1\\nATOM 103 C CA . GLU 14 14 ? A 12.15873 3.482822 -2.4360354 1.000 1 A GLU . 1\\nATOM 104 C C . GLU 14 14 ? A 10.716642 3.9818559 -2.4309185 1.000 1 A GLU . 1\\nATOM 105 C CB . GLU 14 14 ? A 13.086656 4.561631 -3.0004928 1.000 1 A GLU . 1\\nATOM 106 O O . GLU 14 14 ? A 10.217575 4.4433775 -1.4024972 1.000 1 A GLU . 1\\nATOM 107 C CG . GLU 14 14 ? A 14.556696 4.3400564 -2.675258 1.000 1 A GLU . 1\\nATOM 108 C CD . GLU 14 14 ? A 15.242676 3.373117 -3.627135 1.000 1 A GLU . 1\\nATOM 109 O OE1 . GLU 14 14 ? A 16.358486 2.9004662 -3.312424 1.000 1 A GLU . 1\\nATOM 110 O OE2 . GLU 14 14 ? A 14.660015 3.0866175 -4.6967907 1.000 1 A GLU . 1\\nATOM 111 N N . GLN 15 15 ? A 10.047574 3.9330747 -3.4441452 1.000 1 A GLN . 1\\nATOM 112 C CA . GLN 15 15 ? A 8.649191 4.3369155 -3.546295 1.000 1 A GLN . 1\\nATOM 113 C C . GLN 15 15 ? A 7.7527313 3.4332364 -2.7046309 1.000 1 A GLN . 1\\nATOM 114 C CB . GLN 15 15 ? A 8.190186 4.320027 -5.0051794 1.000 1 A GLN . 1\\nATOM 115 O O . GLN 15 15 ? A 6.8355 3.9109595 -2.0336716 1.000 1 A GLN . 1\\nATOM 116 C CG . GLN 15 15 ? A 8.783537 5.439663 -5.849586 1.000 1 A GLN . 1\\nATOM 117 C CD . GLN 15 15 ? A 8.379573 5.351187 -7.3092966 1.000 1 A GLN . 1\\nATOM 118 N NE2 . GLN 15 15 ? A 7.9076076 6.463243 -7.8624253 1.000 1 A GLN . 1\\nATOM 119 O OE1 . GLN 15 15 ? A 8.491584 4.2922115 -7.9350595 1.000 1 A GLN . 1\\nATOM 120 N N . LYS 16 16 ? A 7.915793 2.2058637 -2.7524004 1.000 1 A LYS . 1\\nATOM 121 C CA . LYS 16 16 ? A 7.137087 1.2554865 -1.9636536 1.000 1 A LYS . 1\\nATOM 122 C C . LYS 16 16 ? A 7.3503914 1.476659 -0.4689089 1.000 1 A LYS . 1\\nATOM 123 C CB . LYS 16 16 ? A 7.5040784 -0.18117857 -2.3384027 1.000 1 A LYS . 1\\nATOM 124 O O . LYS 16 16 ? A 6.397837 1.4338138 0.31245303 1.000 1 A LYS . 1\\nATOM 125 C CG . LYS 16 16 ? A 7.0939636 -0.5768918 -3.7492461 1.000 1 A LYS . 1\\nATOM 126 C CD . LYS 16 16 ? A 7.52585 -2.0000706 -4.0785003 1.000 1 A LYS . 1\\nATOM 127 C CE . LYS 16 16 ? A 7.300362 -2.3278403 -5.5483236 1.000 1 A LYS . 1\\nATOM 128 N NZ . LYS 16 16 ? A 7.820635 -3.682983 -5.899879 1.000 1 A LYS . 1\\nATOM 129 N N . GLU 17 17 ? A 8.643948 1.7952871 -0.15213442 1.000 1 A GLU . 1\\nATOM 130 C CA . GLU 17 17 ? A 8.9359255 2.074091 1.2507639 1.000 1 A GLU . 1\\nATOM 131 C C . GLU 17 17 ? A 8.21051 3.3294992 1.72658 1.000 1 A GLU . 1\\nATOM 132 C CB . GLU 17 17 ? A 10.443998 2.2242634 1.46676 1.000 1 A GLU . 1\\nATOM 133 O O . GLU 17 17 ? A 7.6775618 3.3613298 2.837739 1.000 1 A GLU . 1\\nATOM 134 C CG . GLU 17 17 ? A 11.20187 0.90468466 1.4515212 1.000 1 A GLU . 1\\nATOM 135 C CD . GLU 17 17 ? A 12.711239 1.0789719 1.5066499 1.000 1 A GLU . 1\\nATOM 136 O OE1 . GLU 17 17 ? A 13.443235 0.069015026 1.3987452 1.000 1 A GLU . 1\\nATOM 137 O OE2 . GLU 17 17 ? A 13.165482 2.23478 1.6599808 1.000 1 A GLU . 1\\nATOM 138 N N . THR 18 18 ? A 8.298755 4.309743 0.8789518 1.000 1 A THR . 1\\nATOM 139 C CA . THR 18 18 ? A 7.5933475 5.5457315 1.1991397 1.000 1 A THR . 1\\nATOM 140 C C . THR 18 18 ? A 6.093448 5.295085 1.3262513 1.000 1 A THR . 1\\nATOM 141 C CB . THR 18 18 ? A 7.847291 6.6264243 0.13192403 1.000 1 A THR . 1\\nATOM 142 O O . THR 18 18 ? A 5.4530296 5.7882185 2.2570605 1.000 1 A THR . 1\\nATOM 143 C CG2 . THR 18 18 ? A 7.0595922 7.896304 0.43679756 1.000 1 A THR . 1\\nATOM 144 O OG1 . THR 18 18 ? A 9.24513 6.9402795 0.10129607 1.000 1 A THR . 1\\nATOM 145 N N . LEU 19 19 ? A 5.525566 4.5426655 0.5314645 1.000 1 A LEU . 1\\nATOM 146 C CA . LEU 19 19 ? A 4.10966 4.195072 0.5820855 1.000 1 A LEU . 1\\nATOM 147 C C . LEU 19 19 ? A 3.775173 3.4649873 1.8785129 1.000 1 A LEU . 1\\nATOM 148 C CB . LEU 19 19 ? A 3.7274394 3.3268209 -0.61952186 1.000 1 A LEU . 1\\nATOM 149 O O . LEU 19 19 ? A 2.7896957 3.7921038 2.543664 1.000 1 A LEU . 1\\nATOM 150 C CG . LEU 19 19 ? A 2.2706337 2.86583 -0.6868558 1.000 1 A LEU . 1\\nATOM 151 C CD1 . LEU 19 19 ? A 1.3429682 4.0640483 -0.8586526 1.000 1 A LEU . 1\\nATOM 152 C CD2 . LEU 19 19 ? A 2.0776455 1.8665274 -1.8223978 1.000 1 A LEU . 1\\nATOM 153 N N . ILE 20 20 ? A 4.572346 2.4223163 2.2241797 1.000 1 A ILE . 1\\nATOM 154 C CA . ILE 20 20 ? A 4.3598013 1.6612926 3.450494 1.000 1 A ILE . 1\\nATOM 155 C C . ILE 20 20 ? A 4.392187 2.6013706 4.6533804 1.000 1 A ILE . 1\\nATOM 156 C CB . ILE 20 20 ? A 5.416253 0.54557383 3.6135817 1.000 1 A ILE . 1\\nATOM 157 O O . ILE 20 20 ? A 3.5242875 2.532089 5.526836 1.000 1 A ILE . 1\\nATOM 158 C CG1 . ILE 20 20 ? A 5.1775002 -0.56975603 2.5892947 1.000 1 A ILE . 1\\nATOM 159 C CG2 . ILE 20 20 ? A 5.3999968 -0.009011626 5.041026 1.000 1 A ILE . 1\\nATOM 160 C CD1 . ILE 20 20 ? A 6.328029 -1.5601194 2.473072 1.000 1 A ILE . 1\\nATOM 161 N N . ARG 21 21 ? A 5.281177 3.4331832 4.6810865 1.000 1 A ARG . 1\\nATOM 162 C CA . ARG 21 21 ? A 5.4279127 4.359989 5.798727 1.000 1 A ARG . 1\\nATOM 163 C C . ARG 21 21 ? A 4.2221403 5.2878647 5.902579 1.000 1 A ARG . 1\\nATOM 164 C CB . ARG 21 21 ? A 6.71031 5.181742 5.651346 1.000 1 A ARG . 1\\nATOM 165 O O . ARG 21 21 ? A 3.6660762 5.472724 6.987171 1.000 1 A ARG . 1\\nATOM 166 C CG . ARG 21 21 ? A 6.988021 6.1061134 6.826068 1.000 1 A ARG . 1\\nATOM 167 C CD . ARG 21 21 ? A 8.275258 6.895053 6.6309085 1.000 1 A ARG . 1\\nATOM 168 N NE . ARG 21 21 ? A 8.238426 7.6928205 5.4085417 1.000 1 A ARG . 1\\nATOM 169 N NH1 . ARG 21 21 ? A 10.525856 7.993937 5.2900715 1.000 1 A ARG . 1\\nATOM 170 N NH2 . ARG 21 21 ? A 9.16045 8.908321 3.6918588 1.000 1 A ARG . 1\\nATOM 171 C CZ . ARG 21 21 ? A 9.308328 8.196538 4.7996144 1.000 1 A ARG . 1\\nATOM 172 N N . GLU 22 22 ? A 3.8573108 5.8435717 4.738168 1.000 1 A GLU . 1\\nATOM 173 C CA . GLU 22 22 ? A 2.7880301 6.837415 4.733645 1.000 1 A GLU . 1\\nATOM 174 C C . GLU 22 22 ? A 1.4397305 6.198955 5.0547924 1.000 1 A GLU . 1\\nATOM 175 C CB . GLU 22 22 ? A 2.7230752 7.5514526 3.3810844 1.000 1 A GLU . 1\\nATOM 176 O O . GLU 22 22 ? A 0.63119334 6.7770247 5.7840557 1.000 1 A GLU . 1\\nATOM 177 C CG . GLU 22 22 ? A 3.9373417 8.419678 3.0850549 1.000 1 A GLU . 1\\nATOM 178 C CD . GLU 22 22 ? A 4.0430756 9.6335335 3.9944427 1.000 1 A GLU . 1\\nATOM 179 O OE1 . GLU 22 22 ? A 5.172594 10.120508 4.227937 1.000 1 A GLU . 1\\nATOM 180 O OE2 . GLU 22 22 ? A 2.9878902 10.1008005 4.4781632 1.000 1 A GLU . 1\\nATOM 181 N N . VAL 23 23 ? A 1.2446798 5.0318108 4.5404334 1.000 1 A VAL . 1\\nATOM 182 C CA . VAL 23 23 ? A -0.0029867142 4.328883 4.8204093 1.000 1 A VAL . 1\\nATOM 183 C C . VAL 23 23 ? A -0.051814824 3.9290776 6.2933316 1.000 1 A VAL . 1\\nATOM 184 C CB . VAL 23 23 ? A -0.16496734 3.080989 3.923746 1.000 1 A VAL . 1\\nATOM 185 O O . VAL 23 23 ? A -1.0869986 4.072893 6.9480715 1.000 1 A VAL . 1\\nATOM 186 C CG1 . VAL 23 23 ? A -1.3239969 2.2130363 4.4105215 1.000 1 A VAL . 1\\nATOM 187 C CG2 . VAL 23 23 ? A -0.37716496 3.494212 2.4685163 1.000 1 A VAL . 1\\nATOM 188 N N . SER 24 24 ? A 1.0203042 3.4072917 6.83924 1.000 1 A SER . 1\\nATOM 189 C CA . SER 24 24 ? A 1.0742095 3.0312717 8.248192 1.000 1 A SER . 1\\nATOM 190 C C . SER 24 24 ? A 0.76978284 4.2225285 9.1503315 1.000 1 A SER . 1\\nATOM 191 C CB . SER 24 24 ? A 2.4468393 2.4545588 8.597281 1.000 1 A SER . 1\\nATOM 192 O O . SER 24 24 ? A -0.007826626 4.106153 10.099806 1.000 1 A SER . 1\\nATOM 193 O OG . SER 24 24 ? A 2.6886935 1.2592958 7.8751407 1.000 1 A SER . 1\\nATOM 194 N N . GLU 25 25 ? A 1.3578656 5.400774 8.893056 1.000 1 A GLU . 1\\nATOM 195 C CA . GLU 25 25 ? A 1.1536306 6.605418 9.691946 1.000 1 A GLU . 1\\nATOM 196 C C . GLU 25 25 ? A -0.29291952 7.0842113 9.608726 1.000 1 A GLU . 1\\nATOM 197 C CB . GLU 25 25 ? A 2.1028166 7.7180777 9.239707 1.000 1 A GLU . 1\\nATOM 198 O O . GLU 25 25 ? A -0.8705276 7.5086217 10.611704 1.000 1 A GLU . 1\\nATOM 199 C CG . GLU 25 25 ? A 3.5469494 7.5075827 9.671055 1.000 1 A GLU . 1\\nATOM 200 C CD . GLU 25 25 ? A 4.4979067 8.55582 9.115639 1.000 1 A GLU . 1\\nATOM 201 O OE1 . GLU 25 25 ? A 5.715486 8.480918 9.397354 1.000 1 A GLU . 1\\nATOM 202 O OE2 . GLU 25 25 ? A 4.021345 9.459928 8.393684 1.000 1 A GLU . 1\\nATOM 203 N N . ALA 26 26 ? A -0.8108984 7.0443273 8.461605 1.000 1 A ALA . 1\\nATOM 204 C CA . ALA 26 26 ? A -2.196584 7.4690557 8.280289 1.000 1 A ALA . 1\\nATOM 205 C C . ALA 26 26 ? A -3.1474206 6.6044655 9.103131 1.000 1 A ALA . 1\\nATOM 206 C CB . ALA 26 26 ? A -2.5797415 7.4184246 6.803275 1.000 1 A ALA . 1\\nATOM 207 O O . ALA 26 26 ? A -4.054973 7.120628 9.759559 1.000 1 A ALA . 1\\nATOM 208 N N . ILE 27 27 ? A -2.9583838 5.2904477 9.023895 1.000 1 A ILE . 1\\nATOM 209 C CA . ILE 27 27 ? A -3.8090003 4.361439 9.759812 1.000 1 A ILE . 1\\nATOM 210 C C . ILE 27 27 ? A -3.6372511 4.5829144 11.260872 1.000 1 A ILE . 1\\nATOM 211 C CB . ILE 27 27 ? A -3.4914973 2.893983 9.394738 1.000 1 A ILE . 1\\nATOM 212 O O . ILE 27 27 ? A -4.6180134 4.600086 12.008391 1.000 1 A ILE . 1\\nATOM 213 C CG1 . ILE 27 27 ? A -3.9475865 2.5891552 7.9632397 1.000 1 A ILE . 1\\nATOM 214 C CG2 . ILE 27 27 ? A -4.145697 1.9352729 10.393901 1.000 1 A ILE . 1\\nATOM 215 C CD1 . ILE 27 27 ? A -3.503369 1.2267305 7.4489307 1.000 1 A ILE . 1\\nATOM 216 N N . SER 28 28 ? A -2.3594177 4.7395196 11.723684 1.000 1 A SER . 1\\nATOM 217 C CA . SER 28 28 ? A -2.0740893 4.9801273 13.134407 1.000 1 A SER . 1\\nATOM 218 C C . SER 28 28 ? A -2.7749758 6.239307 13.633258 1.000 1 A SER . 1\\nATOM 219 C CB . SER 28 28 ? A -0.56697714 5.1007752 13.363827 1.000 1 A SER . 1\\nATOM 220 O O . SER 28 28 ? A -3.3974085 6.229455 14.697308 1.000 1 A SER . 1\\nATOM 221 O OG . SER 28 28 ? A -0.28629944 5.384143 14.723812 1.000 1 A SER . 1\\nATOM 222 N N . ARG 29 29 ? A -2.735975 7.195043 12.922048 1.000 1 A ARG . 1\\nATOM 223 C CA . ARG 29 29 ? A -3.3361318 8.463196 13.323573 1.000 1 A ARG . 1\\nATOM 224 C C . ARG 29 29 ? A -4.85868 8.379005 13.303896 1.000 1 A ARG . 1\\nATOM 225 C CB . ARG 29 29 ? A -2.8621094 9.595762 12.41026 1.000 1 A ARG . 1\\nATOM 226 O O . ARG 29 29 ? A -5.524829 8.873756 14.215591 1.000 1 A ARG . 1\\nATOM 227 C CG . ARG 29 29 ? A -1.4243647 10.024649 12.656239 1.000 1 A ARG . 1\\nATOM 228 C CD . ARG 29 29 ? A -1.1069957 11.349609 11.977083 1.000 1 A ARG . 1\\nATOM 229 N NE . ARG 29 29 ? A -1.386171 11.301554 10.544699 1.000 1 A ARG . 1\\nATOM 230 N NH1 . ARG 29 29 ? A 0.7538792 10.677199 9.938555 1.000 1 A ARG . 1\\nATOM 231 N NH2 . ARG 29 29 ? A -0.85715145 10.970673 8.334443 1.000 1 A ARG . 1\\nATOM 232 C CZ . ARG 29 29 ? A -0.4958437 10.983252 9.609169 1.000 1 A ARG . 1\\nATOM 233 N N . SER 30 30 ? A -5.335222 7.7531457 12.200465 1.000 1 A SER . 1\\nATOM 234 C CA . SER 30 30 ? A -6.778036 7.733057 11.982919 1.000 1 A SER . 1\\nATOM 235 C C . SER 30 30 ? A -7.4699025 6.7795286 12.951284 1.000 1 A SER . 1\\nATOM 236 C CB . SER 30 30 ? A -7.097746 7.3307548 10.542601 1.000 1 A SER . 1\\nATOM 237 O O . SER 30 30 ? A -8.580793 7.051586 13.411315 1.000 1 A SER . 1\\nATOM 238 O OG . SER 30 30 ? A -6.625273 8.307535 9.630841 1.000 1 A SER . 1\\nATOM 239 N N . LEU 31 31 ? A -6.786115 5.732744 13.281459 1.000 1 A LEU . 1\\nATOM 240 C CA . LEU 31 31 ? A -7.42021 4.6987743 14.092015 1.000 1 A LEU . 1\\nATOM 241 C C . LEU 31 31 ? A -6.8482566 4.6892676 15.505665 1.000 1 A LEU . 1\\nATOM 242 C CB . LEU 31 31 ? A -7.237014 3.323164 13.445527 1.000 1 A LEU . 1\\nATOM 243 O O . LEU 31 31 ? A -7.2343493 3.8579135 16.330515 1.000 1 A LEU . 1\\nATOM 244 C CG . LEU 31 31 ? A -7.8887777 3.1254 12.076067 1.000 1 A LEU . 1\\nATOM 245 C CD1 . LEU 31 31 ? A -7.627931 1.7127651 11.563989 1.000 1 A LEU . 1\\nATOM 246 C CD2 . LEU 31 31 ? A -9.386025 3.4046266 12.150808 1.000 1 A LEU . 1\\nATOM 247 N N . ASP 32 32 ? A -6.0909095 5.6935163 15.72702 1.000 1 A ASP . 1\\nATOM 248 C CA . ASP 32 32 ? A -5.4142165 5.757415 17.018791 1.000 1 A ASP . 1\\nATOM 249 C C . ASP 32 32 ? A -4.840095 4.3964543 17.40596 1.000 1 A ASP . 1\\nATOM 250 C CB . ASP 32 32 ? A -6.3736963 6.2514114 18.103498 1.000 1 A ASP . 1\\nATOM 251 O O . ASP 32 32 ? A -4.8974233 4.001735 18.57242 1.000 1 A ASP . 1\\nATOM 252 C CG . ASP 32 32 ? A -5.6568985 6.774107 19.335993 1.000 1 A ASP . 1\\nATOM 253 O OD1 . ASP 32 32 ? A -6.2353387 6.72898 20.443129 1.000 1 A ASP . 1\\nATOM 254 O OD2 . ASP 32 32 ? A -4.5042953 7.2380314 19.198318 1.000 1 A ASP . 1\\nATOM 255 N N . ALA 33 33 ? A -4.256681 3.662971 16.36476 1.000 1 A ALA . 1\\nATOM 256 C CA . ALA 33 33 ? A -3.5956106 2.3767114 16.5695 1.000 1 A ALA . 1\\nATOM 257 C C . ALA 33 33 ? A -2.0857136 2.551435 16.705 1.000 1 A ALA . 1\\nATOM 258 C CB . ALA 33 33 ? A -3.9169152 1.4243841 15.420248 1.000 1 A ALA . 1\\nATOM 259 O O . ALA 33 33 ? A -1.5029931 3.4574885 16.104603 1.000 1 A ALA . 1\\nATOM 260 N N . PRO 34 34 ? A -1.453917 1.7931776 17.627367 1.000 1 A PRO . 1\\nATOM 261 C CA . PRO 34 34 ? A 0.008946135 1.861511 17.657694 1.000 1 A PRO . 1\\nATOM 262 C C . PRO 34 34 ? A 0.6446497 1.4948527 16.3186 1.000 1 A PRO . 1\\nATOM 263 C CB . PRO 34 34 ? A 0.38704935 0.84512556 18.738104 1.000 1 A PRO . 1\\nATOM 264 O O . PRO 34 34 ? A 0.2057279 0.54745436 15.661499 1.000 1 A PRO . 1\\nATOM 265 C CG . PRO 34 34 ? A -0.8824482 0.5916264 19.485142 1.000 1 A PRO . 1\\nATOM 266 C CD . PRO 34 34 ? A -2.0391016 0.8788091 18.571367 1.000 1 A PRO . 1\\nATOM 267 N N . LEU 35 35 ? A 1.5698636 2.3093915 15.893531 1.000 1 A LEU . 1\\nATOM 268 C CA . LEU 35 35 ? A 2.2539144 2.1172178 14.619437 1.000 1 A LEU . 1\\nATOM 269 C C . LEU 35 35 ? A 2.8299022 0.70877194 14.518715 1.000 1 A LEU . 1\\nATOM 270 C CB . LEU 35 35 ? A 3.3700914 3.1510773 14.448871 1.000 1 A LEU . 1\\nATOM 271 O O . LEU 35 35 ? A 2.842087 0.11428839 13.43842 1.000 1 A LEU . 1\\nATOM 272 C CG . LEU 35 35 ? A 3.9812784 3.2646642 13.051417 1.000 1 A LEU . 1\\nATOM 273 C CD1 . LEU 35 35 ? A 2.9225006 3.6995797 12.043628 1.000 1 A LEU . 1\\nATOM 274 C CD2 . LEU 35 35 ? A 5.1534243 4.240028 13.057796 1.000 1 A LEU . 1\\nATOM 275 N N . THR 36 36 ? A 3.229731 0.11101961 15.676576 1.000 1 A THR . 1\\nATOM 276 C CA . THR 36 36 ? A 3.8921907 -1.1882899 15.703559 1.000 1 A THR . 1\\nATOM 277 C C . THR 36 36 ? A 2.8979802 -2.3084645 15.411273 1.000 1 A THR . 1\\nATOM 278 C CB . THR 36 36 ? A 4.5700145 -1.4416331 17.062862 1.000 1 A THR . 1\\nATOM 279 O O . THR 36 36 ? A 3.2957664 -3.4400578 15.126697 1.000 1 A THR . 1\\nATOM 280 C CG2 . THR 36 36 ? A 5.7419167 -0.4898163 17.278963 1.000 1 A THR . 1\\nATOM 281 O OG1 . THR 36 36 ? A 3.6123314 -1.2483996 18.111145 1.000 1 A THR . 1\\nATOM 282 N N . SER 37 37 ? A 1.5862523 -1.8530605 15.414625 1.000 1 A SER . 1\\nATOM 283 C CA . SER 37 37 ? A 0.56716573 -2.8750274 15.199015 1.000 1 A SER . 1\\nATOM 284 C C . SER 37 37 ? A 0.09331778 -2.8860958 13.749542 1.000 1 A SER . 1\\nATOM 285 C CB . SER 37 37 ? A -0.6237396 -2.6501079 16.131607 1.000 1 A SER . 1\\nATOM 286 O O . SER 37 37 ? A -0.608485 -3.8074954 13.327386 1.000 1 A SER . 1\\nATOM 287 O OG . SER 37 37 ? A -1.3075047 -1.4551845 15.795069 1.000 1 A SER . 1\\nATOM 288 N N . VAL 38 38 ? A 0.45427462 -1.8301514 12.9842615 1.000 1 A VAL . 1\\nATOM 289 C CA . VAL 38 38 ? A -0.03292797 -1.7065861 11.614395 1.000 1 A VAL . 1\\nATOM 290 C C . VAL 38 38 ? A 0.8497601 -2.5261922 10.675864 1.000 1 A VAL . 1\\nATOM 291 C CB . VAL 38 38 ? A -0.07179971 -0.23129714 11.156685 1.000 1 A VAL .\\n1\\nATOM 292 O O . VAL 38 38 ? A 2.0764961 -2.401815 10.700854 1.000 1 A VAL . 1\\nATOM 293 C CG1 . VAL 38 38 ? A -0.5171305 -0.12972519 9.698944 1.000 1 A VAL . 1\\nATOM 294 C CG2 . VAL 38 38 ? A -0.9971354 0.5826114 12.05934 1.000 1 A VAL . 1\\nATOM 295 N N . ARG 39 39 ? A 0.23695344 -3.4344614 9.839542 1.000 1 A ARG . 1\\nATOM 296 C CA . ARG 39 39 ? A 0.9288711 -4.18989 8.800216 1.000 1 A ARG . 1\\nATOM 297 C C . ARG 39 39 ? A 0.46246776 -3.764833 7.4119 1.000 1 A ARG . 1\\nATOM 298 C CB . ARG 39 39 ? A 0.7082997 -5.692185 8.989953 1.000 1 A ARG . 1\\nATOM 299 O O . ARG 39 39 ? A -0.7399 -3.705612 7.1463337 1.000 1 A ARG . 1\\nATOM 300 C CG . ARG 39 39 ? A 1.2129099 -6.2255764 10.321276 1.000 1 A ARG . 1\\nATOM 301 C CD . ARG 39 39 ? A 2.72017 -6.0625334 10.459395 1.000 1 A ARG . 1\\nATOM 302 N NE . ARG 39 39 ? A 3.2124867 -6.6384907 11.707541 1.000 1 A ARG . 1\\nATOM 303 N NH1 . ARG 39 39 ? A 3.2932453 -4.628796 12.844048 1.000 1 A ARG . 1\\nATOM 304 N NH2 . ARG 39 39 ? A 3.9179375 -6.56945 13.892065 1.000 1 A ARG . 1\\nATOM 305 C CZ . ARG 39 39 ? A 3.4734325 -5.944264 12.811702 1.000 1 A ARG . 1\\nATOM 306 N N . VAL 40 40 ? A 1.370851 -3.4542284 6.58607 1.000 1 A VAL . 1\\nATOM 307 C CA . VAL 40 40 ? A 1.0625726 -3.1172407 5.200224 1.000 1 A VAL . 1\\nATOM 308 C C . VAL 40 40 ? A 1.6297295 -4.1868653 4.269651 1.000 1 A VAL . 1\\nATOM 309 C CB . VAL 40 40 ? A 1.6189237 -1.7276791 4.816719 1.000 1 A VAL . 1\\nATOM 310 O O . VAL 40 40 ? A 2.8281446 -4.4760437 4.303579 1.000 1 A VAL . 1\\nATOM 311 C CG1 . VAL 40 40 ? A 1.2931662 -1.3985621 3.3609698 1.000 1 A VAL . 1\\nATOM 312 C CG2 . VAL 40 40 ? A 1.059972 -0.65402913 5.748558 1.000 1 A VAL . 1\\nATOM 313 N N . ILE 41 41 ? A 0.8187175 -4.8687 3.508809 1.000 1 A ILE . 1\\nATOM 314 C CA . ILE 41 41 ? A 1.2131966 -5.885753 2.5402186 1.000 1 A ILE . 1\\nATOM 315 C C . ILE 41 41 ? A 1.0168346 -5.3523626 1.122945 1.000 1 A ILE . 1\\nATOM 316 C CB . ILE 41 41 ? A 0.4137028 -7.1933656 2.7363656 1.000 1 A ILE . 1\\nATOM 317 O O . ILE 41 41 ? A -0.09318578 -4.970298 0.74498475 1.000 1 A ILE . 1\\nATOM 318 C CG1 . ILE 41 41 ? A 0.6128181 -7.7329564 4.157393 1.000 1 A ILE . 1\\nATOM 319 C CG2 . ILE 41 41 ? A 0.8208275 -8.237027 1.6921213 1.000 1 A ILE . 1\\nATOM 320 C CD1 . ILE 41 41 ? A -0.3142134 -8.885831 4.5173016 1.000 1 A ILE . 1\\nATOM 321 N N . ILE 42 42 ? A 2.1059146 -5.251239 0.33725035 1.000 1 A ILE . 1\\nATOM 322 C CA . ILE 42 42 ? A 2.0378904 -4.8128033 -1.0524713 1.000 1 A ILE . 1\\nATOM 323 C C . ILE 42 42 ? A 2.0889702 -6.0253515 -1.9792109 1.000 1 A ILE . 1\\nATOM 324 C CB . ILE 42 42 ? A 3.1811671 -3.8303065 -1.3917842 1.000 1 A ILE . 1\\nATOM 325 O O . ILE 42 42 ? A 3.0053883 -6.845671 -1.8885071 1.000 1 A ILE . 1\\nATOM 326 C CG1 . ILE 42 42 ? A 3.0960362 -2.584369 -0.5026735 1.000 1 A ILE . 1\\nATOM 327 C CG2 . ILE 42 42 ? A 3.1430626 -3.4487793 -2.8744884 1.000 1 A ILE . 1\\nATOM 328 C CD1 . ILE 42 42 ? A 4.253343 -1.612351 -0.6866961 1.000 1 A ILE . 1\\nATOM 329 N N . THR 43 43 ? A 1.1257336 -6.1358967 -2.822143 1.000 1 A THR . 1\\nATOM 330 C CA . THR 43 43 ? A 1.1105406 -7.1625876 -3.8582234 1.000 1 A THR . 1\\nATOM 331 C C . THR 43 43 ? A 1.2670523 -6.5374393 -5.2414703 1.000 1 A THR . 1\\nATOM 332 C CB . THR 43 43 ? A -0.18910718 -7.987081 -3.8086474 1.000 1 A THR . 1\\nATOM 333 O O . THR 43 43 ? A 0.4560145 -5.701911 -5.6462317 1.000 1 A THR . 1\\nATOM 334 C CG2 . THR 43 43 ? A -0.15610614 -9.127217 -4.821076 1.000 1 A THR . 1\\nATOM 335 O OG1 . THR 43 43 ? A -0.3509279 -8.534531 -2.4943006 1.000 1 A THR . 1\\nATOM 336 N N . GLU 44 44 ? A 2.3254888 -6.909722 -5.850036 1.000 1 A GLU . 1\\nATOM 337 C CA . GLU 44 44 ? A 2.572692 -6.3812327 -7.188205 1.000 1 A GLU . 1\\nATOM 338 C C . GLU 44 44 ? A 2.010736 -7.309827 -8.260862 1.000 1 A GLU . 1\\nATOM 339 C CB . GLU 44 44 ? A 4.071435 -6.16464 -7.4125805 1.000 1 A GLU . 1\\nATOM 340 O O . GLU 44 44 ? A 2.2536447 -8.518099 -8.232695 1.000 1 A GLU . 1\\nATOM 341 C CG . GLU 44 44 ? A 4.6900673 -5.132991 -6.480441 1.000 1 A GLU . 1\\nATOM 342 C CD . GLU 44 44 ? A 6.174027 -4.913822 -6.728309 1.000 1 A GLU . 1\\nATOM 343 O OE1 . GLU 44 44 ? A 6.528222 -4.1043444 -7.615308 1.000 1 A GLU . 1\\nATOM 344 O OE2 . GLU 44 44 ? A 6.9891233 -5.5575657 -6.030491 1.000 1 A GLU . 1\\nATOM 345 N N . MET 45 45 ? A 1.2886344 -6.719192 -9.165117 1.000 1 A MET . 1\\nATOM 346 C CA . MET 45 45 ? A 0.71632195 -7.482552 -10.270413 1.000 1 A MET . 1\\nATOM 347 C C . MET 45 45 ? A 1.4102671 -7.14072 -11.58465 1.000 1 A MET . 1\\nATOM 348 C CB . MET 45 45 ? A -0.7855092 -7.2168064 -10.387418 1.000 1 A MET . 1\\nATOM 349 O O . MET 45 45 ? A 1.6366987 -5.967297 -11.885115 1.000 1 A MET . 1\\nATOM 350 C CG . MET 45 45 ? A -1.5825174 -7.6565433 -9.170018 1.000 1 A MET . 1\\nATOM 351 S SD . MET 45 45 ? A -3.384309 -7.3715105 -9.368872 1.000 1 A MET . 1\\nATOM 352 C CE . MET 45 45 ? A -3.42339 -5.55749 -9.36752 1.000 1 A MET . 1\\nATOM 353 N N . ALA 46 46 ? A 1.6856294 -8.160321 -12.253235 1.000 1 A ALA . 1\\nATOM 354 C CA . ALA 46 46 ? A 2.2131588 -7.9046016 -13.591037 1.000 1 A ALA . 1\\nATOM 355 C C . ALA 46 46 ? A 1.1825644 -7.1887765 -14.459453 1.000 1 A ALA . 1\\nATOM 356 C CB . ALA 46 46 ? A 2.6451888 -9.211548 -14.251479 1.000 1 A ALA . 1\\nATOM 357 O O . ALA 46 46 ? A -0.021093726 -7.4208403 -14.324075 1.000 1 A ALA .\\n1\\nATOM 358 N N . LYS 47 47 ? A 1.6787077 -6.315233 -15.341571 1.000 1 A LYS . 1\\nATOM 359 C CA . LYS 47 47 ? A 0.7833106 -5.5855174 -16.2346 1.000 1 A LYS . 1\\nATOM 360 C C . LYS 47 47 ? A -0.046403587 -6.54366 -17.084433 1.000 1 A LYS . 1\\nATOM 361 C CB . LYS 47 47 ? A 1.5778625 -4.639417 -17.136103 1.000 1 A LYS . 1\\nATOM 362 O O . LYS 47 47 ? A -1.1840558 -6.2352653 -17.445488 1.000 1 A LYS . 1\\nATOM 363 C CG . LYS 47 47 ? A 2.1631656 -3.4376493 -16.409166 1.000 1 A LYS . 1\\nATOM 364 C CD . LYS 47 47 ? A 2.8759902 -2.4954438 -17.370676 1.000 1 A LYS . 1\\nATOM 365 C CE . LYS 47 47 ? A 3.5126982 -1.3229352 -16.636862 1.000 1 A LYS . 1\\nATOM 366 N NZ . LYS 47 47 ? A 4.197276 -0.38644153 -17.577616 1.000 1 A LYS . 1\\nATOM 367 N N . GLY 48 48 ? A 0.41432664 -7.7417464 -17.237413 1.000 1 A GLY . 1\\nATOM 368 C CA . GLY 48 48 ? A -0.28728768 -8.739054 -18.029797 1.000 1 A GLY . 1\\nATOM 369 C C . GLY 48 48 ? A -1.4038059 -9.428434 -17.268593 1.000 1 A GLY . 1\\nATOM 370 O O . GLY 48 48 ? A -2.2234051 -10.133107 -17.861395 1.000 1 A GLY . 1\\nATOM 371 N N . HIS 49 49 ? A -1.4058816 -9.078117 -16.066568 1.000 1 A HIS . 1\\nATOM 372 C CA . HIS 49 49 ? A -2.3618832 -9.77961 -15.217274 1.000 1 A HIS . 1\\nATOM 373 C C . HIS 49 49 ? A -3.374021 -8.812866 -14.611791 1.000 1 A HIS . 1\\nATOM 374 C CB . HIS 49 49 ? A -1.6346331 -10.541304 -14.107722 1.000 1 A HIS . 1\\nATOM 375 O O . HIS 49 49 ? A -4.1422696 -9.187869 -13.723105 1.000 1 A HIS . 1\\nATOM 376 C CG . HIS 49 49 ? A -0.7974496 -11.675337 -14.607717 1.000 1 A HIS . 1\\nATOM 377 C CD2 . HIS 49 49 ? A -0.63821113 -12.181031 -15.853384 1.000 1 A HIS .\\n1\\nATOM 378 N ND1 . HIS 49 49 ? A 0.0008663535 -12.432907 -13.778309 1.000 1 A HIS\\n. 1\\nATOM 379 C CE1 . HIS 49 49 ? A 0.61747 -13.357725 -14.495103 1.000 1 A HIS . 1\\nATOM 380 N NE2 . HIS 49 49 ? A 0.24677944 -13.226555 -15.757284 1.000 1 A HIS .\\n1\\nATOM 381 N N . PHE 50 50 ? A -3.2893374 -7.5160027 -14.973179 1.000 1 A PHE . 1\\nATOM 382 C CA . PHE 50 50 ? A -4.2377877 -6.5163016 -14.496595 1.000 1 A PHE . 1\\nATOM 383 C C . PHE 50 50 ? A -5.0796175 -5.9769654 -15.646819 1.000 1 A PHE . 1\\nATOM 384 C CB . PHE 50 50 ? A -3.503965 -5.366682 -13.799011 1.000 1 A PHE . 1\\nATOM 385 O O . PHE 50 50 ? A -4.546025 -5.3973036 -16.59497 1.000 1 A PHE . 1\\nATOM 386 C CG . PHE 50 50 ? A -4.411061 -4.4478827 -13.0259905 1.000 1 A PHE . 1\\nATOM 387 C CD1 . PHE 50 50 ? A -4.9366803 -4.8370275 -11.800024 1.000 1 A PHE .\\n1\\nATOM 388 C CD2 . PHE 50 50 ? A -4.738294 -3.19411 -13.525813 1.000 1 A PHE . 1\\nATOM 389 C CE1 . PHE 50 50 ? A -5.776601 -3.9885836 -11.082296 1.000 1 A PHE . 1\\nATOM 390 C CE2 . PHE 50 50 ? A -5.5769544 -2.3407733 -12.814369 1.000 1 A PHE .\\n1\\nATOM 391 C CZ . PHE 50 50 ? A -6.095778 -2.7403116 -11.593381 1.000 1 A PHE . 1\\nATOM 392 N N . GLY 51 51 ? A -6.3329015 -6.200094 -15.605529 1.000 1 A GLY . 1\\nATOM 393 C CA . GLY 51 51 ? A -7.2493706 -5.7343473 -16.63408 1.000 1 A GLY . 1\\nATOM 394 C C . GLY 51 51 ? A -7.876203 -4.39122 -16.311 1.000 1 A GLY . 1\\nATOM 395 O O . GLY 51 51 ? A -8.326667 -4.165024 -15.185994 1.000 1 A GLY . 1\\nATOM 396 N N . ILE 52 52 ? A -7.831119 -3.2903743 -17.158962 1.000 1 A ILE . 1\\nATOM 397 C CA . ILE 52 52 ? A -8.506369 -2.000694 -17.064404 1.000 1 A ILE . 1\\nATOM 398 C C . ILE 52 52 ? A -9.42597 -1.8101777 -18.268465 1.000 1 A ILE . 1\\nATOM 399 C CB . ILE 52 52 ? A -7.4932494 -0.8375101 -16.974365 1.000 1 A ILE . 1\\nATOM 400 O O . ILE 52 52 ? A -8.963065 -1.7703934 -19.41088 1.000 1 A ILE . 1\\nATOM 401 C CG1 . ILE 52 52 ? A -6.549721 -1.0421298 -15.783564 1.000 1 A ILE . 1\\nATOM 402 C CG2 . ILE 52 52 ? A -8.221253 0.5059637 -16.871822 1.000 1 A ILE . 1\\nATOM 403 C CD1 . ILE 52 52 ? A -5.3580303 -0.09467113 -15.768105 1.000 1 A ILE .\\n1\\nATOM 404 N N . GLY 53 53 ? A -10.680773 -1.8724971 -18.008562 1.000 1 A GLY . 1\\nATOM 405 C CA . GLY 53 53 ? A -11.629338 -1.6197973 -19.081465 1.000 1 A GLY . 1\\nATOM 406 C C . GLY 53 53 ? A -11.71775 -2.7582223 -20.080194 1.000 1 A GLY . 1\\nATOM 407 O O . GLY 53 53 ? A -11.929458 -2.5295758 -21.272932 1.000 1 A GLY . 1\\nATOM 408 N N . GLY 54 54 ? A -11.4598875 -3.912446 -19.52195 1.000 1 A GLY . 1\\nATOM 409 C CA . GLY 54 54 ? A -11.560045 -5.097492 -20.35884 1.000 1 A GLY . 1\\nATOM 410 C C . GLY 54 54 ? A -10.264638 -5.435328 -21.072336 1.000 1 A GLY . 1\\nATOM 411 O O . GLY 54 54 ? A -10.214224 -6.3776064 -21.865614 1.000 1 A GLY . 1\\nATOM 412 N N . GLU 55 55 ? A -9.285527 -4.633893 -21.117191 1.000 1 A GLU . 1\\nATOM 413 C CA . GLU 55 55 ? A -7.985925 -4.8595567 -21.742664 1.000 1 A GLU . 1\\nATOM 414 C C . GLU 55 55 ? A -6.885739 -4.999346 -20.694464 1.000 1 A GLU . 1\\nATOM 415 C CB . GLU 55 55 ? A -7.6495457 -3.721517 -22.709723 1.000 1 A GLU . 1\\nATOM 416 O O . GLU 55 55 ? A -7.007144 -4.474387 -19.58568 1.000 1 A GLU . 1\\nATOM 417 C CG . GLU 55 55 ? A -8.625807 -3.5915112 -23.869852 1.000 1 A GLU . 1\\nATOM 418 C CD . GLU 55 55 ? A -8.23881 -2.50534 -24.860847 1.000 1 A GLU . 1\\nATOM 419 O OE1 . GLU 55 55 ? A -8.835799 -2.4455485 -25.959711 1.000 1 A GLU . 1\\nATOM 420 O OE2 . GLU 55 55 ? A -7.3305364 -1.7082481 -24.536161 1.000 1 A GLU .\\n1\\nATOM 421 N N . LEU 56 56 ? A -5.9382143 -5.7961664 -21.075106 1.000 1 A LEU . 1\\nATOM 422 C CA . LEU 56 56 ? A -4.783412 -5.8694754 -20.186722 1.000 1 A LEU . 1\\nATOM 423 C C . LEU 56 56 ? A -4.1404786 -4.4971356 -20.016588 1.000 1 A LEU . 1\\nATOM 424 C CB . LEU 56 56 ? A -3.7535496 -6.865029 -20.727154 1.000 1 A LEU . 1\\nATOM 425 O O . LEU 56 56 ? A -4.108057 -3.7011137 -20.957808 1.000 1 A LEU . 1\\nATOM 426 C CG . LEU 56 56 ? A -4.197139 -8.32696 -20.80004 1.000 1 A LEU . 1\\nATOM 427 C CD1 . LEU 56 56 ? A -3.1456623 -9.164595 -21.520155 1.000 1 A LEU . 1\\nATOM 428 C CD2 . LEU 56 56 ? A -4.4605165 -8.876457 -19.402187 1.000 1 A LEU . 1\\nATOM 429 N N . ALA 57 57 ? A -3.732947 -4.305519 -18.762556 1.000 1 A ALA . 1\\nATOM 430 C CA . ALA 57 57 ? A -3.0861614 -3.0233827 -18.495739 1.000 1 A ALA . 1\\nATOM 431 C C . ALA 57 57 ? A -1.8550391 -2.836031 -19.377735 1.000 1 A ALA . 1\\nATOM 432 C CB . ALA 57 57 ? A -2.7020671 -2.9176505 -17.021887 1.000 1 A ALA . 1\\nATOM 433 O O . ALA 57 57 ? A -1.4763077 -1.7057039 -19.693802 1.000 1 A ALA . 1\\nATOM 434 N N . SER 58 58 ? A -1.3534724 -3.9397664 -19.944098 1.000 1 A SER . 1\\nATOM 435 C CA . SER 58 58 ? A -0.18748514 -3.868106 -20.818615 1.000 1 A SER . 1\\nATOM 436 C C . SER 58 58 ? A -0.57467306 -3.4062967 -22.219488 1.000 1 A SER . 1\\nATOM 437 C CB . SER 58 58 ? A 0.50972563 -5.2269945 -20.895388 1.000 1 A SER . 1\\nATOM 438 O O . SER 58 58 ? A 0.27774155 -2.9571183 -22.988482 1.000 1 A SER . 1\\nATOM 439 O OG . SER 58 58 ? A -0.37596768 -6.219897 -21.383577 1.000 1 A SER . 1\\nATOM 440 N N . LYS 59 59 ? A -1.8269538 -3.2820446 -22.641449 1.000 1 A LYS . 1\\nATOM 441 C CA . LYS 59 59 ? A -2.2838821 -2.8579755 -23.961714 1.000 1 A LYS . 1\\nATOM 442 C C . LYS 59 59 ? A -2.5524406 -1.3561478 -23.994347 1.000 1 A LYS . 1\\nATOM 443 C CB . LYS 59 59 ? A -3.5441852 -3.624554 -24.365591 1.000 1 A LYS . 1\\nATOM 444 O O . LYS 59 59 ? A -2.2813804 -0.69340646 -24.99785 1.000 1 A LYS . 1\\nATOM 445 C CG . LYS 59 59 ? A -3.294935 -5.0836387 -24.71802 1.000 1 A LYS . 1\\nATOM 446 C CD . LYS 59 59 ? A -4.5649548 -5.7641497 -25.212309 1.000 1 A LYS . 1\\nATOM 447 C CE . LYS 59 59 ? A -4.322461 -7.230865 -25.541851 1.000 1 A LYS . 1\\nATOM 448 N NZ . LYS 59 59 ? A -5.570609 -7.908542 -26.00398 1.000 1 A LYS . 1\\n#\\n#\\nloop_\\n_atom_type.symbol\\nC\\nN\\nO\\nS\\n#\\n\",\"mmcif\");\n\tviewer_17532393316432252.addModel(\"2OP8\");\n\tviewer_17532393316432252.setStyle({\"chain\": \"A\"},{\"cartoon\": {\"color\": \"spectrum\"}});\n\tviewer_17532393316432252.zoomTo();\nviewer_17532393316432252.render();\n})\n});\n</script>",
      "text/html": [
       "<div id=\"3dmolviewer_17532393316432252\"  style=\"position: relative; width: 640px; height: 480px;\">\n",
       "        <p id=\"3dmolwarning_17532393316432252\" style=\"background-color:#ffcccc;color:black\">3Dmol.js failed to load for some reason.  Please check your browser console for error messages.<br></p>\n",
       "        </div>\n",
       "<script>\n",
       "\n",
       "var loadScriptAsync = function(uri){\n",
       "  return new Promise((resolve, reject) => {\n",
       "    //this is to ignore the existence of requirejs amd\n",
       "    var savedexports, savedmodule;\n",
       "    if (typeof exports !== 'undefined') savedexports = exports;\n",
       "    else exports = {}\n",
       "    if (typeof module !== 'undefined') savedmodule = module;\n",
       "    else module = {}\n",
       "\n",
       "    var tag = document.createElement('script');\n",
       "    tag.src = uri;\n",
       "    tag.async = true;\n",
       "    tag.onload = () => {\n",
       "        exports = savedexports;\n",
       "        module = savedmodule;\n",
       "        resolve();\n",
       "    };\n",
       "  var firstScriptTag = document.getElementsByTagName('script')[0];\n",
       "  firstScriptTag.parentNode.insertBefore(tag, firstScriptTag);\n",
       "});\n",
       "};\n",
       "\n",
       "if(typeof $3Dmolpromise === 'undefined') {\n",
       "$3Dmolpromise = null;\n",
       "  $3Dmolpromise = loadScriptAsync('https://cdn.jsdelivr.net/npm/3dmol@2.5.0/build/3Dmol-min.js');\n",
       "}\n",
       "\n",
       "var viewer_17532393316432252 = null;\n",
       "var warn = document.getElementById(\"3dmolwarning_17532393316432252\");\n",
       "if(warn) {\n",
       "    warn.parentNode.removeChild(warn);\n",
       "}\n",
       "$3Dmolpromise.then(function() {\n",
       "viewer_17532393316432252 = $3Dmol.createViewer(document.getElementById(\"3dmolviewer_17532393316432252\"),{backgroundColor:\"white\"});\n",
       "$3Dmol.download(\"2OP8\", viewer_17532393316432252, {}, function() {\n",
       "viewer_17532393316432252.zoomTo();\n",
       "\tviewer_17532393316432252.addModel(\"data_model\\n_entry.id model\\n_struct.entry_id model\\n_struct.pdbx_model_details .\\n_struct.pdbx_structure_determination_methodology computational\\n_struct.title 'AlphaFold prediction'\\n_audit_conform.dict_location https://raw.githubusercontent.com/ihmwg/ModelCIF/80e1e22/dist/mmcif_ma.dic\\n_audit_conform.dict_name mmcif_ma.dic\\n_audit_conform.dict_version 1.4.7\\n#\\nloop_\\n_chem_comp.id\\n_chem_comp.type\\n_chem_comp.name\\n_chem_comp.formula\\n_chem_comp.formula_weight\\n_chem_comp.ma_provenance\\nALA 'L-peptide linking' ALANINE 'C3 H7 N O2' 89.094 'CCD Core'\\nARG 'L-peptide linking' ARGININE 'C6 H15 N4 O2 1' 175.212 'CCD Core'\\nASP 'L-peptide linking' 'ASPARTIC ACID' 'C4 H7 N O4' 133.103 'CCD Core'\\nGLN 'L-peptide linking' GLUTAMINE 'C5 H10 N2 O3' 146.146 'CCD Core'\\nGLU 'L-peptide linking' 'GLUTAMIC ACID' 'C5 H9 N O4' 147.130 'CCD Core'\\nGLY 'peptide linking' GLYCINE 'C2 H5 N O2' 75.067 'CCD Core'\\nHIS 'L-peptide linking' HISTIDINE 'C6 H10 N3 O2 1' 156.165 'CCD Core'\\nILE 'L-peptide linking' ISOLEUCINE 'C6 H13 N O2' 131.175 'CCD Core'\\nLEU 'L-peptide linking' LEUCINE 'C6 H13 N O2' 131.175 'CCD Core'\\nLYS 'L-peptide linking' LYSINE 'C6 H15 N2 O2 1' 147.198 'CCD Core'\\nMET 'L-peptide linking' METHIONINE 'C5 H11 N O2 S' 149.208 'CCD Core'\\nPHE 'L-peptide linking' PHENYLALANINE 'C9 H11 N O2' 165.192 'CCD Core'\\nPRO 'L-peptide linking' PROLINE 'C5 H9 N O2' 115.132 'CCD Core'\\nSER 'L-peptide linking' SERINE 'C3 H7 N O3' 105.093 'CCD Core'\\nTHR 'L-peptide linking' THREONINE 'C4 H9 N O3' 119.120 'CCD Core'\\nVAL 'L-peptide linking' VALINE 'C5 H11 N O2' 117.148 'CCD Core'\\n#\\n#\\nloop_\\n_entity.id\\n_entity.type\\n_entity.src_method\\n_entity.pdbx_description\\n_entity.formula_weight\\n_entity.pdbx_number_of_molecules\\n_entity.details\\n1 polymer man 'Model subunit' 7453.286 1 .\\n#\\n#\\nloop_\\n_entity_poly.entity_id\\n_entity_poly.type\\n_entity_poly.nstd_linkage\\n_entity_poly.nstd_monomer\\n_entity_poly.pdbx_strand_id\\n_entity_poly.pdbx_seq_one_letter_code\\n_entity_poly.pdbx_seq_one_letter_code_can\\n1 polypeptide(L) no no A\\nPIAQIHILEGRSDEQKETLIREVSEAISRSLDAPLTSVRVIITEMAKGHFGIGGELASK\\nPIAQIHILEGRSDEQKETLIREVSEAISRSLDAPLTSVRVIITEMAKGHFGIGGELASK\\n#\\n#\\nloop_\\n_entity_poly_seq.entity_id\\n_entity_poly_seq.num\\n_entity_poly_seq.mon_id\\n_entity_poly_seq.hetero\\n1 1 PRO .\\n1 2 ILE .\\n1 3 ALA .\\n1 4 GLN .\\n1 5 ILE .\\n1 6 HIS .\\n1 7 ILE .\\n1 8 LEU .\\n1 9 GLU .\\n1 10 GLY .\\n1 11 ARG .\\n1 12 SER .\\n1 13 ASP .\\n1 14 GLU .\\n1 15 GLN .\\n1 16 LYS .\\n1 17 GLU .\\n1 18 THR .\\n1 19 LEU .\\n1 20 ILE .\\n1 21 ARG .\\n1 22 GLU .\\n1 23 VAL .\\n1 24 SER .\\n1 25 GLU .\\n1 26 ALA .\\n1 27 ILE .\\n1 28 SER .\\n1 29 ARG .\\n1 30 SER .\\n1 31 LEU .\\n1 32 ASP .\\n1 33 ALA .\\n1 34 PRO .\\n1 35 LEU .\\n1 36 THR .\\n1 37 SER .\\n1 38 VAL .\\n1 39 ARG .\\n1 40 VAL .\\n1 41 ILE .\\n1 42 ILE .\\n1 43 THR .\\n1 44 GLU .\\n1 45 MET .\\n1 46 ALA .\\n1 47 LYS .\\n1 48 GLY .\\n1 49 HIS .\\n1 50 PHE .\\n1 51 GLY .\\n1 52 ILE .\\n1 53 GLY .\\n1 54 GLY .\\n1 55 GLU .\\n1 56 LEU .\\n1 57 ALA .\\n1 58 SER .\\n1 59 LYS .\\n#\\n#\\nloop_\\n_struct_asym.id\\n_struct_asym.entity_id\\n_struct_asym.details\\nA 1 'Model subunit A'\\n#\\n#\\nloop_\\n_pdbx_poly_seq_scheme.asym_id\\n_pdbx_poly_seq_scheme.entity_id\\n_pdbx_poly_seq_scheme.seq_id\\n_pdbx_poly_seq_scheme.mon_id\\n_pdbx_poly_seq_scheme.pdb_seq_num\\n_pdbx_poly_seq_scheme.auth_seq_num\\n_pdbx_poly_seq_scheme.pdb_mon_id\\n_pdbx_poly_seq_scheme.auth_mon_id\\n_pdbx_poly_seq_scheme.pdb_strand_id\\n_pdbx_poly_seq_scheme.pdb_ins_code\\nA 1 1 PRO 1 1 PRO PRO A .\\nA 1 2 ILE 2 2 ILE ILE A .\\nA 1 3 ALA 3 3 ALA ALA A .\\nA 1 4 GLN 4 4 GLN GLN A .\\nA 1 5 ILE 5 5 ILE ILE A .\\nA 1 6 HIS 6 6 HIS HIS A .\\nA 1 7 ILE 7 7 ILE ILE A .\\nA 1 8 LEU 8 8 LEU LEU A .\\nA 1 9 GLU 9 9 GLU GLU A .\\nA 1 10 GLY 10 10 GLY GLY A .\\nA 1 11 ARG 11 11 ARG ARG A .\\nA 1 12 SER 12 12 SER SER A .\\nA 1 13 ASP 13 13 ASP ASP A .\\nA 1 14 GLU 14 14 GLU GLU A .\\nA 1 15 GLN 15 15 GLN GLN A .\\nA 1 16 LYS 16 16 LYS LYS A .\\nA 1 17 GLU 17 17 GLU GLU A .\\nA 1 18 THR 18 18 THR THR A .\\nA 1 19 LEU 19 19 LEU LEU A .\\nA 1 20 ILE 20 20 ILE ILE A .\\nA 1 21 ARG 21 21 ARG ARG A .\\nA 1 22 GLU 22 22 GLU GLU A .\\nA 1 23 VAL 23 23 VAL VAL A .\\nA 1 24 SER 24 24 SER SER A .\\nA 1 25 GLU 25 25 GLU GLU A .\\nA 1 26 ALA 26 26 ALA ALA A .\\nA 1 27 ILE 27 27 ILE ILE A .\\nA 1 28 SER 28 28 SER SER A .\\nA 1 29 ARG 29 29 ARG ARG A .\\nA 1 30 SER 30 30 SER SER A .\\nA 1 31 LEU 31 31 LEU LEU A .\\nA 1 32 ASP 32 32 ASP ASP A .\\nA 1 33 ALA 33 33 ALA ALA A .\\nA 1 34 PRO 34 34 PRO PRO A .\\nA 1 35 LEU 35 35 LEU LEU A .\\nA 1 36 THR 36 36 THR THR A .\\nA 1 37 SER 37 37 SER SER A .\\nA 1 38 VAL 38 38 VAL VAL A .\\nA 1 39 ARG 39 39 ARG ARG A .\\nA 1 40 VAL 40 40 VAL VAL A .\\nA 1 41 ILE 41 41 ILE ILE A .\\nA 1 42 ILE 42 42 ILE ILE A .\\nA 1 43 THR 43 43 THR THR A .\\nA 1 44 GLU 44 44 GLU GLU A .\\nA 1 45 MET 45 45 MET MET A .\\nA 1 46 ALA 46 46 ALA ALA A .\\nA 1 47 LYS 47 47 LYS LYS A .\\nA 1 48 GLY 48 48 GLY GLY A .\\nA 1 49 HIS 49 49 HIS HIS A .\\nA 1 50 PHE 50 50 PHE PHE A .\\nA 1 51 GLY 51 51 GLY GLY A .\\nA 1 52 ILE 52 52 ILE ILE A .\\nA 1 53 GLY 53 53 GLY GLY A .\\nA 1 54 GLY 54 54 GLY GLY A .\\nA 1 55 GLU 55 55 GLU GLU A .\\nA 1 56 LEU 56 56 LEU LEU A .\\nA 1 57 ALA 57 57 ALA ALA A .\\nA 1 58 SER 58 58 SER SER A .\\nA 1 59 LYS 59 59 LYS LYS A .\\n#\\n#\\nloop_\\n_ma_data.id\\n_ma_data.name\\n_ma_data.content_type\\n_ma_data.content_type_other_details\\n1 'Model subunit' target .\\n2 Model 'model coordinates' .\\n#\\n#\\nloop_\\n_ma_target_entity.entity_id\\n_ma_target_entity.data_id\\n_ma_target_entity.origin\\n1 1 designed\\n#\\n#\\nloop_\\n_ma_target_entity_instance.asym_id\\n_ma_target_entity_instance.entity_id\\n_ma_target_entity_instance.details\\nA 1 'Model subunit A'\\n#\\n#\\nloop_\\n_ma_model_list.ordinal_id\\n_ma_model_list.model_name\\n_ma_model_list.data_id\\n_ma_model_list.model_type\\n_ma_model_list.model_type_other_details\\n1 Model 2 'Ab initio model' .\\n#\\n#\\nloop_\\n_ma_model_group.id\\n_ma_model_group.name\\n_ma_model_group.details\\n1 'All models' .\\n#\\n#\\nloop_\\n_ma_model_group_link.group_id\\n_ma_model_group_link.model_id\\n1 1\\n#\\n#\\nloop_\\n_atom_site.group_PDB\\n_atom_site.id\\n_atom_site.type_symbol\\n_atom_site.label_atom_id\\n_atom_site.label_alt_id\\n_atom_site.label_comp_id\\n_atom_site.label_seq_id\\n_atom_site.auth_seq_id\\n_atom_site.pdbx_PDB_ins_code\\n_atom_site.label_asym_id\\n_atom_site.Cartn_x\\n_atom_site.Cartn_y\\n_atom_site.Cartn_z\\n_atom_site.occupancy\\n_atom_site.label_entity_id\\n_atom_site.auth_asym_id\\n_atom_site.auth_comp_id\\n_atom_site.B_iso_or_equiv\\n_atom_site.pdbx_PDB_model_num\\nATOM 1 N N . PRO 1 1 ? A -4.161809 -3.1450362 12.591818 1.000 1 A PRO . 1\\nATOM 2 C CA . PRO 1 1 ? A -4.7494407 -2.9860256 11.259541 1.000 1 A PRO . 1\\nATOM 3 C C . PRO 1 1 ? A -3.805328 -3.4239364 10.142126 1.000 1 A PRO . 1\\nATOM 4 C CB . PRO 1 1 ? A -5.0340185 -1.4842144 11.17668 1.000 1 A PRO . 1\\nATOM 5 O O . PRO 1 1 ? A -2.5841606 -3.3236675 10.285979 1.000 1 A PRO . 1\\nATOM 6 C CG . PRO 1 1 ? A -5.014176 -1.0128363 12.594904 1.000 1 A PRO . 1\\nATOM 7 C CD . PRO 1 1 ? A -4.108342 -1.9136933 13.384352 1.000 1 A PRO . 1\\nATOM 8 N N . ILE 2 2 ? A -4.42457 -4.355715 9.279389 1.000 1 A ILE . 1\\nATOM 9 C CA . ILE 2 2 ? A -3.6593418 -4.83695 8.134393 1.000 1 A ILE . 1\\nATOM 10 C C . ILE 2 2 ? A -4.181394 -4.1872063 6.85493 1.000 1 A ILE . 1\\nATOM 11 C CB . ILE 2 2 ? A -3.7234347 -6.3764195 8.018462 1.000 1 A ILE . 1\\nATOM 12 O O . ILE 2 2 ? A -5.3815355 -4.2305565 6.574297 1.000 1 A ILE . 1\\nATOM 13 C CG1 . ILE 2 2 ? A -3.1615877 -7.0312085 9.285626 1.000 1 A ILE . 1\\nATOM 14 C CG2 . ILE 2 2 ? A -2.970467 -6.856057 6.7741094 1.000 1 A ILE . 1\\nATOM 15 C CD1 . ILE 2 2 ? A -3.3358862 -8.543043 9.330554 1.000 1 A ILE . 1\\nATOM 16 N N . ALA 3 3 ? A -3.2264342 -3.4541247 6.091759 1.000 1 A ALA . 1\\nATOM 17 C CA . ALA 3 3 ? A -3.5688426 -2.8648398 4.799903 1.000 1 A ALA . 1\\nATOM 18 C C . ALA 3 3 ? A -2.9920604 -3.6877441 3.6515017 1.000 1 A ALA . 1\\nATOM 19 C CB . ALA 3 3 ? A -3.0679655 -1.4246793 4.7224355 1.000 1 A ALA . 1\\nATOM 20 O O . ALA 3 3 ? A -1.811205 -4.0431867 3.666122 1.000 1 A ALA . 1\\nATOM 21 N N . GLN 4 4 ? A -3.8484936 -4.088196 2.7662988 1.000 1 A GLN . 1\\nATOM 22 C CA . GLN 4 4 ? A -3.4413438 -4.7898703 1.5535003 1.000 1 A GLN . 1\\nATOM 23 C C . GLN 4 4 ? A -3.516722 -3.873068 0.33593333 1.000 1 A GLN . 1\\nATOM 24 C CB . GLN 4 4 ? A -4.3101897 -6.0290093 1.332237 1.000 1 A GLN . 1\\nATOM 25 O O . GLN 4 4 ? A -4.565548 -3.2886925 0.056309342 1.000 1 A GLN . 1\\nATOM 26 C CG . GLN 4 4 ? A -4.1511917 -7.0921683 2.4107027 1.000 1 A GLN . 1\\nATOM 27 C CD . GLN 4 4 ? A -4.9563375 -8.345405 2.1227605 1.000 1 A GLN . 1\\nATOM 28 N NE2 . GLN 4 4 ? A -4.7197723 -9.394531 2.90298 1.000 1 A GLN . 1\\nATOM 29 O OE1 . GLN 4 4 ? A -5.784886 -8.370234 1.2070928 1.000 1 A GLN . 1\\nATOM 30 N N . ILE 5 5 ? A -2.380919 -3.6272771 -0.33209765 1.000 1 A ILE . 1\\nATOM 31 C CA . ILE 5 5 ? A -2.2671351 -2.7390938 -1.4837768 1.000 1 A ILE . 1\\nATOM 32 C C . ILE 5 5 ? A -1.8494074 -3.5407834 -2.7144394 1.000 1 A ILE . 1\\nATOM 33 C CB . ILE 5 5 ? A -1.2593579 -1.5978873 -1.2200515 1.000 1 A ILE . 1\\nATOM 34 O O . ILE 5 5 ? A -0.8444295 -4.255057 -2.6859982 1.000 1 A ILE . 1\\nATOM 35 C CG1 . ILE 5 5 ? A -1.6659522 -0.80393213 0.026722431 1.000 1 A ILE . 1\\nATOM 36 C CG2 . ILE 5 5 ? A -1.1500398 -0.6809399 -2.441807 1.000 1 A ILE . 1\\nATOM 37 C CD1 . ILE 5 5 ? A -0.5970113 0.16027397 0.5224217 1.000 1 A ILE . 1\\nATOM 38 N N . HIS 6 6 ? A -2.669715 -3.454001 -3.658957 1.000 1 A HIS . 1\\nATOM 39 C CA . HIS 6 6 ? A -2.3834898 -4.0961413 -4.9368696 1.000 1 A HIS . 1\\nATOM 40 C C . HIS 6 6 ? A -1.9660065 -3.0720181 -5.986872 1.000 1 A HIS . 1\\nATOM 41 C CB . HIS 6 6 ? A -3.6009982 -4.8828144 -5.425739 1.000 1 A HIS . 1\\nATOM 42 O O . HIS 6 6 ? A -2.6992674 -2.1176167 -6.2552767 1.000 1 A HIS . 1\\nATOM 43 C CG . HIS 6 6 ? A -4.125304 -5.8611007 -4.4232616 1.000 1 A HIS . 1\\nATOM 44 C CD2 . HIS 6 6 ? A -5.184868 -5.7917757 -3.5834455 1.000 1 A HIS . 1\\nATOM 45 N ND1 . HIS 6 6 ? A -3.5344005 -7.0857754 -4.1993365 1.000 1 A HIS . 1\\nATOM 46 C CE1 . HIS 6 6 ? A -4.2109375 -7.729532 -3.2627702 1.000 1 A HIS . 1\\nATOM 47 N NE2 . HIS 6 6 ? A -5.217085 -6.9660206 -2.8723373 1.000 1 A HIS . 1\\nATOM 48 N N . ILE 7 7 ? A -0.77449715 -3.1694279 -6.4855824 1.000 1 A ILE . 1\\nATOM 49 C CA . ILE 7 7 ? A -0.2668145 -2.205837 -7.456114 1.000 1 A ILE . 1\\nATOM 50 C C . ILE 7 7 ? A 0.40562943 -2.9430666 -8.611987 1.000 1 A ILE . 1\\nATOM 51 C CB . ILE 7 7 ? A 0.72333956 -1.2149723 -6.803965 1.000 1 A ILE . 1\\nATOM 52 O O . ILE 7 7 ? A 0.77862966 -4.110971 -8.478404 1.000 1 A ILE . 1\\nATOM 53 C CG1 . ILE 7 7 ? A 1.9197621 -1.9680568 -6.211037 1.000 1 A ILE . 1\\nATOM 54 C CG2 . ILE 7 7 ? A 0.020274758 -0.3745296 -5.734019 1.000 1 A ILE . 1\\nATOM 55 C CD1 . ILE 7 7 ? A 3.0296874 -1.0608915 -5.6980453 1.000 1 A ILE . 1\\nATOM 56 N N . LEU 8 8 ? A 0.49596292 -2.2965167 -9.831626 1.000 1 A LEU . 1\\nATOM 57 C CA . LEU 8 8 ? A 1.1988504 -2.8483918 -10.984689 1.000 1 A LEU . 1\\nATOM 58 C C . LEU 8 8 ? A 2.7058606 -2.8537755 -10.751199 1.000 1 A LEU . 1\\nATOM 59 C CB . LEU 8 8 ? A 0.8690936 -2.0477428 -12.247239 1.000 1 A LEU . 1\\nATOM 60 O O . LEU 8 8 ? A 3.2392585 -1.9590874 -10.0911875 1.000 1 A LEU . 1\\nATOM 61 C CG . LEU 8 8 ? A -0.5662318 -2.1574814 -12.764081 1.000 1 A LEU . 1\\nATOM 62 C CD1 . LEU 8 8 ? A -0.7920285 -1.1802622 -13.912932 1.000 1 A LEU . 1\\nATOM 63 C CD2 . LEU 8 8 ? A -0.86900866 -3.5860686 -13.203135 1.000 1 A LEU . 1\\nATOM 64 N N . GLU 9 9 ? A 3.3629637 -3.8092713 -11.320063 1.000 1 A GLU . 1\\nATOM 65 C CA . GLU 9 9 ? A 4.8163943 -3.8904686 -11.210285 1.000 1 A GLU . 1\\nATOM 66 C C . GLU 9 9 ? A 5.4869776 -2.6801438 -11.853798 1.000 1 A GLU . 1\\nATOM 67 C CB . GLU 9 9 ? A 5.3329954 -5.1809044 -11.85168 1.000 1 A GLU . 1\\nATOM 68 O O . GLU 9 9 ? A 4.9158735 -2.0483274 -12.745071 1.000 1 A GLU . 1\\nATOM 69 C CG . GLU 9 9 ? A 4.948587 -6.4420934 -11.091731 1.000 1 A GLU . 1\\nATOM 70 C CD . GLU 9 9 ? A 5.447907 -7.716796 -11.753111 1.000 1 A GLU . 1\\nATOM 71 O OE1 . GLU 9 9 ? A 5.3285184 -8.803833 -11.143545 1.000 1 A GLU . 1\\nATOM 72 O OE2 . GLU 9 9 ? A 5.9635973 -7.627599 -12.889705 1.000 1 A GLU . 1\\nATOM 73 N N . GLY 10 10 ? A 6.688015 -2.2185922 -11.2687025 1.000 1 A GLY . 1\\nATOM 74 C CA . GLY 10 10 ? A 7.454329 -1.1641829 -11.91348 1.000 1 A GLY . 1\\nATOM 75 C C . GLY 10 10 ? A 7.8431797 -0.04471898 -10.966439 1.000 1 A GLY . 1\\nATOM 76 O O . GLY 10 10 ? A 8.615888 0.84383416 -11.33129 1.000 1 A GLY . 1\\nATOM 77 N N . ARG 11 11 ? A 7.3222947 -0.085950196 -9.754755 1.000 1 A ARG . 1\\nATOM 78 C CA . ARG 11 11 ? A 7.704372 0.9036343 -8.752577 1.000 1 A ARG . 1\\nATOM 79 C C . ARG 11 11 ? A 9.029541 0.5334618 -8.094909 1.000 1 A ARG . 1\\nATOM 80 C CB . ARG 11 11 ? A 6.6124253 1.0419884 -7.689537 1.000 1 A ARG . 1\\nATOM 81 O O . ARG 11 11 ? A 9.312308 -0.6465373 -7.877271 1.000 1 A ARG . 1\\nATOM 82 C CG . ARG 11 11 ? A 5.2504225 1.4181163 -8.250817 1.000 1 A ARG . 1\\nATOM 83 C CD . ARG 11 11 ? A 5.2936015 2.746471 -8.993181 1.000 1 A ARG . 1\\nATOM 84 N NE . ARG 11 11 ? A 3.9748058 3.130101 -9.48874 1.000 1 A ARG . 1\\nATOM 85 N NH1 . ARG 11 11 ? A 4.7415757 4.8902254 -10.773679 1.000 1 A ARG . 1\\nATOM 86 N NH2 . ARG 11 11 ? A 2.502927 4.4011755 -10.710426 1.000 1 A ARG . 1\\nATOM 87 C CZ . ARG 11 11 ? A 3.7427802 4.1396246 -10.323151 1.000 1 A ARG . 1\\nATOM 88 N N . SER 12 12 ? A 9.848803 1.6410275 -7.7886734 1.000 1 A SER . 1\\nATOM 89 C CA . SER 12 12 ? A 11.122066 1.369595 -7.1294556 1.000 1 A SER . 1\\nATOM 90 C C . SER 12 12 ? A 10.914243 0.94109726 -5.680723 1.000 1 A SER . 1\\nATOM 91 C CB . SER 12 12 ? A 12.025961 2.6020474 -7.180533 1.000 1 A SER . 1\\nATOM 92 O O . SER 12 12 ? A 9.870539 1.2227166 -5.0881925 1.000 1 A SER . 1\\nATOM 93 O OG . SER 12 12 ? A 11.5311985 3.6241841 -6.3325458 1.000 1 A SER . 1\\nATOM 94 N N . ASP 13 13 ? A 11.832808 0.27687007 -5.121314 1.000 1 A ASP . 1\\nATOM 95 C CA . ASP 13 13 ? A 11.796517 -0.0718237 -3.7043571 1.000 1 A ASP . 1\\nATOM 96 C C . ASP 13 13 ? A 11.621899 1.1726099 -2.8368182 1.000 1 A ASP . 1\\nATOM 97 C CB . ASP 13 13 ? A 13.070123 -0.8186388 -3.3025835 1.000 1 A ASP . 1\\nATOM 98 O O . ASP 13 13 ? A 10.962345 1.1229671 -1.7965078 1.000 1 A ASP . 1\\nATOM 99 C CG . ASP 13 13 ? A 13.121186 -2.237033 -3.8425882 1.000 1 A ASP . 1\\nATOM 100 O OD1 . ASP 13 13 ? A 14.218499 -2.834014 -3.8861818 1.000 1 A ASP . 1\\nATOM 101 O OD2 . ASP 13 13 ? A 12.054894 -2.7614412 -4.2307787 1.000 1 A ASP . 1\\nATOM 102 N N . GLU 14 14 ? A 12.286525 2.2453742 -3.1999056 1.000 1 A GLU . 1\\nATOM 103 C CA . GLU 14 14 ? A 12.15873 3.482822 -2.4360354 1.000 1 A GLU . 1\\nATOM 104 C C . GLU 14 14 ? A 10.716642 3.9818559 -2.4309185 1.000 1 A GLU . 1\\nATOM 105 C CB . GLU 14 14 ? A 13.086656 4.561631 -3.0004928 1.000 1 A GLU . 1\\nATOM 106 O O . GLU 14 14 ? A 10.217575 4.4433775 -1.4024972 1.000 1 A GLU . 1\\nATOM 107 C CG . GLU 14 14 ? A 14.556696 4.3400564 -2.675258 1.000 1 A GLU . 1\\nATOM 108 C CD . GLU 14 14 ? A 15.242676 3.373117 -3.627135 1.000 1 A GLU . 1\\nATOM 109 O OE1 . GLU 14 14 ? A 16.358486 2.9004662 -3.312424 1.000 1 A GLU . 1\\nATOM 110 O OE2 . GLU 14 14 ? A 14.660015 3.0866175 -4.6967907 1.000 1 A GLU . 1\\nATOM 111 N N . GLN 15 15 ? A 10.047574 3.9330747 -3.4441452 1.000 1 A GLN . 1\\nATOM 112 C CA . GLN 15 15 ? A 8.649191 4.3369155 -3.546295 1.000 1 A GLN . 1\\nATOM 113 C C . GLN 15 15 ? A 7.7527313 3.4332364 -2.7046309 1.000 1 A GLN . 1\\nATOM 114 C CB . GLN 15 15 ? A 8.190186 4.320027 -5.0051794 1.000 1 A GLN . 1\\nATOM 115 O O . GLN 15 15 ? A 6.8355 3.9109595 -2.0336716 1.000 1 A GLN . 1\\nATOM 116 C CG . GLN 15 15 ? A 8.783537 5.439663 -5.849586 1.000 1 A GLN . 1\\nATOM 117 C CD . GLN 15 15 ? A 8.379573 5.351187 -7.3092966 1.000 1 A GLN . 1\\nATOM 118 N NE2 . GLN 15 15 ? A 7.9076076 6.463243 -7.8624253 1.000 1 A GLN . 1\\nATOM 119 O OE1 . GLN 15 15 ? A 8.491584 4.2922115 -7.9350595 1.000 1 A GLN . 1\\nATOM 120 N N . LYS 16 16 ? A 7.915793 2.2058637 -2.7524004 1.000 1 A LYS . 1\\nATOM 121 C CA . LYS 16 16 ? A 7.137087 1.2554865 -1.9636536 1.000 1 A LYS . 1\\nATOM 122 C C . LYS 16 16 ? A 7.3503914 1.476659 -0.4689089 1.000 1 A LYS . 1\\nATOM 123 C CB . LYS 16 16 ? A 7.5040784 -0.18117857 -2.3384027 1.000 1 A LYS . 1\\nATOM 124 O O . LYS 16 16 ? A 6.397837 1.4338138 0.31245303 1.000 1 A LYS . 1\\nATOM 125 C CG . LYS 16 16 ? A 7.0939636 -0.5768918 -3.7492461 1.000 1 A LYS . 1\\nATOM 126 C CD . LYS 16 16 ? A 7.52585 -2.0000706 -4.0785003 1.000 1 A LYS . 1\\nATOM 127 C CE . LYS 16 16 ? A 7.300362 -2.3278403 -5.5483236 1.000 1 A LYS . 1\\nATOM 128 N NZ . LYS 16 16 ? A 7.820635 -3.682983 -5.899879 1.000 1 A LYS . 1\\nATOM 129 N N . GLU 17 17 ? A 8.643948 1.7952871 -0.15213442 1.000 1 A GLU . 1\\nATOM 130 C CA . GLU 17 17 ? A 8.9359255 2.074091 1.2507639 1.000 1 A GLU . 1\\nATOM 131 C C . GLU 17 17 ? A 8.21051 3.3294992 1.72658 1.000 1 A GLU . 1\\nATOM 132 C CB . GLU 17 17 ? A 10.443998 2.2242634 1.46676 1.000 1 A GLU . 1\\nATOM 133 O O . GLU 17 17 ? A 7.6775618 3.3613298 2.837739 1.000 1 A GLU . 1\\nATOM 134 C CG . GLU 17 17 ? A 11.20187 0.90468466 1.4515212 1.000 1 A GLU . 1\\nATOM 135 C CD . GLU 17 17 ? A 12.711239 1.0789719 1.5066499 1.000 1 A GLU . 1\\nATOM 136 O OE1 . GLU 17 17 ? A 13.443235 0.069015026 1.3987452 1.000 1 A GLU . 1\\nATOM 137 O OE2 . GLU 17 17 ? A 13.165482 2.23478 1.6599808 1.000 1 A GLU . 1\\nATOM 138 N N . THR 18 18 ? A 8.298755 4.309743 0.8789518 1.000 1 A THR . 1\\nATOM 139 C CA . THR 18 18 ? A 7.5933475 5.5457315 1.1991397 1.000 1 A THR . 1\\nATOM 140 C C . THR 18 18 ? A 6.093448 5.295085 1.3262513 1.000 1 A THR . 1\\nATOM 141 C CB . THR 18 18 ? A 7.847291 6.6264243 0.13192403 1.000 1 A THR . 1\\nATOM 142 O O . THR 18 18 ? A 5.4530296 5.7882185 2.2570605 1.000 1 A THR . 1\\nATOM 143 C CG2 . THR 18 18 ? A 7.0595922 7.896304 0.43679756 1.000 1 A THR . 1\\nATOM 144 O OG1 . THR 18 18 ? A 9.24513 6.9402795 0.10129607 1.000 1 A THR . 1\\nATOM 145 N N . LEU 19 19 ? A 5.525566 4.5426655 0.5314645 1.000 1 A LEU . 1\\nATOM 146 C CA . LEU 19 19 ? A 4.10966 4.195072 0.5820855 1.000 1 A LEU . 1\\nATOM 147 C C . LEU 19 19 ? A 3.775173 3.4649873 1.8785129 1.000 1 A LEU . 1\\nATOM 148 C CB . LEU 19 19 ? A 3.7274394 3.3268209 -0.61952186 1.000 1 A LEU . 1\\nATOM 149 O O . LEU 19 19 ? A 2.7896957 3.7921038 2.543664 1.000 1 A LEU . 1\\nATOM 150 C CG . LEU 19 19 ? A 2.2706337 2.86583 -0.6868558 1.000 1 A LEU . 1\\nATOM 151 C CD1 . LEU 19 19 ? A 1.3429682 4.0640483 -0.8586526 1.000 1 A LEU . 1\\nATOM 152 C CD2 . LEU 19 19 ? A 2.0776455 1.8665274 -1.8223978 1.000 1 A LEU . 1\\nATOM 153 N N . ILE 20 20 ? A 4.572346 2.4223163 2.2241797 1.000 1 A ILE . 1\\nATOM 154 C CA . ILE 20 20 ? A 4.3598013 1.6612926 3.450494 1.000 1 A ILE . 1\\nATOM 155 C C . ILE 20 20 ? A 4.392187 2.6013706 4.6533804 1.000 1 A ILE . 1\\nATOM 156 C CB . ILE 20 20 ? A 5.416253 0.54557383 3.6135817 1.000 1 A ILE . 1\\nATOM 157 O O . ILE 20 20 ? A 3.5242875 2.532089 5.526836 1.000 1 A ILE . 1\\nATOM 158 C CG1 . ILE 20 20 ? A 5.1775002 -0.56975603 2.5892947 1.000 1 A ILE . 1\\nATOM 159 C CG2 . ILE 20 20 ? A 5.3999968 -0.009011626 5.041026 1.000 1 A ILE . 1\\nATOM 160 C CD1 . ILE 20 20 ? A 6.328029 -1.5601194 2.473072 1.000 1 A ILE . 1\\nATOM 161 N N . ARG 21 21 ? A 5.281177 3.4331832 4.6810865 1.000 1 A ARG . 1\\nATOM 162 C CA . ARG 21 21 ? A 5.4279127 4.359989 5.798727 1.000 1 A ARG . 1\\nATOM 163 C C . ARG 21 21 ? A 4.2221403 5.2878647 5.902579 1.000 1 A ARG . 1\\nATOM 164 C CB . ARG 21 21 ? A 6.71031 5.181742 5.651346 1.000 1 A ARG . 1\\nATOM 165 O O . ARG 21 21 ? A 3.6660762 5.472724 6.987171 1.000 1 A ARG . 1\\nATOM 166 C CG . ARG 21 21 ? A 6.988021 6.1061134 6.826068 1.000 1 A ARG . 1\\nATOM 167 C CD . ARG 21 21 ? A 8.275258 6.895053 6.6309085 1.000 1 A ARG . 1\\nATOM 168 N NE . ARG 21 21 ? A 8.238426 7.6928205 5.4085417 1.000 1 A ARG . 1\\nATOM 169 N NH1 . ARG 21 21 ? A 10.525856 7.993937 5.2900715 1.000 1 A ARG . 1\\nATOM 170 N NH2 . ARG 21 21 ? A 9.16045 8.908321 3.6918588 1.000 1 A ARG . 1\\nATOM 171 C CZ . ARG 21 21 ? A 9.308328 8.196538 4.7996144 1.000 1 A ARG . 1\\nATOM 172 N N . GLU 22 22 ? A 3.8573108 5.8435717 4.738168 1.000 1 A GLU . 1\\nATOM 173 C CA . GLU 22 22 ? A 2.7880301 6.837415 4.733645 1.000 1 A GLU . 1\\nATOM 174 C C . GLU 22 22 ? A 1.4397305 6.198955 5.0547924 1.000 1 A GLU . 1\\nATOM 175 C CB . GLU 22 22 ? A 2.7230752 7.5514526 3.3810844 1.000 1 A GLU . 1\\nATOM 176 O O . GLU 22 22 ? A 0.63119334 6.7770247 5.7840557 1.000 1 A GLU . 1\\nATOM 177 C CG . GLU 22 22 ? A 3.9373417 8.419678 3.0850549 1.000 1 A GLU . 1\\nATOM 178 C CD . GLU 22 22 ? A 4.0430756 9.6335335 3.9944427 1.000 1 A GLU . 1\\nATOM 179 O OE1 . GLU 22 22 ? A 5.172594 10.120508 4.227937 1.000 1 A GLU . 1\\nATOM 180 O OE2 . GLU 22 22 ? A 2.9878902 10.1008005 4.4781632 1.000 1 A GLU . 1\\nATOM 181 N N . VAL 23 23 ? A 1.2446798 5.0318108 4.5404334 1.000 1 A VAL . 1\\nATOM 182 C CA . VAL 23 23 ? A -0.0029867142 4.328883 4.8204093 1.000 1 A VAL . 1\\nATOM 183 C C . VAL 23 23 ? A -0.051814824 3.9290776 6.2933316 1.000 1 A VAL . 1\\nATOM 184 C CB . VAL 23 23 ? A -0.16496734 3.080989 3.923746 1.000 1 A VAL . 1\\nATOM 185 O O . VAL 23 23 ? A -1.0869986 4.072893 6.9480715 1.000 1 A VAL . 1\\nATOM 186 C CG1 . VAL 23 23 ? A -1.3239969 2.2130363 4.4105215 1.000 1 A VAL . 1\\nATOM 187 C CG2 . VAL 23 23 ? A -0.37716496 3.494212 2.4685163 1.000 1 A VAL . 1\\nATOM 188 N N . SER 24 24 ? A 1.0203042 3.4072917 6.83924 1.000 1 A SER . 1\\nATOM 189 C CA . SER 24 24 ? A 1.0742095 3.0312717 8.248192 1.000 1 A SER . 1\\nATOM 190 C C . SER 24 24 ? A 0.76978284 4.2225285 9.1503315 1.000 1 A SER . 1\\nATOM 191 C CB . SER 24 24 ? A 2.4468393 2.4545588 8.597281 1.000 1 A SER . 1\\nATOM 192 O O . SER 24 24 ? A -0.007826626 4.106153 10.099806 1.000 1 A SER . 1\\nATOM 193 O OG . SER 24 24 ? A 2.6886935 1.2592958 7.8751407 1.000 1 A SER . 1\\nATOM 194 N N . GLU 25 25 ? A 1.3578656 5.400774 8.893056 1.000 1 A GLU . 1\\nATOM 195 C CA . GLU 25 25 ? A 1.1536306 6.605418 9.691946 1.000 1 A GLU . 1\\nATOM 196 C C . GLU 25 25 ? A -0.29291952 7.0842113 9.608726 1.000 1 A GLU . 1\\nATOM 197 C CB . GLU 25 25 ? A 2.1028166 7.7180777 9.239707 1.000 1 A GLU . 1\\nATOM 198 O O . GLU 25 25 ? A -0.8705276 7.5086217 10.611704 1.000 1 A GLU . 1\\nATOM 199 C CG . GLU 25 25 ? A 3.5469494 7.5075827 9.671055 1.000 1 A GLU . 1\\nATOM 200 C CD . GLU 25 25 ? A 4.4979067 8.55582 9.115639 1.000 1 A GLU . 1\\nATOM 201 O OE1 . GLU 25 25 ? A 5.715486 8.480918 9.397354 1.000 1 A GLU . 1\\nATOM 202 O OE2 . GLU 25 25 ? A 4.021345 9.459928 8.393684 1.000 1 A GLU . 1\\nATOM 203 N N . ALA 26 26 ? A -0.8108984 7.0443273 8.461605 1.000 1 A ALA . 1\\nATOM 204 C CA . ALA 26 26 ? A -2.196584 7.4690557 8.280289 1.000 1 A ALA . 1\\nATOM 205 C C . ALA 26 26 ? A -3.1474206 6.6044655 9.103131 1.000 1 A ALA . 1\\nATOM 206 C CB . ALA 26 26 ? A -2.5797415 7.4184246 6.803275 1.000 1 A ALA . 1\\nATOM 207 O O . ALA 26 26 ? A -4.054973 7.120628 9.759559 1.000 1 A ALA . 1\\nATOM 208 N N . ILE 27 27 ? A -2.9583838 5.2904477 9.023895 1.000 1 A ILE . 1\\nATOM 209 C CA . ILE 27 27 ? A -3.8090003 4.361439 9.759812 1.000 1 A ILE . 1\\nATOM 210 C C . ILE 27 27 ? A -3.6372511 4.5829144 11.260872 1.000 1 A ILE . 1\\nATOM 211 C CB . ILE 27 27 ? A -3.4914973 2.893983 9.394738 1.000 1 A ILE . 1\\nATOM 212 O O . ILE 27 27 ? A -4.6180134 4.600086 12.008391 1.000 1 A ILE . 1\\nATOM 213 C CG1 . ILE 27 27 ? A -3.9475865 2.5891552 7.9632397 1.000 1 A ILE . 1\\nATOM 214 C CG2 . ILE 27 27 ? A -4.145697 1.9352729 10.393901 1.000 1 A ILE . 1\\nATOM 215 C CD1 . ILE 27 27 ? A -3.503369 1.2267305 7.4489307 1.000 1 A ILE . 1\\nATOM 216 N N . SER 28 28 ? A -2.3594177 4.7395196 11.723684 1.000 1 A SER . 1\\nATOM 217 C CA . SER 28 28 ? A -2.0740893 4.9801273 13.134407 1.000 1 A SER . 1\\nATOM 218 C C . SER 28 28 ? A -2.7749758 6.239307 13.633258 1.000 1 A SER . 1\\nATOM 219 C CB . SER 28 28 ? A -0.56697714 5.1007752 13.363827 1.000 1 A SER . 1\\nATOM 220 O O . SER 28 28 ? A -3.3974085 6.229455 14.697308 1.000 1 A SER . 1\\nATOM 221 O OG . SER 28 28 ? A -0.28629944 5.384143 14.723812 1.000 1 A SER . 1\\nATOM 222 N N . ARG 29 29 ? A -2.735975 7.195043 12.922048 1.000 1 A ARG . 1\\nATOM 223 C CA . ARG 29 29 ? A -3.3361318 8.463196 13.323573 1.000 1 A ARG . 1\\nATOM 224 C C . ARG 29 29 ? A -4.85868 8.379005 13.303896 1.000 1 A ARG . 1\\nATOM 225 C CB . ARG 29 29 ? A -2.8621094 9.595762 12.41026 1.000 1 A ARG . 1\\nATOM 226 O O . ARG 29 29 ? A -5.524829 8.873756 14.215591 1.000 1 A ARG . 1\\nATOM 227 C CG . ARG 29 29 ? A -1.4243647 10.024649 12.656239 1.000 1 A ARG . 1\\nATOM 228 C CD . ARG 29 29 ? A -1.1069957 11.349609 11.977083 1.000 1 A ARG . 1\\nATOM 229 N NE . ARG 29 29 ? A -1.386171 11.301554 10.544699 1.000 1 A ARG . 1\\nATOM 230 N NH1 . ARG 29 29 ? A 0.7538792 10.677199 9.938555 1.000 1 A ARG . 1\\nATOM 231 N NH2 . ARG 29 29 ? A -0.85715145 10.970673 8.334443 1.000 1 A ARG . 1\\nATOM 232 C CZ . ARG 29 29 ? A -0.4958437 10.983252 9.609169 1.000 1 A ARG . 1\\nATOM 233 N N . SER 30 30 ? A -5.335222 7.7531457 12.200465 1.000 1 A SER . 1\\nATOM 234 C CA . SER 30 30 ? A -6.778036 7.733057 11.982919 1.000 1 A SER . 1\\nATOM 235 C C . SER 30 30 ? A -7.4699025 6.7795286 12.951284 1.000 1 A SER . 1\\nATOM 236 C CB . SER 30 30 ? A -7.097746 7.3307548 10.542601 1.000 1 A SER . 1\\nATOM 237 O O . SER 30 30 ? A -8.580793 7.051586 13.411315 1.000 1 A SER . 1\\nATOM 238 O OG . SER 30 30 ? A -6.625273 8.307535 9.630841 1.000 1 A SER . 1\\nATOM 239 N N . LEU 31 31 ? A -6.786115 5.732744 13.281459 1.000 1 A LEU . 1\\nATOM 240 C CA . LEU 31 31 ? A -7.42021 4.6987743 14.092015 1.000 1 A LEU . 1\\nATOM 241 C C . LEU 31 31 ? A -6.8482566 4.6892676 15.505665 1.000 1 A LEU . 1\\nATOM 242 C CB . LEU 31 31 ? A -7.237014 3.323164 13.445527 1.000 1 A LEU . 1\\nATOM 243 O O . LEU 31 31 ? A -7.2343493 3.8579135 16.330515 1.000 1 A LEU . 1\\nATOM 244 C CG . LEU 31 31 ? A -7.8887777 3.1254 12.076067 1.000 1 A LEU . 1\\nATOM 245 C CD1 . LEU 31 31 ? A -7.627931 1.7127651 11.563989 1.000 1 A LEU . 1\\nATOM 246 C CD2 . LEU 31 31 ? A -9.386025 3.4046266 12.150808 1.000 1 A LEU . 1\\nATOM 247 N N . ASP 32 32 ? A -6.0909095 5.6935163 15.72702 1.000 1 A ASP . 1\\nATOM 248 C CA . ASP 32 32 ? A -5.4142165 5.757415 17.018791 1.000 1 A ASP . 1\\nATOM 249 C C . ASP 32 32 ? A -4.840095 4.3964543 17.40596 1.000 1 A ASP . 1\\nATOM 250 C CB . ASP 32 32 ? A -6.3736963 6.2514114 18.103498 1.000 1 A ASP . 1\\nATOM 251 O O . ASP 32 32 ? A -4.8974233 4.001735 18.57242 1.000 1 A ASP . 1\\nATOM 252 C CG . ASP 32 32 ? A -5.6568985 6.774107 19.335993 1.000 1 A ASP . 1\\nATOM 253 O OD1 . ASP 32 32 ? A -6.2353387 6.72898 20.443129 1.000 1 A ASP . 1\\nATOM 254 O OD2 . ASP 32 32 ? A -4.5042953 7.2380314 19.198318 1.000 1 A ASP . 1\\nATOM 255 N N . ALA 33 33 ? A -4.256681 3.662971 16.36476 1.000 1 A ALA . 1\\nATOM 256 C CA . ALA 33 33 ? A -3.5956106 2.3767114 16.5695 1.000 1 A ALA . 1\\nATOM 257 C C . ALA 33 33 ? A -2.0857136 2.551435 16.705 1.000 1 A ALA . 1\\nATOM 258 C CB . ALA 33 33 ? A -3.9169152 1.4243841 15.420248 1.000 1 A ALA . 1\\nATOM 259 O O . ALA 33 33 ? A -1.5029931 3.4574885 16.104603 1.000 1 A ALA . 1\\nATOM 260 N N . PRO 34 34 ? A -1.453917 1.7931776 17.627367 1.000 1 A PRO . 1\\nATOM 261 C CA . PRO 34 34 ? A 0.008946135 1.861511 17.657694 1.000 1 A PRO . 1\\nATOM 262 C C . PRO 34 34 ? A 0.6446497 1.4948527 16.3186 1.000 1 A PRO . 1\\nATOM 263 C CB . PRO 34 34 ? A 0.38704935 0.84512556 18.738104 1.000 1 A PRO . 1\\nATOM 264 O O . PRO 34 34 ? A 0.2057279 0.54745436 15.661499 1.000 1 A PRO . 1\\nATOM 265 C CG . PRO 34 34 ? A -0.8824482 0.5916264 19.485142 1.000 1 A PRO . 1\\nATOM 266 C CD . PRO 34 34 ? A -2.0391016 0.8788091 18.571367 1.000 1 A PRO . 1\\nATOM 267 N N . LEU 35 35 ? A 1.5698636 2.3093915 15.893531 1.000 1 A LEU . 1\\nATOM 268 C CA . LEU 35 35 ? A 2.2539144 2.1172178 14.619437 1.000 1 A LEU . 1\\nATOM 269 C C . LEU 35 35 ? A 2.8299022 0.70877194 14.518715 1.000 1 A LEU . 1\\nATOM 270 C CB . LEU 35 35 ? A 3.3700914 3.1510773 14.448871 1.000 1 A LEU . 1\\nATOM 271 O O . LEU 35 35 ? A 2.842087 0.11428839 13.43842 1.000 1 A LEU . 1\\nATOM 272 C CG . LEU 35 35 ? A 3.9812784 3.2646642 13.051417 1.000 1 A LEU . 1\\nATOM 273 C CD1 . LEU 35 35 ? A 2.9225006 3.6995797 12.043628 1.000 1 A LEU . 1\\nATOM 274 C CD2 . LEU 35 35 ? A 5.1534243 4.240028 13.057796 1.000 1 A LEU . 1\\nATOM 275 N N . THR 36 36 ? A 3.229731 0.11101961 15.676576 1.000 1 A THR . 1\\nATOM 276 C CA . THR 36 36 ? A 3.8921907 -1.1882899 15.703559 1.000 1 A THR . 1\\nATOM 277 C C . THR 36 36 ? A 2.8979802 -2.3084645 15.411273 1.000 1 A THR . 1\\nATOM 278 C CB . THR 36 36 ? A 4.5700145 -1.4416331 17.062862 1.000 1 A THR . 1\\nATOM 279 O O . THR 36 36 ? A 3.2957664 -3.4400578 15.126697 1.000 1 A THR . 1\\nATOM 280 C CG2 . THR 36 36 ? A 5.7419167 -0.4898163 17.278963 1.000 1 A THR . 1\\nATOM 281 O OG1 . THR 36 36 ? A 3.6123314 -1.2483996 18.111145 1.000 1 A THR . 1\\nATOM 282 N N . SER 37 37 ? A 1.5862523 -1.8530605 15.414625 1.000 1 A SER . 1\\nATOM 283 C CA . SER 37 37 ? A 0.56716573 -2.8750274 15.199015 1.000 1 A SER . 1\\nATOM 284 C C . SER 37 37 ? A 0.09331778 -2.8860958 13.749542 1.000 1 A SER . 1\\nATOM 285 C CB . SER 37 37 ? A -0.6237396 -2.6501079 16.131607 1.000 1 A SER . 1\\nATOM 286 O O . SER 37 37 ? A -0.608485 -3.8074954 13.327386 1.000 1 A SER . 1\\nATOM 287 O OG . SER 37 37 ? A -1.3075047 -1.4551845 15.795069 1.000 1 A SER . 1\\nATOM 288 N N . VAL 38 38 ? A 0.45427462 -1.8301514 12.9842615 1.000 1 A VAL . 1\\nATOM 289 C CA . VAL 38 38 ? A -0.03292797 -1.7065861 11.614395 1.000 1 A VAL . 1\\nATOM 290 C C . VAL 38 38 ? A 0.8497601 -2.5261922 10.675864 1.000 1 A VAL . 1\\nATOM 291 C CB . VAL 38 38 ? A -0.07179971 -0.23129714 11.156685 1.000 1 A VAL .\\n1\\nATOM 292 O O . VAL 38 38 ? A 2.0764961 -2.401815 10.700854 1.000 1 A VAL . 1\\nATOM 293 C CG1 . VAL 38 38 ? A -0.5171305 -0.12972519 9.698944 1.000 1 A VAL . 1\\nATOM 294 C CG2 . VAL 38 38 ? A -0.9971354 0.5826114 12.05934 1.000 1 A VAL . 1\\nATOM 295 N N . ARG 39 39 ? A 0.23695344 -3.4344614 9.839542 1.000 1 A ARG . 1\\nATOM 296 C CA . ARG 39 39 ? A 0.9288711 -4.18989 8.800216 1.000 1 A ARG . 1\\nATOM 297 C C . ARG 39 39 ? A 0.46246776 -3.764833 7.4119 1.000 1 A ARG . 1\\nATOM 298 C CB . ARG 39 39 ? A 0.7082997 -5.692185 8.989953 1.000 1 A ARG . 1\\nATOM 299 O O . ARG 39 39 ? A -0.7399 -3.705612 7.1463337 1.000 1 A ARG . 1\\nATOM 300 C CG . ARG 39 39 ? A 1.2129099 -6.2255764 10.321276 1.000 1 A ARG . 1\\nATOM 301 C CD . ARG 39 39 ? A 2.72017 -6.0625334 10.459395 1.000 1 A ARG . 1\\nATOM 302 N NE . ARG 39 39 ? A 3.2124867 -6.6384907 11.707541 1.000 1 A ARG . 1\\nATOM 303 N NH1 . ARG 39 39 ? A 3.2932453 -4.628796 12.844048 1.000 1 A ARG . 1\\nATOM 304 N NH2 . ARG 39 39 ? A 3.9179375 -6.56945 13.892065 1.000 1 A ARG . 1\\nATOM 305 C CZ . ARG 39 39 ? A 3.4734325 -5.944264 12.811702 1.000 1 A ARG . 1\\nATOM 306 N N . VAL 40 40 ? A 1.370851 -3.4542284 6.58607 1.000 1 A VAL . 1\\nATOM 307 C CA . VAL 40 40 ? A 1.0625726 -3.1172407 5.200224 1.000 1 A VAL . 1\\nATOM 308 C C . VAL 40 40 ? A 1.6297295 -4.1868653 4.269651 1.000 1 A VAL . 1\\nATOM 309 C CB . VAL 40 40 ? A 1.6189237 -1.7276791 4.816719 1.000 1 A VAL . 1\\nATOM 310 O O . VAL 40 40 ? A 2.8281446 -4.4760437 4.303579 1.000 1 A VAL . 1\\nATOM 311 C CG1 . VAL 40 40 ? A 1.2931662 -1.3985621 3.3609698 1.000 1 A VAL . 1\\nATOM 312 C CG2 . VAL 40 40 ? A 1.059972 -0.65402913 5.748558 1.000 1 A VAL . 1\\nATOM 313 N N . ILE 41 41 ? A 0.8187175 -4.8687 3.508809 1.000 1 A ILE . 1\\nATOM 314 C CA . ILE 41 41 ? A 1.2131966 -5.885753 2.5402186 1.000 1 A ILE . 1\\nATOM 315 C C . ILE 41 41 ? A 1.0168346 -5.3523626 1.122945 1.000 1 A ILE . 1\\nATOM 316 C CB . ILE 41 41 ? A 0.4137028 -7.1933656 2.7363656 1.000 1 A ILE . 1\\nATOM 317 O O . ILE 41 41 ? A -0.09318578 -4.970298 0.74498475 1.000 1 A ILE . 1\\nATOM 318 C CG1 . ILE 41 41 ? A 0.6128181 -7.7329564 4.157393 1.000 1 A ILE . 1\\nATOM 319 C CG2 . ILE 41 41 ? A 0.8208275 -8.237027 1.6921213 1.000 1 A ILE . 1\\nATOM 320 C CD1 . ILE 41 41 ? A -0.3142134 -8.885831 4.5173016 1.000 1 A ILE . 1\\nATOM 321 N N . ILE 42 42 ? A 2.1059146 -5.251239 0.33725035 1.000 1 A ILE . 1\\nATOM 322 C CA . ILE 42 42 ? A 2.0378904 -4.8128033 -1.0524713 1.000 1 A ILE . 1\\nATOM 323 C C . ILE 42 42 ? A 2.0889702 -6.0253515 -1.9792109 1.000 1 A ILE . 1\\nATOM 324 C CB . ILE 42 42 ? A 3.1811671 -3.8303065 -1.3917842 1.000 1 A ILE . 1\\nATOM 325 O O . ILE 42 42 ? A 3.0053883 -6.845671 -1.8885071 1.000 1 A ILE . 1\\nATOM 326 C CG1 . ILE 42 42 ? A 3.0960362 -2.584369 -0.5026735 1.000 1 A ILE . 1\\nATOM 327 C CG2 . ILE 42 42 ? A 3.1430626 -3.4487793 -2.8744884 1.000 1 A ILE . 1\\nATOM 328 C CD1 . ILE 42 42 ? A 4.253343 -1.612351 -0.6866961 1.000 1 A ILE . 1\\nATOM 329 N N . THR 43 43 ? A 1.1257336 -6.1358967 -2.822143 1.000 1 A THR . 1\\nATOM 330 C CA . THR 43 43 ? A 1.1105406 -7.1625876 -3.8582234 1.000 1 A THR . 1\\nATOM 331 C C . THR 43 43 ? A 1.2670523 -6.5374393 -5.2414703 1.000 1 A THR . 1\\nATOM 332 C CB . THR 43 43 ? A -0.18910718 -7.987081 -3.8086474 1.000 1 A THR . 1\\nATOM 333 O O . THR 43 43 ? A 0.4560145 -5.701911 -5.6462317 1.000 1 A THR . 1\\nATOM 334 C CG2 . THR 43 43 ? A -0.15610614 -9.127217 -4.821076 1.000 1 A THR . 1\\nATOM 335 O OG1 . THR 43 43 ? A -0.3509279 -8.534531 -2.4943006 1.000 1 A THR . 1\\nATOM 336 N N . GLU 44 44 ? A 2.3254888 -6.909722 -5.850036 1.000 1 A GLU . 1\\nATOM 337 C CA . GLU 44 44 ? A 2.572692 -6.3812327 -7.188205 1.000 1 A GLU . 1\\nATOM 338 C C . GLU 44 44 ? A 2.010736 -7.309827 -8.260862 1.000 1 A GLU . 1\\nATOM 339 C CB . GLU 44 44 ? A 4.071435 -6.16464 -7.4125805 1.000 1 A GLU . 1\\nATOM 340 O O . GLU 44 44 ? A 2.2536447 -8.518099 -8.232695 1.000 1 A GLU . 1\\nATOM 341 C CG . GLU 44 44 ? A 4.6900673 -5.132991 -6.480441 1.000 1 A GLU . 1\\nATOM 342 C CD . GLU 44 44 ? A 6.174027 -4.913822 -6.728309 1.000 1 A GLU . 1\\nATOM 343 O OE1 . GLU 44 44 ? A 6.528222 -4.1043444 -7.615308 1.000 1 A GLU . 1\\nATOM 344 O OE2 . GLU 44 44 ? A 6.9891233 -5.5575657 -6.030491 1.000 1 A GLU . 1\\nATOM 345 N N . MET 45 45 ? A 1.2886344 -6.719192 -9.165117 1.000 1 A MET . 1\\nATOM 346 C CA . MET 45 45 ? A 0.71632195 -7.482552 -10.270413 1.000 1 A MET . 1\\nATOM 347 C C . MET 45 45 ? A 1.4102671 -7.14072 -11.58465 1.000 1 A MET . 1\\nATOM 348 C CB . MET 45 45 ? A -0.7855092 -7.2168064 -10.387418 1.000 1 A MET . 1\\nATOM 349 O O . MET 45 45 ? A 1.6366987 -5.967297 -11.885115 1.000 1 A MET . 1\\nATOM 350 C CG . MET 45 45 ? A -1.5825174 -7.6565433 -9.170018 1.000 1 A MET . 1\\nATOM 351 S SD . MET 45 45 ? A -3.384309 -7.3715105 -9.368872 1.000 1 A MET . 1\\nATOM 352 C CE . MET 45 45 ? A -3.42339 -5.55749 -9.36752 1.000 1 A MET . 1\\nATOM 353 N N . ALA 46 46 ? A 1.6856294 -8.160321 -12.253235 1.000 1 A ALA . 1\\nATOM 354 C CA . ALA 46 46 ? A 2.2131588 -7.9046016 -13.591037 1.000 1 A ALA . 1\\nATOM 355 C C . ALA 46 46 ? A 1.1825644 -7.1887765 -14.459453 1.000 1 A ALA . 1\\nATOM 356 C CB . ALA 46 46 ? A 2.6451888 -9.211548 -14.251479 1.000 1 A ALA . 1\\nATOM 357 O O . ALA 46 46 ? A -0.021093726 -7.4208403 -14.324075 1.000 1 A ALA .\\n1\\nATOM 358 N N . LYS 47 47 ? A 1.6787077 -6.315233 -15.341571 1.000 1 A LYS . 1\\nATOM 359 C CA . LYS 47 47 ? A 0.7833106 -5.5855174 -16.2346 1.000 1 A LYS . 1\\nATOM 360 C C . LYS 47 47 ? A -0.046403587 -6.54366 -17.084433 1.000 1 A LYS . 1\\nATOM 361 C CB . LYS 47 47 ? A 1.5778625 -4.639417 -17.136103 1.000 1 A LYS . 1\\nATOM 362 O O . LYS 47 47 ? A -1.1840558 -6.2352653 -17.445488 1.000 1 A LYS . 1\\nATOM 363 C CG . LYS 47 47 ? A 2.1631656 -3.4376493 -16.409166 1.000 1 A LYS . 1\\nATOM 364 C CD . LYS 47 47 ? A 2.8759902 -2.4954438 -17.370676 1.000 1 A LYS . 1\\nATOM 365 C CE . LYS 47 47 ? A 3.5126982 -1.3229352 -16.636862 1.000 1 A LYS . 1\\nATOM 366 N NZ . LYS 47 47 ? A 4.197276 -0.38644153 -17.577616 1.000 1 A LYS . 1\\nATOM 367 N N . GLY 48 48 ? A 0.41432664 -7.7417464 -17.237413 1.000 1 A GLY . 1\\nATOM 368 C CA . GLY 48 48 ? A -0.28728768 -8.739054 -18.029797 1.000 1 A GLY . 1\\nATOM 369 C C . GLY 48 48 ? A -1.4038059 -9.428434 -17.268593 1.000 1 A GLY . 1\\nATOM 370 O O . GLY 48 48 ? A -2.2234051 -10.133107 -17.861395 1.000 1 A GLY . 1\\nATOM 371 N N . HIS 49 49 ? A -1.4058816 -9.078117 -16.066568 1.000 1 A HIS . 1\\nATOM 372 C CA . HIS 49 49 ? A -2.3618832 -9.77961 -15.217274 1.000 1 A HIS . 1\\nATOM 373 C C . HIS 49 49 ? A -3.374021 -8.812866 -14.611791 1.000 1 A HIS . 1\\nATOM 374 C CB . HIS 49 49 ? A -1.6346331 -10.541304 -14.107722 1.000 1 A HIS . 1\\nATOM 375 O O . HIS 49 49 ? A -4.1422696 -9.187869 -13.723105 1.000 1 A HIS . 1\\nATOM 376 C CG . HIS 49 49 ? A -0.7974496 -11.675337 -14.607717 1.000 1 A HIS . 1\\nATOM 377 C CD2 . HIS 49 49 ? A -0.63821113 -12.181031 -15.853384 1.000 1 A HIS .\\n1\\nATOM 378 N ND1 . HIS 49 49 ? A 0.0008663535 -12.432907 -13.778309 1.000 1 A HIS\\n. 1\\nATOM 379 C CE1 . HIS 49 49 ? A 0.61747 -13.357725 -14.495103 1.000 1 A HIS . 1\\nATOM 380 N NE2 . HIS 49 49 ? A 0.24677944 -13.226555 -15.757284 1.000 1 A HIS .\\n1\\nATOM 381 N N . PHE 50 50 ? A -3.2893374 -7.5160027 -14.973179 1.000 1 A PHE . 1\\nATOM 382 C CA . PHE 50 50 ? A -4.2377877 -6.5163016 -14.496595 1.000 1 A PHE . 1\\nATOM 383 C C . PHE 50 50 ? A -5.0796175 -5.9769654 -15.646819 1.000 1 A PHE . 1\\nATOM 384 C CB . PHE 50 50 ? A -3.503965 -5.366682 -13.799011 1.000 1 A PHE . 1\\nATOM 385 O O . PHE 50 50 ? A -4.546025 -5.3973036 -16.59497 1.000 1 A PHE . 1\\nATOM 386 C CG . PHE 50 50 ? A -4.411061 -4.4478827 -13.0259905 1.000 1 A PHE . 1\\nATOM 387 C CD1 . PHE 50 50 ? A -4.9366803 -4.8370275 -11.800024 1.000 1 A PHE .\\n1\\nATOM 388 C CD2 . PHE 50 50 ? A -4.738294 -3.19411 -13.525813 1.000 1 A PHE . 1\\nATOM 389 C CE1 . PHE 50 50 ? A -5.776601 -3.9885836 -11.082296 1.000 1 A PHE . 1\\nATOM 390 C CE2 . PHE 50 50 ? A -5.5769544 -2.3407733 -12.814369 1.000 1 A PHE .\\n1\\nATOM 391 C CZ . PHE 50 50 ? A -6.095778 -2.7403116 -11.593381 1.000 1 A PHE . 1\\nATOM 392 N N . GLY 51 51 ? A -6.3329015 -6.200094 -15.605529 1.000 1 A GLY . 1\\nATOM 393 C CA . GLY 51 51 ? A -7.2493706 -5.7343473 -16.63408 1.000 1 A GLY . 1\\nATOM 394 C C . GLY 51 51 ? A -7.876203 -4.39122 -16.311 1.000 1 A GLY . 1\\nATOM 395 O O . GLY 51 51 ? A -8.326667 -4.165024 -15.185994 1.000 1 A GLY . 1\\nATOM 396 N N . ILE 52 52 ? A -7.831119 -3.2903743 -17.158962 1.000 1 A ILE . 1\\nATOM 397 C CA . ILE 52 52 ? A -8.506369 -2.000694 -17.064404 1.000 1 A ILE . 1\\nATOM 398 C C . ILE 52 52 ? A -9.42597 -1.8101777 -18.268465 1.000 1 A ILE . 1\\nATOM 399 C CB . ILE 52 52 ? A -7.4932494 -0.8375101 -16.974365 1.000 1 A ILE . 1\\nATOM 400 O O . ILE 52 52 ? A -8.963065 -1.7703934 -19.41088 1.000 1 A ILE . 1\\nATOM 401 C CG1 . ILE 52 52 ? A -6.549721 -1.0421298 -15.783564 1.000 1 A ILE . 1\\nATOM 402 C CG2 . ILE 52 52 ? A -8.221253 0.5059637 -16.871822 1.000 1 A ILE . 1\\nATOM 403 C CD1 . ILE 52 52 ? A -5.3580303 -0.09467113 -15.768105 1.000 1 A ILE .\\n1\\nATOM 404 N N . GLY 53 53 ? A -10.680773 -1.8724971 -18.008562 1.000 1 A GLY . 1\\nATOM 405 C CA . GLY 53 53 ? A -11.629338 -1.6197973 -19.081465 1.000 1 A GLY . 1\\nATOM 406 C C . GLY 53 53 ? A -11.71775 -2.7582223 -20.080194 1.000 1 A GLY . 1\\nATOM 407 O O . GLY 53 53 ? A -11.929458 -2.5295758 -21.272932 1.000 1 A GLY . 1\\nATOM 408 N N . GLY 54 54 ? A -11.4598875 -3.912446 -19.52195 1.000 1 A GLY . 1\\nATOM 409 C CA . GLY 54 54 ? A -11.560045 -5.097492 -20.35884 1.000 1 A GLY . 1\\nATOM 410 C C . GLY 54 54 ? A -10.264638 -5.435328 -21.072336 1.000 1 A GLY . 1\\nATOM 411 O O . GLY 54 54 ? A -10.214224 -6.3776064 -21.865614 1.000 1 A GLY . 1\\nATOM 412 N N . GLU 55 55 ? A -9.285527 -4.633893 -21.117191 1.000 1 A GLU . 1\\nATOM 413 C CA . GLU 55 55 ? A -7.985925 -4.8595567 -21.742664 1.000 1 A GLU . 1\\nATOM 414 C C . GLU 55 55 ? A -6.885739 -4.999346 -20.694464 1.000 1 A GLU . 1\\nATOM 415 C CB . GLU 55 55 ? A -7.6495457 -3.721517 -22.709723 1.000 1 A GLU . 1\\nATOM 416 O O . GLU 55 55 ? A -7.007144 -4.474387 -19.58568 1.000 1 A GLU . 1\\nATOM 417 C CG . GLU 55 55 ? A -8.625807 -3.5915112 -23.869852 1.000 1 A GLU . 1\\nATOM 418 C CD . GLU 55 55 ? A -8.23881 -2.50534 -24.860847 1.000 1 A GLU . 1\\nATOM 419 O OE1 . GLU 55 55 ? A -8.835799 -2.4455485 -25.959711 1.000 1 A GLU . 1\\nATOM 420 O OE2 . GLU 55 55 ? A -7.3305364 -1.7082481 -24.536161 1.000 1 A GLU .\\n1\\nATOM 421 N N . LEU 56 56 ? A -5.9382143 -5.7961664 -21.075106 1.000 1 A LEU . 1\\nATOM 422 C CA . LEU 56 56 ? A -4.783412 -5.8694754 -20.186722 1.000 1 A LEU . 1\\nATOM 423 C C . LEU 56 56 ? A -4.1404786 -4.4971356 -20.016588 1.000 1 A LEU . 1\\nATOM 424 C CB . LEU 56 56 ? A -3.7535496 -6.865029 -20.727154 1.000 1 A LEU . 1\\nATOM 425 O O . LEU 56 56 ? A -4.108057 -3.7011137 -20.957808 1.000 1 A LEU . 1\\nATOM 426 C CG . LEU 56 56 ? A -4.197139 -8.32696 -20.80004 1.000 1 A LEU . 1\\nATOM 427 C CD1 . LEU 56 56 ? A -3.1456623 -9.164595 -21.520155 1.000 1 A LEU . 1\\nATOM 428 C CD2 . LEU 56 56 ? A -4.4605165 -8.876457 -19.402187 1.000 1 A LEU . 1\\nATOM 429 N N . ALA 57 57 ? A -3.732947 -4.305519 -18.762556 1.000 1 A ALA . 1\\nATOM 430 C CA . ALA 57 57 ? A -3.0861614 -3.0233827 -18.495739 1.000 1 A ALA . 1\\nATOM 431 C C . ALA 57 57 ? A -1.8550391 -2.836031 -19.377735 1.000 1 A ALA . 1\\nATOM 432 C CB . ALA 57 57 ? A -2.7020671 -2.9176505 -17.021887 1.000 1 A ALA . 1\\nATOM 433 O O . ALA 57 57 ? A -1.4763077 -1.7057039 -19.693802 1.000 1 A ALA . 1\\nATOM 434 N N . SER 58 58 ? A -1.3534724 -3.9397664 -19.944098 1.000 1 A SER . 1\\nATOM 435 C CA . SER 58 58 ? A -0.18748514 -3.868106 -20.818615 1.000 1 A SER . 1\\nATOM 436 C C . SER 58 58 ? A -0.57467306 -3.4062967 -22.219488 1.000 1 A SER . 1\\nATOM 437 C CB . SER 58 58 ? A 0.50972563 -5.2269945 -20.895388 1.000 1 A SER . 1\\nATOM 438 O O . SER 58 58 ? A 0.27774155 -2.9571183 -22.988482 1.000 1 A SER . 1\\nATOM 439 O OG . SER 58 58 ? A -0.37596768 -6.219897 -21.383577 1.000 1 A SER . 1\\nATOM 440 N N . LYS 59 59 ? A -1.8269538 -3.2820446 -22.641449 1.000 1 A LYS . 1\\nATOM 441 C CA . LYS 59 59 ? A -2.2838821 -2.8579755 -23.961714 1.000 1 A LYS . 1\\nATOM 442 C C . LYS 59 59 ? A -2.5524406 -1.3561478 -23.994347 1.000 1 A LYS . 1\\nATOM 443 C CB . LYS 59 59 ? A -3.5441852 -3.624554 -24.365591 1.000 1 A LYS . 1\\nATOM 444 O O . LYS 59 59 ? A -2.2813804 -0.69340646 -24.99785 1.000 1 A LYS . 1\\nATOM 445 C CG . LYS 59 59 ? A -3.294935 -5.0836387 -24.71802 1.000 1 A LYS . 1\\nATOM 446 C CD . LYS 59 59 ? A -4.5649548 -5.7641497 -25.212309 1.000 1 A LYS . 1\\nATOM 447 C CE . LYS 59 59 ? A -4.322461 -7.230865 -25.541851 1.000 1 A LYS . 1\\nATOM 448 N NZ . LYS 59 59 ? A -5.570609 -7.908542 -26.00398 1.000 1 A LYS . 1\\n#\\n#\\nloop_\\n_atom_type.symbol\\nC\\nN\\nO\\nS\\n#\\n\",\"mmcif\");\n",
       "\tviewer_17532393316432252.addModel(\"2OP8\");\n",
       "\tviewer_17532393316432252.setStyle({\"chain\": \"A\"},{\"cartoon\": {\"color\": \"spectrum\"}});\n",
       "\tviewer_17532393316432252.zoomTo();\n",
       "viewer_17532393316432252.render();\n",
       "})\n",
       "});\n",
       "</script>"
      ]
     },
     "metadata": {},
     "output_type": "display_data"
    },
    {
     "data": {
      "text/plain": [
       "<py3Dmol.view at 0x310ab9f70>"
      ]
     },
     "execution_count": 26,
     "metadata": {},
     "output_type": "execute_result"
    }
   ],
   "source": [
    "import py3Dmol\n",
    "\n",
    "# view = py3Dmol.view()\n",
    "view = py3Dmol.view(query='2OP8')\n",
    "\n",
    "with open('prediction.mmcif', 'r') as f:\n",
    "    data = f.read()\n",
    "view.addModel(data, 'mmcif')\n",
    "view.addModel('2OP8')\n",
    "view.setStyle({'chain': 'A'}, {'cartoon': {'color':'spectrum'}})\n",
    "view.zoomTo()\n",
    "view"
   ]
  },
  {
   "cell_type": "markdown",
   "metadata": {},
   "source": [
    "If you are working in Colab, you can run the following cell to download the resulting mmcif file. Open the file in a protein view like ChimeraX on your local machine. Load the crystal structure as well. You can use the 'Tools -> Structure Analysis -> Matchmaker' to align your prediction with the template. The root mean square deviation (the error) for the alignment should be really small."
   ]
  },
  {
   "cell_type": "code",
   "execution_count": 14,
   "metadata": {},
   "outputs": [],
   "source": [
    "# If you're in Colab, you can run this cell to download your prediction\n",
    "if IN_COLAB:\n",
    "    from google.colab import files # type: ignore\n",
    "    files.download('model/prediction.mmcif')"
   ]
  }
 ],
 "metadata": {
  "kernelspec": {
   "display_name": "alphafold",
   "language": "python",
   "name": "python3"
  },
  "language_info": {
   "codemirror_mode": {
    "name": "ipython",
    "version": 3
   },
   "file_extension": ".py",
   "mimetype": "text/x-python",
   "name": "python",
   "nbconvert_exporter": "python",
   "pygments_lexer": "ipython3",
   "version": "3.9.23"
  }
 },
 "nbformat": 4,
 "nbformat_minor": 2
}
